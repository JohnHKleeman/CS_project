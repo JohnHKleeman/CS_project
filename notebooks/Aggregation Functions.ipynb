{
 "cells": [
  {
   "cell_type": "code",
   "execution_count": 2,
   "metadata": {
    "collapsed": true
   },
   "outputs": [],
   "source": [
    "import pandas as pd\n",
    "\n",
    "df = pd.read_pickle(\"johns_dataset.pkl\")"
   ]
  },
  {
   "cell_type": "code",
   "execution_count": 3,
   "metadata": {},
   "outputs": [
    {
     "name": "stdout",
     "output_type": "stream",
     "text": [
      "df.shape:  (148481, 341)\n",
      "team_stats:  ['index', 'map', 'round_num', 'half', 'match_id', 'series_id', 'ending', 'CT', 'T', 'side_winner', 'winner', 'team_A', 'team_B', 'team_A_score', 'team_B_score', 'match_num', 'team_players', 'K-D', '+/-', 'ADR', 'KAST', 'Rating2.0', 'nicknames', 'player_team_name', 'date', 'loser_of_match', 'team_B_name', 'team_A_name']\n"
     ]
    }
   ],
   "source": [
    "#setting up the variables to use for testing\n",
    "\n",
    "matches = df.match_id\n",
    "test_match = matches[0]\n",
    "\n",
    "series = df.series_id\n",
    "test_series_id = series[0]\n",
    "\n",
    "print 'df.shape: ', df.shape\n",
    "\n",
    "columns = df.columns.tolist()\n",
    "columns.index('nicknames')\n",
    "team_level_stats = columns[:23] +['player_team_name', 'date', 'loser_of_match', 'team_B_name', 'team_A_name']\n",
    "print 'team_stats: ', team_level_stats\n",
    "\n",
    "test_series = df.loc[df.series_id == test_series_id, team_level_stats]\n",
    "test_series = test_series.sort_values(['match_num', 'round_num'])"
   ]
  },
  {
   "cell_type": "code",
   "execution_count": 7,
   "metadata": {
    "collapsed": true
   },
   "outputs": [],
   "source": [
    "def create_series_df(series_id, df, team_level_stats):    \n",
    "    nicknames = df.loc[df.series_id == series_id, 'nicknames'].unique().tolist()\n",
    "    kill_cols = find_kill_cols(nicknames, df)\n",
    "    series_df = df.loc[df.series_id == series_id, team_level_stats + kill_cols].sort_values(['player_team_name','match_num', 'round_num'])\n",
    "    return series_df\n",
    "\n",
    "def find_kill_cols(nicknames, df):    \n",
    "    kill_cols = []\n",
    "    for col in columns:\n",
    "        col_words = col.split('_')\n",
    "        for word in col_words:\n",
    "            if word in nicknames:\n",
    "                kill_cols.append(col)\n",
    "    return kill_cols\n",
    "\n",
    "def parse_series_df(df):\n",
    "    team_dfs = df.groupby('player_team_name')\n",
    "    team_match_data = \n",
    "    for team, team_df in team_dfs:\n",
    "         = parse_team_series_df(team_df)\n",
    "            \n",
    "df = create_series_df(test_series_id, df, team_level_stats)\n",
    "df.to_excel('test_series.xlsx')\n",
    "\n",
    "player_round_one_match = df.loc[(df.player_team_name == 'NRG')&(df.match_id == 'bdb303e1-a3f8-41a5-b6c0-8145f4ea3ef7'),:]\n",
    "player_round_one_match.to_excel('one_match.xlsx')\n",
    "\n",
    "grouped = player_round_one_match.groupby('nicknames')\n",
    "name, test_player_df = grouped.__iter__().next()\n",
    "test_player_df.to_excel('Anj_one_match.xlsx')"
   ]
  },
  {
   "cell_type": "code",
   "execution_count": null,
   "metadata": {
    "collapsed": true
   },
   "outputs": [],
   "source": [
    "def player_round_to_player_match(data):\n",
    "    for series_id in data.series_id.unique():\n",
    "        series_df = create_series_df(series_id, data, team_level_stats)\n",
    "        "
   ]
  },
  {
   "cell_type": "code",
   "execution_count": 19,
   "metadata": {
    "collapsed": true
   },
   "outputs": [],
   "source": [
    "def aggregate_team_match_data(df):\n",
    "    \n",
    "    team_name = df.player_team_name.values[0]\n",
    "    possible_teams = (df.team_A_name.values[0], df.team_B_name.values[0])\n",
    "    match_id = df.match_id.values[0]\n",
    "    match_num = df.match_num.values[0]\n",
    "    date = df.date.values[0]\n",
    "    map_name = df.map.values[0]\n",
    "    \n",
    "    if team_name == possible_teams[0]:\n",
    "        opponent_name = possible_teams[1]\n",
    "    else:\n",
    "        opponent_name = possible_teams[0]\n",
    "    \n",
    "    if team_name == possible_teams[0]:\n",
    "        score = df.team_A_score\n",
    "        opponent_score = df.team_B_score\n",
    "    else:\n",
    "        score = df.team_B_score\n",
    "        opponent_score = df.team_A_score\n",
    "        \n",
    "    \n",
    "        \n",
    "    if df.winner_of_match.values[0] == team_name:\n",
    "        won_match = True\n",
    "    else:\n",
    "        won_match = False\n",
    "    \n",
    "    ct_played = (df.loc[:, 'CT'] == team_name).sum()\n",
    "    t_played = (df.loc[:, 'T'] == team_name).sum()\n",
    "    \n",
    "    ct_won = (df.loc[df.CT == team_name, 'side_winner'] == 'CT').sum()\n",
    "    t_won = (df.loc[df.C == team_name, 'side_winner'] == 'T').sum()\n",
    "    \n",
    "    bomb_defused_count = df.loc[(df.loc[df.CT == team_name, 'side_winner'] == 'CT'), 'ending'] = 'bomb_defused'\n",
    "    bomb_exploded_count = df.loc[(df.loc[df.T == team_name, 'side_winner'] == 'T'), 'ending'] = 'bomb_exploded'\n",
    "    \n",
    "    "
   ]
  },
  {
   "cell_type": "code",
   "execution_count": 22,
   "metadata": {},
   "outputs": [],
   "source": [
    "def parse_individual_player_match_data(df):\n",
    "    \n",
    "    player_data = pd.Series()\n",
    "    \n",
    "    name = df.nicknames.values[0]\n",
    "    \n",
    "    first_kill_columns = [col for col in df.columns if 'first_kill' in col]\n",
    "    awp_kill_columns = [col for col in df.columns if 'awp_kills' in col]\n",
    "    total_kill_columns = [col for col in df.columns if 'who_kill_who' in col]\n",
    "    \n",
    "    individual_kill_stats = df.loc[df.index[0], total_kill_columns + awp_kill_columns + first_kill_columns]\n",
    "    #new_kill_column_names = [name + '_' + col for col in total_kill_columns + awp_kill_columns + first_kill_columns]\n",
    "    #individual_kill_stats.index = new_kill_column_names\n",
    "    individual_kill_stats.dropna(inplace=True)\n",
    "    \n",
    "    adr = df.ADR.values[0]\n",
    "    rating = df.loc[:,'Rating2.0'].values[0]\n",
    "    total_kills = int(df.loc[:,'K-D'].values[0].split('-')[0])\n",
    "    total_deaths = int(df.loc[:,'K-D'].values[0].split('-')[1])\n",
    "    kast = df.loc[:,'KAST'].values[0]\n",
    "    plus_minus = total_kills - total_deaths\n",
    "    \n",
    "    player_data['name'] = name \n",
    "    player_data['ADR'] = adr\n",
    "    player_data['rating'] = rating\n",
    "    player_data['total_deaths'] = total_deaths\n",
    "    player_data['KAST'] = kast\n",
    "    player_data['plus_minus'] = plus_minus\n",
    "    \n",
    "    player_data = player_data.append(individual_kill_stats)\n",
    "    \n",
    "    #adding name to kill columns\n",
    "    \n",
    "    \n",
    "    return player_data"
   ]
  },
  {
   "cell_type": "code",
   "execution_count": 23,
   "metadata": {},
   "outputs": [
    {
     "data": {
      "text/plain": [
       "name                      AnJ\n",
       "ADR                      55.3\n",
       "rating                   0.89\n",
       "total_deaths               19\n",
       "KAST                    72.0%\n",
       "plus_minus                 -5\n",
       "shinobi_who_kill_who        2\n",
       "cadiaN_who_kill_who         2\n",
       "Hiko_who_kill_who           3\n",
       "wrath_who_kill_who          4\n",
       "vice_who_kill_who           3\n",
       "wrath_awp_kills             0\n",
       "cadiaN_awp_kills            0\n",
       "Hiko_awp_kills              0\n",
       "shinobi_awp_kills           0\n",
       "vice_awp_kills              0\n",
       "wrath_first_kills           2\n",
       "vice_first_kills            1\n",
       "cadiaN_first_kills          1\n",
       "Hiko_first_kills            0\n",
       "shinobi_first_kills         0\n",
       "dtype: object"
      ]
     },
     "execution_count": 23,
     "metadata": {},
     "output_type": "execute_result"
    }
   ],
   "source": [
    "parse_individual_player_match_data(test_player_df)"
   ]
  },
  {
   "cell_type": "code",
   "execution_count": null,
   "metadata": {
    "collapsed": true
   },
   "outputs": [],
   "source": [
    "test_player_df."
   ]
  }
 ],
 "metadata": {
  "kernelspec": {
   "display_name": "Python 2",
   "language": "python",
   "name": "python2"
  },
  "language_info": {
   "codemirror_mode": {
    "name": "ipython",
    "version": 2
   },
   "file_extension": ".py",
   "mimetype": "text/x-python",
   "name": "python",
   "nbconvert_exporter": "python",
   "pygments_lexer": "ipython2",
   "version": "2.7.14"
  }
 },
 "nbformat": 4,
 "nbformat_minor": 2
}
