{
 "cells": [
  {
   "cell_type": "code",
   "execution_count": 42,
   "metadata": {
    "collapsed": true
   },
   "outputs": [],
   "source": [
    "import cPickle as pkl\n",
    "from cspython.scraper import modifiedSoup\n",
    "from cspython.data_processing import process_scrapped\n",
    "from cspython.analysis import roster_match\n",
    "import cPickle as pkl\n",
    "import sys\n",
    "sys.setrecursionlimit(15000)\n",
    "import pandas as pd\n",
    "import itertools"
   ]
  },
  {
   "cell_type": "code",
   "execution_count": 2,
   "metadata": {
    "collapsed": true
   },
   "outputs": [],
   "source": [
    "with open('../cspython/BIG_2016-10-01_to_2017-10-13.pkl', 'rb') as f:\n",
    "    d = pkl.load(f)\n",
    "    \n",
    "big_data = process_scrapped(d)\n",
    "overview, big_data = big_data"
   ]
  },
  {
   "cell_type": "code",
   "execution_count": 3,
   "metadata": {
    "collapsed": true
   },
   "outputs": [],
   "source": [
    "cur_roster = ['gob b', 'LEGIJA', 'tabseN', 'nex', 'keev', 'kakafu'] "
   ]
  },
  {
   "cell_type": "code",
   "execution_count": 19,
   "metadata": {
    "collapsed": true
   },
   "outputs": [],
   "source": [
    "m = roster_match(big_data, 'BIG', cur_roster)"
   ]
  },
  {
   "cell_type": "code",
   "execution_count": 26,
   "metadata": {
    "collapsed": false
   },
   "outputs": [],
   "source": [
    "total_matches = []\n",
    "for idx in m.index:\n",
    "    series = big_data[idx]\n",
    "    if 'Dust2' not in series['map_pool']:\n",
    "        total_matches.append(idx)"
   ]
  },
  {
   "cell_type": "code",
   "execution_count": 62,
   "metadata": {
    "collapsed": false
   },
   "outputs": [],
   "source": [
    "mp = d[0]['map_pool']"
   ]
  },
  {
   "cell_type": "code",
   "execution_count": 36,
   "metadata": {
    "collapsed": false
   },
   "outputs": [],
   "source": [
    "vm = create_veto_matrix(total_matches, big_data, mp, 'BIG')"
   ]
  },
  {
   "cell_type": "code",
   "execution_count": 37,
   "metadata": {
    "collapsed": false
   },
   "outputs": [
    {
     "data": {
      "text/plain": [
       "Cache          -31\n",
       "Mirage          46\n",
       "Inferno         32\n",
       "Nuke           250\n",
       "Train           13\n",
       "Cobblestone     47\n",
       "Overpass        12\n",
       "dtype: int64"
      ]
     },
     "execution_count": 37,
     "metadata": {},
     "output_type": "execute_result"
    }
   ],
   "source": [
    "vm.sum(1)"
   ]
  },
  {
   "cell_type": "code",
   "execution_count": 39,
   "metadata": {
    "collapsed": false
   },
   "outputs": [],
   "source": [
    "vm.to_excel('veto_comparison.xlsx')"
   ]
  },
  {
   "cell_type": "code",
   "execution_count": 55,
   "metadata": {
    "collapsed": false
   },
   "outputs": [],
   "source": [
    "new_vm = pd.DataFrame()\n",
    "for row_map, col_map in itertools.product(vm.index, vm.index):\n",
    "    score = vm.loc[col_map, row_map] - vm.loc[row_map, col_map]\n",
    "    new_vm.loc[row_map, col_map] = score"
   ]
  },
  {
   "cell_type": "code",
   "execution_count": 100,
   "metadata": {
    "collapsed": false
   },
   "outputs": [],
   "source": [
    "new_vm.to_excel('map_preference.xlsx')"
   ]
  },
  {
   "cell_type": "code",
   "execution_count": 56,
   "metadata": {
    "collapsed": false
   },
   "outputs": [
    {
     "data": {
      "text/plain": [
       "Cache           96.0\n",
       "Mirage           5.0\n",
       "Inferno         26.0\n",
       "Nuke          -228.0\n",
       "Train           45.0\n",
       "Cobblestone      5.0\n",
       "Overpass        51.0\n",
       "dtype: float64"
      ]
     },
     "execution_count": 56,
     "metadata": {},
     "output_type": "execute_result"
    }
   ],
   "source": [
    "new_vm.sum(1)"
   ]
  },
  {
   "cell_type": "code",
   "execution_count": 57,
   "metadata": {
    "collapsed": true
   },
   "outputs": [],
   "source": [
    "new_vm.loc['sum',:] =  new_vm.sum()\n",
    "new_vm.loc[:,'sum']=  new_vm.sum(1)"
   ]
  },
  {
   "cell_type": "code",
   "execution_count": 70,
   "metadata": {
    "collapsed": false
   },
   "outputs": [],
   "source": [
    "new_vm.loc[:, 'vetoed by BIG'] = (r/61).round(3)"
   ]
  },
  {
   "cell_type": "code",
   "execution_count": 99,
   "metadata": {
    "collapsed": true
   },
   "outputs": [],
   "source": [
    "new_vm.loc[:, 'picked by BIG'] = r_picked.round(3)"
   ]
  },
  {
   "cell_type": "code",
   "execution_count": 98,
   "metadata": {
    "collapsed": false
   },
   "outputs": [
    {
     "data": {
      "text/plain": [
       "Cache          0.300\n",
       "Mirage         0.075\n",
       "Inferno        0.150\n",
       "Nuke           0.000\n",
       "Train          0.150\n",
       "Cobblestone    0.150\n",
       "Overpass       0.175\n",
       "dtype: float64"
      ]
     },
     "execution_count": 98,
     "metadata": {},
     "output_type": "execute_result"
    }
   ],
   "source": [
    "r_picked"
   ]
  },
  {
   "cell_type": "code",
   "execution_count": 83,
   "metadata": {
    "collapsed": false
   },
   "outputs": [],
   "source": [
    "new_vm.to_excel('map_preference.xlsx')"
   ]
  },
  {
   "cell_type": "code",
   "execution_count": 27,
   "metadata": {
    "collapsed": true
   },
   "outputs": [],
   "source": [
    "def create_veto_matrix(matche_idxs, serieses, map_pool, team_name):\n",
    "    veto_matrix = pd.DataFrame(index=map_pool, columns=map_pool).fillna(0)\n",
    "    for idx in matche_idxs:\n",
    "        vetos= serieses[idx]['vetos']\n",
    "        remaining = list(map_pool)\n",
    "        if vetos is None:\n",
    "            continue\n",
    "        for v in vetos:\n",
    "            picked_map = False\n",
    "            if 'left over' in v:\n",
    "                continue\n",
    "            if team_name not in v:\n",
    "                remaining.remove(v.split(' ')[-1])\n",
    "            else:\n",
    "                if 'picked' in v:\n",
    "                    picked_map = v.split('picked')[-1].strip()\n",
    "                elif 'removed' in v:\n",
    "                    removed_map = v.split('removed')[-1].strip()\n",
    "                if picked_map:\n",
    "                    remaining.remove(picked_map)\n",
    "                    for m in remaining:\n",
    "                        veto_matrix.loc[picked_map, m] -= 1\n",
    "                else:\n",
    "                    remaining.remove(removed_map)\n",
    "                    for m in remaining:\n",
    "                        veto_matrix.loc[removed_map, m] += 1\n",
    "\n",
    "    return veto_matrix"
   ]
  },
  {
   "cell_type": "code",
   "execution_count": 64,
   "metadata": {
    "collapsed": false
   },
   "outputs": [],
   "source": [
    "team_name = 'BIG'\n",
    "def num_times_vetoted(mp, d, team_name)\n",
    "    r = pd.Series(index=mp).fillna(0)\n",
    "    count = 0\n",
    "    for s in d:\n",
    "        if 'Dust2' in s['map_pool'] or s['vetos'] == []:\n",
    "            continue\n",
    "        maps_remaining = list(s['map_pool'])\n",
    "        for v in s['vetos']:\n",
    "            if 'left over' in v:\n",
    "                continue\n",
    "            if team_name not in v:\n",
    "                maps_remaining.remove(v.split(' ')[len(v.split(' '))-1])\n",
    "            else:\n",
    "                if 'removed' in v:\n",
    "                    map_vetoed = v.split(' ')[len(v.split(' '))-1]\n",
    "                    r.loc[map_vetoed] += 1 \n",
    "        count += 1\n",
    "    return r/c"
   ]
  },
  {
   "cell_type": "code",
   "execution_count": 92,
   "metadata": {
    "collapsed": false
   },
   "outputs": [],
   "source": [
    "\n",
    "def num_times_selected(mp, d, team_name):\n",
    "    r = pd.Series(index=mp).fillna(0)\n",
    "    count = 0\n",
    "    for s in d:\n",
    "        if 'Dust2' in s['map_pool'] or s['vetos'] == []:\n",
    "            continue\n",
    "        maps_remaining = list(s['map_pool'])\n",
    "        for v in s['vetos']:\n",
    "            if 'left over' in v:\n",
    "                continue\n",
    "            if team_name not in v:\n",
    "                maps_remaining.remove(v.split(' ')[len(v.split(' '))-1])\n",
    "            else:\n",
    "                if 'picked' in v:\n",
    "                    map_picked = v.split(' ')[len(v.split(' '))-1]\n",
    "                    r.loc[map_picked] += 1 \n",
    "                    count += 1\n",
    "    return r/count"
   ]
  },
  {
   "cell_type": "code",
   "execution_count": 93,
   "metadata": {
    "collapsed": false
   },
   "outputs": [],
   "source": [
    "r_picked = num_times_selected(mp, d, 'BIG')"
   ]
  },
  {
   "cell_type": "code",
   "execution_count": 96,
   "metadata": {
    "collapsed": false
   },
   "outputs": [
    {
     "data": {
      "text/plain": [
       "Cache          0.300\n",
       "Mirage         0.075\n",
       "Inferno        0.150\n",
       "Nuke           0.000\n",
       "Train          0.150\n",
       "Cobblestone    0.150\n",
       "Overpass       0.175\n",
       "dtype: float64"
      ]
     },
     "execution_count": 96,
     "metadata": {},
     "output_type": "execute_result"
    }
   ],
   "source": [
    "r_picked"
   ]
  },
  {
   "cell_type": "code",
   "execution_count": 91,
   "metadata": {
    "collapsed": false
   },
   "outputs": [
    {
     "name": "stdout",
     "output_type": "stream",
     "text": [
      "##########################################\n",
      "1. NiP removed Overpass\n",
      "2. BIG removed Nuke\n",
      "3. NiP picked Train\n",
      "4. BIG picked Cache\n",
      "5. NiP removed Cobblestone\n",
      "6. BIG removed Inferno\n",
      "7. Mirage was left over\n",
      "##########################################\n",
      "1. PRIDE removed Overpass\n",
      "2. BIG removed Nuke\n",
      "3. PRIDE picked Train\n",
      "4. BIG picked Cache\n",
      "5. PRIDE removed Inferno\n",
      "6. BIG removed Mirage\n",
      "7. Cobblestone was left over\n",
      "##########################################\n",
      "1. BIG removed Nuke\n",
      "2. mousesports removed Overpass\n",
      "3. BIG picked Cache\n",
      "4. mousesports picked Cobblestone\n",
      "5. BIG removed Inferno\n",
      "6. mousesports removed Train\n",
      "7. Mirage was left over\n",
      "##########################################\n",
      "1. Space Soldiers removed Inferno\n",
      "2. BIG removed Nuke\n",
      "3. Space Soldiers picked Cache\n",
      "4. BIG picked Overpass\n",
      "5. Space Soldiers removed Train\n",
      "6. BIG removed Cobblestone\n",
      "7. Mirage was left over\n",
      "##########################################\n",
      "1. BIG removed Nuke\n",
      "2. EURONICS removed Mirage\n",
      "3. BIG picked Cache\n",
      "4. EURONICS picked Cobblestone\n",
      "5. BIG removed Train\n",
      "6. EURONICS removed Inferno\n",
      "7. Overpass was left over\n",
      "##########################################\n",
      "1. BIG removed Nuke\n",
      "2. AYB removed Cache\n",
      "3. BIG picked Overpass\n",
      "4. AYB picked Train\n",
      "5. BIG removed Inferno\n",
      "6. AYB removed Mirage\n",
      "7. Cobblestone was left over\n",
      "##########################################\n",
      "1. FaZe removed Cobblestone\n",
      "2. BIG removed Nuke\n",
      "3. FaZe picked Mirage\n",
      "4. BIG picked Cache\n",
      "5. FaZe removed Train\n",
      "6. BIG removed Inferno\n",
      "7. Overpass was left over\n",
      "##########################################\n",
      "1. BIG removed Nuke\n",
      "2. Liquid removed Cache\n",
      "3. BIG picked Train\n",
      "4. Liquid picked Mirage\n",
      "5. BIG removed Inferno\n",
      "6. Liquid removed Overpass\n",
      "7. Cobblestone was left over\n",
      "##########################################\n",
      "1. EnVyUs removed Overpass\n",
      "2. BIG removed Nuke\n",
      "3. EnVyUs picked Inferno\n",
      "4. BIG picked Mirage\n",
      "5. EnVyUs removed Cache\n",
      "6. BIG removed Cobblestone\n",
      "7. Train was left over\n",
      "##########################################\n",
      "1. Liquid removed Cache\n",
      "2. BIG removed Nuke\n",
      "3. Liquid removed Train\n",
      "4. BIG removed Mirage\n",
      "5. Liquid removed Inferno\n",
      "6. BIG removed Cobblestone\n",
      "7. Overpass was left over\n",
      "##########################################\n",
      "1. BIG removed Nuke\n",
      "2. Tricked removed Cache\n",
      "3. BIG removed Overpass\n",
      "4. Tricked removed Inferno\n",
      "5. BIG removed Mirage\n",
      "6. Tricked removed Cobblestone\n",
      "7. Train was left over\n",
      "##########################################\n",
      "1. BIG removed Nuke\n",
      "2. Gambit removed Inferno\n",
      "3. BIG picked Train\n",
      "4. Gambit picked Overpass\n",
      "5. BIG removed Cobblestone\n",
      "6. Gambit removed Cache\n",
      "7. Mirage was left over\n",
      "##########################################\n",
      "1. BIG removed Nuke\n",
      "2. NiP removed Cobblestone\n",
      "3. BIG picked Train\n",
      "4. NiP picked Cache\n",
      "5. BIG removed Overpass\n",
      "6. NiP removed Inferno\n",
      "7. Mirage was left over\n",
      "##########################################\n",
      "1. Immortals removed Nuke\n",
      "2. BIG removed Overpass\n",
      "3. Immortals picked Cobblestone\n",
      "4. BIG picked Inferno\n",
      "5. BIG removed Mirage\n",
      "6. Immortals removed Cache\n",
      "7. Train was left over\n",
      "##########################################\n",
      "1. BIG removed Mirage\n",
      "2. BIG removed Overpass\n",
      "3. SK removed Nuke\n",
      "4. SK removed Cache\n",
      "5. SK removed Train\n",
      "6. BIG removed Cobblestone\n",
      "7. Inferno was left over\n",
      "##########################################\n",
      "1. BIG removed Mirage\n",
      "2. BIG removed Train\n",
      "3. Cloud9 removed Overpass\n",
      "4. Cloud9 removed Cache\n",
      "5. Cloud9 removed Cobblestone\n",
      "6. BIG removed Nuke\n",
      "7. Inferno was left over\n",
      "##########################################\n",
      "1. FaZe removed Cobblestone\n",
      "2. FaZe removed Cache\n",
      "3. BIG removed Nuke\n",
      "4. BIG removed Mirage\n",
      "5. BIG removed Overpass\n",
      "6. FaZe removed Train\n",
      "7. Inferno was left over\n",
      "##########################################\n",
      "1. BIG removed Nuke\n",
      "2. Liquid removed Cache\n",
      "3. BIG removed Cobblestone\n",
      "4. Liquid removed Inferno\n",
      "5. BIG removed Mirage\n",
      "6. Liquid removed Overpass\n",
      "7. Train was left over\n",
      "##########################################\n",
      "1. Immortals removed Train\n",
      "2. BIG removed Cobblestone\n",
      "3. Immortals removed Nuke\n",
      "4. BIG removed Inferno\n",
      "5. Immortals removed Overpass\n",
      "6. BIG removed Mirage\n",
      "7. Cache was left over\n",
      "##########################################\n",
      "1. BIG removed Mirage\n",
      "2. Tengri removed Train\n",
      "3. BIG removed Nuke\n",
      "4. Tengri removed Cache\n",
      "5. BIG removed Inferno\n",
      "6. Tengri removed Overpass\n",
      "7. Cobblestone was left over\n",
      "##########################################\n",
      "1. Cloud9 removed Overpass\n",
      "2. BIG removed Nuke\n",
      "3. Cloud9 removed Inferno\n",
      "4. BIG removed Mirage\n",
      "5. Cloud9 removed Cache\n",
      "6. BIG removed Train\n",
      "7. Cobblestone was left over\n",
      "##########################################\n",
      "1. PENTA removed Mirage\n",
      "2. BIG removed Nuke\n",
      "3. PENTA picked Train\n",
      "4. BIG picked Overpass\n",
      "5. BIG removed Inferno\n",
      "6. PENTA removed Cache\n",
      "7. Cobblestone was left over\n",
      "##########################################\n",
      "1. dignitas removed Cobblestone\n",
      "2. BIG removed Nuke\n",
      "3. dignitas picked Cache\n",
      "4. BIG picked Overpass\n",
      "5. BIG removed Inferno\n",
      "6. dignitas removed Train\n",
      "7. Mirage was left over\n",
      "##########################################\n",
      "1. EnVyUs removed Mirage\n",
      "2. BIG removed Nuke\n",
      "3. EnVyUs picked Cobblestone\n",
      "4. BIG picked Overpass\n",
      "5. BIG removed Inferno\n",
      "6. EnVyUs removed Cache\n",
      "7. Train was left over\n",
      "##########################################\n",
      "1. dignitas removed Cobblestone\n",
      "2. BIG removed Nuke\n",
      "3. dignitas picked Mirage\n",
      "4. BIG picked Inferno\n",
      "5. BIG removed Overpass\n",
      "6. dignitas removed Train\n",
      "7. Cache was left over\n",
      "##########################################\n",
      "1. BIG removed Nuke\n",
      "2. Ballistix removed Train\n",
      "3. BIG removed Cache\n",
      "4. Ballistix removed Inferno\n",
      "5. BIG removed Mirage\n",
      "6. Ballistix removed Overpass\n",
      "7. Cobblestone was left over\n",
      "##########################################\n",
      "1. Kinguin removed Cache\n",
      "2. BIG removed Mirage\n",
      "3. Kinguin removed Inferno\n",
      "4. BIG removed Overpass\n",
      "5. Kinguin removed Cobblestone\n",
      "6. BIG removed Nuke\n",
      "7. Train was left over\n",
      "##########################################\n",
      "1. BIG removed Nuke\n",
      "2. PENTA removed Mirage\n",
      "3. BIG picked Cobblestone\n",
      "4. PENTA picked Train\n",
      "5. BIG removed Inferno\n",
      "6. PENTA removed Overpass\n",
      "7. Cache was left over\n",
      "##########################################\n",
      "1. Red Reserve removed Cache\n",
      "2. BIG removed Nuke\n",
      "3. Red Reserve picked Mirage\n",
      "4. BIG picked Inferno\n",
      "5. Red Reserve removed Train\n",
      "6. BIG removed Overpass\n",
      "7. Cobblestone was left over\n",
      "##########################################\n",
      "1. BIG removed Nuke\n",
      "2. North Academy removed Overpass\n",
      "3. BIG picked Mirage\n",
      "4. North Academy picked Train\n",
      "5. BIG removed Cache\n",
      "6. North Academy removed Cobblestone\n",
      "7. Inferno was left over\n",
      "##########################################\n",
      "1. PRIDE removed Overpass\n",
      "2. BIG removed Nuke\n",
      "3. PRIDE picked Train\n",
      "4. BIG picked Inferno\n",
      "5. PRIDE removed Cobblestone\n",
      "6. BIG removed Mirage\n",
      "7. Cache was left over\n",
      "##########################################\n",
      "1. BIG removed Nuke\n",
      "2. Singularity removed Cache\n",
      "3. BIG picked Inferno\n",
      "4. Singularity picked Overpass\n",
      "5. BIG removed Mirage\n",
      "6. Singularity removed Train\n",
      "7. Cobblestone was left over\n",
      "##########################################\n",
      "1. LDLC removed Mirage\n",
      "2. BIG removed Nuke\n",
      "3. LDLC picked Inferno\n",
      "4. BIG picked Train\n",
      "5. LDLC removed Cache\n",
      "6. BIG removed Overpass\n",
      "7. Cobblestone was left over\n",
      "##########################################\n",
      "1. BIG removed Nuke\n",
      "2. Heroic removed Cache\n",
      "3. BIG picked Cobblestone\n",
      "4. Heroic picked Mirage\n",
      "5. BIG removed Overpass\n",
      "6. Heroic removed Inferno\n",
      "7. Train was left over\n",
      "##########################################\n",
      "1. BIG removed Nuke\n",
      "2. FlipSid3 removed Cobblestone\n",
      "3. BIG picked Cache\n",
      "4. FlipSid3 picked Overpass\n",
      "5. BIG removed Train\n",
      "6. FlipSid3 removed Mirage\n",
      "7. Inferno was left over\n",
      "##########################################\n",
      "1. BIG removed Nuke\n",
      "2. fnatic Academy removed Inferno\n",
      "3. BIG removed Overpass\n",
      "4. fnatic Academy removed Mirage\n",
      "5. BIG removed Cobblestone\n",
      "6. fnatic Academy removed Train\n",
      "7. Cache was left over\n",
      "##########################################\n",
      "1. BIG removed Nuke\n",
      "2. PENTA removed Mirage\n",
      "3. BIG removed Train\n",
      "4. PENTA removed Overpass\n",
      "5. BIG removed Cobblestone\n",
      "6. PENTA removed Cache\n",
      "7. Inferno was left over\n",
      "##########################################\n",
      "1. BIG removed Nuke\n",
      "2. iGame.com removed Cobblestone\n",
      "3. BIG removed Train\n",
      "4. iGame.com removed Cache\n",
      "5. BIG removed Overpass\n",
      "6. iGame.com removed Inferno\n",
      "7. Mirage was left over\n",
      "##########################################\n",
      "1. PENTA removed Overpass\n",
      "2. BIG removed Nuke\n",
      "3. PENTA picked Inferno\n",
      "4. BIG picked Cobblestone\n",
      "5. PENTA removed Cache\n",
      "6. BIG removed Train\n",
      "7. Mirage was left over\n",
      "##########################################\n",
      "1. BIG removed Nuke\n",
      "2. HellRaisers removed Inferno\n",
      "3. BIG picked Cobblestone\n",
      "4. HellRaisers picked Overpass\n",
      "5. BIG removed Mirage\n",
      "6. HellRaisers removed Cache\n",
      "7. Train was left over\n",
      "##########################################\n",
      "1. BIG removed Nuke\n",
      "2. Virtus.pro removed Cache\n",
      "3. BIG picked Inferno\n",
      "4. Virtus.pro picked Cobblestone\n",
      "5. BIG removed Mirage\n",
      "6. Virtus.pro removed Overpass\n",
      "7. Train was left over\n",
      "##########################################\n",
      "1. BIG removed Nuke\n",
      "2. PENTA removed Overpass\n",
      "3. BIG picked Cache\n",
      "4. PENTA picked Inferno\n",
      "5. BIG removed Train\n",
      "6. PENTA removed Cobblestone\n",
      "7. Mirage was left over\n",
      "##########################################\n",
      "1. GODSENT removed Cobblestone\n",
      "2. BIG removed Nuke\n",
      "3. GODSENT picked Cache\n",
      "4. BIG picked Overpass\n",
      "5. GODSENT removed Inferno\n",
      "6. BIG removed Mirage\n",
      "7. Train was left over\n",
      "##########################################\n",
      "1. BIG removed Cobblestone\n",
      "2. Splyce removed Cache\n",
      "3. BIG removed Train\n",
      "4. Splyce removed Overpass\n",
      "5. BIG removed Nuke\n",
      "6. Splyce removed Inferno\n",
      "7. Mirage was left over\n",
      "##########################################\n",
      "1. Ghost removed Mirage\n",
      "2. BIG removed Cobblestone\n",
      "3. Ghost removed Cache\n",
      "4. BIG removed Nuke\n",
      "5. Ghost removed Overpass\n",
      "6. BIG removed Train\n",
      "7. Inferno was left over\n",
      "##########################################\n",
      "1. ALTERNATE aTTaX removed Overpass\n",
      "2. BIG removed Nuke\n",
      "3. ALTERNATE aTTaX removed Mirage\n",
      "4. BIG removed Cobblestone\n",
      "5. ALTERNATE aTTaX picked Cache\n",
      "6. BIG picked Train\n",
      "7. Inferno was left over\n",
      "##########################################\n",
      "1. PANTHERS removed Inferno\n",
      "2. BIG removed Nuke\n",
      "3. PANTHERS removed Train\n",
      "4. BIG removed Cache\n",
      "5. PANTHERS picked Mirage\n",
      "6. BIG picked Cobblestone\n",
      "7. Overpass was left over\n",
      "##########################################\n",
      "1. passions removed Train\n",
      "2. BIG removed Mirage\n",
      "3. passions removed Inferno\n",
      "4. BIG removed Cobblestone\n",
      "5. passions removed Cache\n",
      "6. BIG removed Nuke\n",
      "7. Overpass was left over\n",
      "##########################################\n",
      "1. GODSENT removed Nuke\n",
      "2. BIG removed Cobblestone\n",
      "3. GODSENT picked Mirage\n",
      "4. BIG picked Cache\n",
      "5. GODSENT removed Overpass\n",
      "6. BIG removed Train\n",
      "7. Inferno was left over\n",
      "##########################################\n",
      "1. Singularity removed Cache\n",
      "2. BIG removed Nuke\n",
      "3. Singularity picked Cobblestone\n",
      "4. BIG picked Overpass\n",
      "5. Singularity removed Mirage\n",
      "6. BIG removed Train\n",
      "7. Inferno was left over\n",
      "##########################################\n",
      "1. LDLC removed Mirage\n",
      "2. BIG removed Cobblestone\n",
      "3. LDLC removed Train\n",
      "4. BIG removed Inferno\n",
      "5. LDLC removed Cache\n",
      "6. BIG removed Nuke\n",
      "7. Overpass was left over\n",
      "##########################################\n",
      "1. eXtatus removed Nuke\n",
      "2. BIG removed Cobblestone\n",
      "3. eXtatus removed Cache\n",
      "4. BIG removed Inferno\n",
      "5. eXtatus removed Overpass\n",
      "6. BIG removed Mirage\n",
      "7. Train was left over\n",
      "##########################################\n",
      "1. PENTA removed Cobblestone\n",
      "2. BIG removed Nuke\n",
      "3. PENTA picked Inferno\n",
      "4. BIG picked Cache\n",
      "5. PENTA removed Overpass\n",
      "6. BIG removed Train\n",
      "7. Mirage was left over\n",
      "##########################################\n",
      "1. Gambit removed Mirage\n",
      "2. BIG removed Cobblestone\n",
      "3. Gambit picked Nuke\n",
      "4. BIG picked Cache\n",
      "5. Gambit removed Train\n",
      "6. BIG removed Inferno\n",
      "7. Overpass was left over\n",
      "##########################################\n",
      "1. BIG removed Inferno\n",
      "2. HellRaisers removed Cache\n",
      "3. BIG picked Train\n",
      "4. HellRaisers picked Overpass\n",
      "5. BIG removed Nuke\n",
      "6. HellRaisers removed Cobblestone\n",
      "7. Mirage was left over\n",
      "##########################################\n",
      "1. Outlaws removed Inferno\n",
      "2. BIG removed Cobblestone\n",
      "3. Outlaws removed Cache\n",
      "4. BIG removed Train\n",
      "5. Outlaws removed Nuke\n",
      "6. BIG removed Overpass\n",
      "7. Mirage was left over\n",
      "##########################################\n",
      "1. x6tence removed Train\n",
      "2. BIG removed Inferno\n",
      "3. x6tence removed Mirage\n",
      "4. BIG removed Cobblestone\n",
      "5. x6tence removed Nuke\n",
      "6. BIG removed Cache\n",
      "7. Overpass was left over\n",
      "##########################################\n",
      "1. BIG removed Nuke\n",
      "2. EnVyUs removed Mirage\n",
      "3. BIG picked Cobblestone\n",
      "4. EnVyUs picked Train\n",
      "5. BIG removed Inferno\n",
      "6. EnVyUs removed Overpass\n",
      "7. Cache was left over\n",
      "##########################################\n",
      "1. iGame.com removed Mirage\n",
      "2. BIG removed Nuke\n",
      "3. iGame.com picked Train\n",
      "4. BIG picked Cache\n",
      "5. iGame.com removed Inferno\n",
      "6. BIG removed Cobblestone\n",
      "7. Overpass was left over\n",
      "##########################################\n",
      "1. BIG removed Inferno\n",
      "2. Tengri removed Nuke\n",
      "3. BIG picked Cache\n",
      "4. Tengri picked Mirage\n",
      "5. BIG removed Cobblestone\n",
      "6. Tengri removed Train\n",
      "7. Overpass was left over\n",
      "##########################################\n",
      "1. Team123 removed Cache\n",
      "2. BIG removed Inferno\n",
      "3. Team123 picked Nuke\n",
      "4. BIG picked Mirage\n",
      "5. Team123 removed Overpass\n",
      "6. BIG removed Train\n",
      "7. Cobblestone was left over\n"
     ]
    }
   ],
   "source": [
    "\n",
    "team_name = 'BIG'\n",
    "for s in d:\n",
    "\n",
    "    if 'Dust2' in s['map_pool'] or s['vetos'] == []:\n",
    "        continue\n",
    "    print '##########################################'\n",
    "    maps_remaining = list(s['map_pool'])\n",
    "    for v in s['vetos']:\n",
    "        print v\n",
    "       \n",
    "        if 'left over' in v:\n",
    "            \n",
    "            continue\n",
    "        if team_name not in v:\n",
    "            maps_remaining.remove(v.split(' ')[len(v.split(' '))-1])\n",
    "        else:\n",
    "\n",
    "            maps_remaining.remove(v.split(' ')[len(v.split(' '))-1])"
   ]
  },
  {
   "cell_type": "code",
   "execution_count": null,
   "metadata": {
    "collapsed": true
   },
   "outputs": [],
   "source": []
  }
 ],
 "metadata": {
  "anaconda-cloud": {},
  "kernelspec": {
   "display_name": "Python [conda root]",
   "language": "python",
   "name": "conda-root-py"
  },
  "language_info": {
   "codemirror_mode": {
    "name": "ipython",
    "version": 2
   },
   "file_extension": ".py",
   "mimetype": "text/x-python",
   "name": "python",
   "nbconvert_exporter": "python",
   "pygments_lexer": "ipython2",
   "version": "2.7.12"
  }
 },
 "nbformat": 4,
 "nbformat_minor": 1
}
