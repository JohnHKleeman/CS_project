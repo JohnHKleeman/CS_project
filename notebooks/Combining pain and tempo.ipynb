{
 "cells": [
  {
   "cell_type": "code",
   "execution_count": null,
   "metadata": {
    "collapsed": true
   },
   "outputs": [],
   "source": [
    "import cPickle as pkl\n",
    "from cspython.scraper import modifiedSoup\n",
    "from cspython.data_processing import process_scrapped\n",
    "import cPickle as pkl\n",
    "import sys\n",
    "sys.setrecursionlimit(15000)\n",
    "import pandas as pd\n",
    "import cspython.analysis as a"
   ]
  },
  {
   "cell_type": "code",
   "execution_count": null,
   "metadata": {
    "collapsed": true
   },
   "outputs": [],
   "source": [
    "with open('../scrapped_data/Tempo Storm_2016-10-01_to_2017-10-13.pkl', 'rb') as f: #tempo_storm\n",
    "    d = pkl.load(f)\n",
    "    \n",
    "with open('../scrapped_data/ex-paiN_2016-10-01_to_2017-10-13.pkl', 'rb') as f: #pain\n",
    "    d1 = pkl.load(f)\n",
    "    \n",
    "with open('../scrapped_data/paiN_2016-10-01_to_2017-10-13.pkl', 'rb') as f:  #ex_pain\n",
    "    d2 = pkl.load(f)"
   ]
  },
  {
   "cell_type": "code",
   "execution_count": null,
   "metadata": {
    "collapsed": true
   },
   "outputs": [],
   "source": [
    "len(d)"
   ]
  },
  {
   "cell_type": "code",
   "execution_count": null,
   "metadata": {
    "collapsed": true
   },
   "outputs": [],
   "source": [
    "len(d1)"
   ]
  },
  {
   "cell_type": "code",
   "execution_count": null,
   "metadata": {
    "collapsed": true
   },
   "outputs": [],
   "source": [
    "len(d2)"
   ]
  },
  {
   "cell_type": "code",
   "execution_count": 10,
   "metadata": {
    "collapsed": true
   },
   "outputs": [],
   "source": [
    "    name = 'Tempo Storm'\n",
    "    name_to_replace = 'paiN'\n",
    "    d1 = change_team_name_dataset(name, name_to_replace, d1)\n",
    "    name_to_replace = 'ex-paiN'\n",
    "    d2 = change_team_name_dataset(name, name_to_replace, d2)\n",
    "    d = d + d1 + d2"
   ]
  },
  {
   "cell_type": "code",
   "execution_count": 6,
   "metadata": {
    "collapsed": true
   },
   "outputs": [],
   "source": [
    "def change_team_name_dataset(name, name_to_replace, data_set):\n",
    "    data_set = change_name_vetos(name, name_to_replace, data_set)\n",
    "    data_set = change_name_team_a_b(name, name_to_replace, data_set)\n",
    "    data_set = change_name_team_scores(name, name_to_replace, data_set)\n",
    "    return data_set\n"
   ]
  },
  {
   "cell_type": "code",
   "execution_count": 7,
   "metadata": {
    "collapsed": true
   },
   "outputs": [],
   "source": [
    "def change_name_vetos(name, name_to_replace, data_set):\n",
    "    for fl in range(0, len(data_set)):\n",
    "        for iv in range(0, len(data_set[fl]['vetos'])):\n",
    "            data_set[fl]['vetos'][iv] = data_set[fl]['vetos'][iv].replace(name_to_replace, name)\n",
    "    return data_set"
   ]
  },
  {
   "cell_type": "code",
   "execution_count": 8,
   "metadata": {
    "collapsed": true
   },
   "outputs": [],
   "source": [
    "def change_name_team_a_b(name, name_to_replace, data_set):\n",
    "    \n",
    "    for fl in range(0, len(data_set)):\n",
    "        for iv in range(0, len(data_set[fl]['team_a_b'])):\n",
    "            data_set[fl]['team_a_b'][iv] = data_set[fl]['team_a_b'][iv].replace(name_to_replace, name)\n",
    "    return data_set"
   ]
  },
  {
   "cell_type": "code",
   "execution_count": 9,
   "metadata": {
    "collapsed": true
   },
   "outputs": [],
   "source": [
    "def change_name_team_scores(name, name_to_replace, data_set):\n",
    "    for fl in range(0, len(data_set)):\n",
    "        for iv in range(0, len(data_set[fl]['stats_data'])):\n",
    "            data_set[fl]['stats_data'][iv]['team_scores']['team_a'][0][0] = data_set[fl]['stats_data'][iv]['team_scores']['team_a'][0][0].replace(name_to_replace, name)\n",
    "            data_set[fl]['stats_data'][iv]['team_scores']['team_b'][0][0] = data_set[fl]['stats_data'][iv]['team_scores']['team_b'][0][0].replace(name_to_replace, name)\n",
    "    return data_set"
   ]
  },
  {
   "cell_type": "code",
   "execution_count": 11,
   "metadata": {
    "collapsed": false
   },
   "outputs": [
    {
     "data": {
      "text/plain": [
       "62"
      ]
     },
     "execution_count": 11,
     "metadata": {},
     "output_type": "execute_result"
    }
   ],
   "source": []
  },
  {
   "cell_type": "code",
   "execution_count": null,
   "metadata": {
    "collapsed": true
   },
   "outputs": [],
   "source": []
  }
 ],
 "metadata": {
  "anaconda-cloud": {},
  "kernelspec": {
   "display_name": "Python [default]",
   "language": "python",
   "name": "python2"
  },
  "language_info": {
   "codemirror_mode": {
    "name": "ipython",
    "version": 2
   },
   "file_extension": ".py",
   "mimetype": "text/x-python",
   "name": "python",
   "nbconvert_exporter": "python",
   "pygments_lexer": "ipython2",
   "version": "2.7.12"
  }
 },
 "nbformat": 4,
 "nbformat_minor": 2
}
