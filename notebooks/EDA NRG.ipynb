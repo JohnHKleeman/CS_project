{
 "cells": [
  {
   "cell_type": "code",
   "execution_count": 1,
   "metadata": {
    "collapsed": true
   },
   "outputs": [],
   "source": [
    "from cspython.scraper import modifiedSoup, get_teamID\n",
    "from cspython.data_processing import process_scrapped\n",
    "import cPickle as pkl\n",
    "import sys\n",
    "import pandas as pd\n",
    "sys.setrecursionlimit(15000)\n",
    "\n",
    "def get_series(big_data):\n",
    "    return big_data[big_data.keys()[0]]"
   ]
  },
  {
   "cell_type": "code",
   "execution_count": 2,
   "metadata": {
    "collapsed": true
   },
   "outputs": [],
   "source": [
    "with open('NRG_processed.pkl', 'rb') as f:\n",
    "    ov, s = pkl.load(f)"
   ]
  },
  {
   "cell_type": "code",
   "execution_count": 67,
   "metadata": {
    "collapsed": true
   },
   "outputs": [],
   "source": [
    "map_pool = ['Cache', 'Mirage', 'Inferno', 'Nuke', 'Train', 'Cobblestone', 'Overpass']\n",
    "cur_roster = ['RIKO', 'FugLy', 'Brehze', 'AnJ', 'CeRq', 'daps']  NRG\n",
    "cur_roster = ['gob b', 'LEGIJA', 'tabseN', 'nex', 'keev', 'kakafu'] Big\n",
    "cur_roster = ['Skadoodle', 'Stewie2k', 'autimatic', 'RUSH', 'tarik', 'valens'] Cloud9\n",
    "cur_roster = ['reltuC', 'koosta', 'nahtE', 'FNS', 'Rickeh', 'Ryu'] Counter Logic Gaming\n",
    "cur_roster = ['chrisj', 'oskar', 'ropz', 'suNny', 'STYKO', 'lmbt'] mousesports\n",
    "cur_roster = ['AZR', 'jks', 'USTILO', 'Nifty', 'NAF', 'kassad']  Renegades\n",
    "cur_roster = ['dzt', 'land1n', 'tatazin', 'shz', 's1', 'bLecker'] Tempo Storm\n",
    "cur_roster = ['ANGE1', 'Zero', 'DeadFox', 'woxic', 'ISSAA', 'Johnta']  HellRaisers"
   ]
  },
  {
   "cell_type": "code",
   "execution_count": 23,
   "metadata": {
    "collapsed": false
   },
   "outputs": [],
   "source": [
    "matches = pd.Series(name='num_matches')\n",
    "for idx, series in s.iteritems():\n",
    "    \n",
    "    if series['scoreboards'][0][0].columns[0] == 'NRG':\n",
    "        r=series['scoreboards'][0][0].loc[:,'NRG'].tolist()\n",
    "    else:\n",
    "        r=series['scoreboards'][1][0].loc[:,'NRG'].tolist()\n",
    "    r = [get_alias(raw_name) for raw_name in r]\n",
    "    num_matches = count_matches(r, cur_roster)\n",
    "    matches.loc[idx]=num_matches"
   ]
  },
  {
   "cell_type": "code",
   "execution_count": 21,
   "metadata": {
    "collapsed": true
   },
   "outputs": [],
   "source": [
    "def count_matches(r, cur_roster):\n",
    "    c=0\n",
    "    for name in r:\n",
    "        if name in cur_roster:\n",
    "            c+=1\n",
    "    return c"
   ]
  },
  {
   "cell_type": "code",
   "execution_count": 22,
   "metadata": {
    "collapsed": true
   },
   "outputs": [],
   "source": [
    "def get_alias(raw_name):\n",
    "    return str(raw_name.split(\"'\")[1])"
   ]
  },
  {
   "cell_type": "code",
   "execution_count": 30,
   "metadata": {
    "collapsed": false
   },
   "outputs": [],
   "source": [
    "matches.value_counts()\n",
    "good_matches = matches.index[matches==5].tolist()"
   ]
  },
  {
   "cell_type": "code",
   "execution_count": 33,
   "metadata": {
    "collapsed": false
   },
   "outputs": [],
   "source": [
    "total_matches = []\n",
    "for idx in good_matches:\n",
    "    series = s[idx]\n",
    "    if series['map_pool'] == map_pool:\n",
    "        total_matches.append(idx)"
   ]
  },
  {
   "cell_type": "code",
   "execution_count": 36,
   "metadata": {
    "collapsed": false
   },
   "outputs": [
    {
     "data": {
      "text/plain": [
       "24    https://www.hltv.org/matches/2313844/ghost-vs-...\n",
       "Name: url, dtype: object"
      ]
     },
     "execution_count": 36,
     "metadata": {},
     "output_type": "execute_result"
    }
   ],
   "source": [
    "ov.loc[ov.id == idx, 'url']"
   ]
  },
  {
   "cell_type": "code",
   "execution_count": 75,
   "metadata": {
    "collapsed": false
   },
   "outputs": [],
   "source": [
    "m = create_veto_matrix(total_matches, s, map_pool, 'NRG')"
   ]
  },
  {
   "cell_type": "code",
   "execution_count": 74,
   "metadata": {
    "collapsed": false
   },
   "outputs": [],
   "source": [
    "def create_veto_matrix(matche_idxs, serieses, map_pool, team_name):\n",
    "    veto_matrix = pd.DataFrame(index=map_pool, columns=map_pool).fillna(0)\n",
    "    for idx in matche_idxs:\n",
    "        vetos= serieses[idx]['vetos']\n",
    "        remaining = list(map_pool)\n",
    "        if vetos is None:\n",
    "            continue\n",
    "        for v in vetos:\n",
    "            picked_map = False\n",
    "            if 'left over' in v:\n",
    "                continue\n",
    "            if team_name not in v:\n",
    "                remaining.remove(v.split(' ')[-1])\n",
    "            else:\n",
    "                if 'picked' in v:\n",
    "                    picked_map = v.split('picked')[-1].strip()\n",
    "                elif 'removed' in v:\n",
    "                    removed_map = v.split('removed')[-1].strip()\n",
    "                if picked_map:\n",
    "                    remaining.remove(picked_map)\n",
    "                    for m in remaining:\n",
    "                        veto_matrix.loc[picked_map, m] -= 1\n",
    "                else:\n",
    "                    remaining.remove(removed_map)\n",
    "                    for m in remaining:\n",
    "                        veto_matrix.loc[removed_map, m] += 1\n",
    "\n",
    "    return veto_matrix"
   ]
  },
  {
   "cell_type": "code",
   "execution_count": 76,
   "metadata": {
    "collapsed": false
   },
   "outputs": [
    {
     "data": {
      "text/html": [
       "<div>\n",
       "<table border=\"1\" class=\"dataframe\">\n",
       "  <thead>\n",
       "    <tr style=\"text-align: right;\">\n",
       "      <th></th>\n",
       "      <th>Cache</th>\n",
       "      <th>Mirage</th>\n",
       "      <th>Inferno</th>\n",
       "      <th>Nuke</th>\n",
       "      <th>Train</th>\n",
       "      <th>Cobblestone</th>\n",
       "      <th>Overpass</th>\n",
       "    </tr>\n",
       "  </thead>\n",
       "  <tbody>\n",
       "    <tr>\n",
       "      <th>Cache</th>\n",
       "      <td>0</td>\n",
       "      <td>3</td>\n",
       "      <td>2</td>\n",
       "      <td>2</td>\n",
       "      <td>4</td>\n",
       "      <td>1</td>\n",
       "      <td>3</td>\n",
       "    </tr>\n",
       "    <tr>\n",
       "      <th>Mirage</th>\n",
       "      <td>-1</td>\n",
       "      <td>0</td>\n",
       "      <td>-2</td>\n",
       "      <td>0</td>\n",
       "      <td>-2</td>\n",
       "      <td>-1</td>\n",
       "      <td>-3</td>\n",
       "    </tr>\n",
       "    <tr>\n",
       "      <th>Inferno</th>\n",
       "      <td>1</td>\n",
       "      <td>0</td>\n",
       "      <td>0</td>\n",
       "      <td>-1</td>\n",
       "      <td>0</td>\n",
       "      <td>0</td>\n",
       "      <td>-1</td>\n",
       "    </tr>\n",
       "    <tr>\n",
       "      <th>Nuke</th>\n",
       "      <td>4</td>\n",
       "      <td>1</td>\n",
       "      <td>4</td>\n",
       "      <td>0</td>\n",
       "      <td>4</td>\n",
       "      <td>3</td>\n",
       "      <td>3</td>\n",
       "    </tr>\n",
       "    <tr>\n",
       "      <th>Train</th>\n",
       "      <td>2</td>\n",
       "      <td>3</td>\n",
       "      <td>2</td>\n",
       "      <td>1</td>\n",
       "      <td>0</td>\n",
       "      <td>2</td>\n",
       "      <td>3</td>\n",
       "    </tr>\n",
       "    <tr>\n",
       "      <th>Cobblestone</th>\n",
       "      <td>-3</td>\n",
       "      <td>-1</td>\n",
       "      <td>-2</td>\n",
       "      <td>1</td>\n",
       "      <td>-2</td>\n",
       "      <td>0</td>\n",
       "      <td>-2</td>\n",
       "    </tr>\n",
       "    <tr>\n",
       "      <th>Overpass</th>\n",
       "      <td>1</td>\n",
       "      <td>1</td>\n",
       "      <td>3</td>\n",
       "      <td>1</td>\n",
       "      <td>1</td>\n",
       "      <td>1</td>\n",
       "      <td>0</td>\n",
       "    </tr>\n",
       "  </tbody>\n",
       "</table>\n",
       "</div>"
      ],
      "text/plain": [
       "             Cache  Mirage  Inferno  Nuke  Train  Cobblestone  Overpass\n",
       "Cache            0       3        2     2      4            1         3\n",
       "Mirage          -1       0       -2     0     -2           -1        -3\n",
       "Inferno          1       0        0    -1      0            0        -1\n",
       "Nuke             4       1        4     0      4            3         3\n",
       "Train            2       3        2     1      0            2         3\n",
       "Cobblestone     -3      -1       -2     1     -2            0        -2\n",
       "Overpass         1       1        3     1      1            1         0"
      ]
     },
     "execution_count": 76,
     "metadata": {},
     "output_type": "execute_result"
    }
   ],
   "source": [
    "m"
   ]
  },
  {
   "cell_type": "code",
   "execution_count": 78,
   "metadata": {
    "collapsed": false
   },
   "outputs": [
    {
     "name": "stdout",
     "output_type": "stream",
     "text": [
      "1. Denial removed Mirage\n",
      "2. NRG removed Overpass\n",
      "3. Denial picked Cobblestone\n",
      "4. NRG picked Train\n",
      "5. Denial removed Cache\n",
      "6. NRG removed Nuke\n",
      "7. Inferno was left over\n",
      "######\n",
      "1. Tempo Storm removed Mirage\n",
      "2. NRG removed Nuke\n",
      "3. Tempo Storm picked Overpass\n",
      "4. NRG picked Cobblestone\n",
      "5. Tempo Storm removed Inferno\n",
      "6. NRG removed Cache\n",
      "7. Train was left over\n",
      "######\n",
      "1. Luminosity removed Mirage\n",
      "2. NRG removed Nuke\n",
      "3. Luminosity picked Train\n",
      "4. NRG picked Cobblestone\n",
      "5. Luminosity removed Overpass\n",
      "6. NRG removed Inferno\n",
      "7. Cache was left over\n",
      "######\n",
      "1. Cloud9 removed Nuke\n",
      "2. NRG removed Train\n",
      "3. Cloud9 picked Inferno\n",
      "4. NRG picked Mirage\n",
      "5. Cloud9 removed Cobblestone\n",
      "6. NRG removed Cache\n",
      "7. Overpass was left over\n",
      "######\n",
      "1. Misfits removed Cobblestone\n",
      "2. NRG removed Cache\n",
      "3. Misfits picked Nuke\n",
      "4. NRG picked Inferno\n",
      "5. Misfits removed Train\n",
      "6. NRG removed Overpass\n",
      "7. Mirage was left over\n",
      "######\n",
      "1. NRG removed Cache\n",
      "2. Renegades removed Nuke\n",
      "3. NRG picked Cobblestone\n",
      "4. Renegades picked Overpass\n",
      "5. NRG removed Inferno\n",
      "6. Renegades removed Mirage\n",
      "7. Train was left over\n",
      "######\n",
      "1. OpTic removed Cobblestone\n",
      "2. NRG removed Train\n",
      "3. OpTic picked Overpass\n",
      "4. NRG picked Inferno\n",
      "5. OpTic removed Mirage\n",
      "6. NRG removed Nuke\n",
      "7. Cache was left over\n",
      "######\n",
      "1. NRG removed Train\n",
      "2. OpTic removed Cobblestone\n",
      "3. NRG picked Nuke\n",
      "4. OpTic picked Overpass\n",
      "5. NRG removed Inferno\n",
      "6. OpTic removed Mirage\n",
      "7. Cache was left over\n",
      "######\n",
      "1. NRG removed Nuke\n",
      "2. Misfits removed Inferno\n",
      "3. NRG picked Cobblestone\n",
      "4. Misfits picked Overpass\n",
      "5. NRG removed Cache\n",
      "6. Misfits removed Mirage\n",
      "7. Train was left over\n",
      "######\n",
      "1. Tempo Storm removed Cobblestone\n",
      "2. NRG removed Nuke\n",
      "3. Tempo Storm picked Cache\n",
      "4. NRG picked Mirage\n",
      "5. Tempo Storm removed Train\n",
      "6. NRG removed Overpass\n",
      "7. Inferno was left over\n",
      "######\n",
      "1. Rise Nation removed Cache\n",
      "2. NRG removed Cobblestone\n",
      "3. Rise Nation picked Nuke\n",
      "4. NRG picked Mirage\n",
      "5. Rise Nation removed Train\n",
      "6. NRG removed Overpass\n",
      "7. Inferno was left over\n",
      "######\n"
     ]
    }
   ],
   "source": [
    "for idx in total_matches:\n",
    "    vetos = s[idx]['vetos']\n",
    "    if vetos is None:\n",
    "        continue\n",
    "    else:\n",
    "        for v in vetos:\n",
    "            print v\n",
    "        print '######' "
   ]
  }
 ],
 "metadata": {
  "kernelspec": {
   "display_name": "Python [conda root]",
   "language": "python",
   "name": "conda-root-py"
  },
  "language_info": {
   "codemirror_mode": {
    "name": "ipython",
    "version": 2
   },
   "file_extension": ".py",
   "mimetype": "text/x-python",
   "name": "python",
   "nbconvert_exporter": "python",
   "pygments_lexer": "ipython2",
   "version": "2.7.12"
  }
 },
 "nbformat": 4,
 "nbformat_minor": 1
}
