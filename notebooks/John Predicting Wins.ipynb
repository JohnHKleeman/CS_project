{
 "cells": [
  {
   "cell_type": "code",
   "execution_count": 1,
   "metadata": {},
   "outputs": [
    {
     "name": "stdout",
     "output_type": "stream",
     "text": [
      "scipy: 0.19.0\n",
      "numpy: 1.11.3\n",
      "matplotlib: 2.1.0\n",
      "pandas: 0.22.0\n",
      "sklearn: 0.18.1\n"
     ]
    },
    {
     "name": "stderr",
     "output_type": "stream",
     "text": [
      "C:\\Users\\j_coo\\Anaconda2new\\envs\\csgoproject\\lib\\site-packages\\sklearn\\cross_validation.py:44: DeprecationWarning: This module was deprecated in version 0.18 in favor of the model_selection module into which all the refactored classes and functions are moved. Also note that the interface of the new CV iterators are different from that of this module. This module will be removed in 0.20.\n",
      "  \"This module will be removed in 0.20.\", DeprecationWarning)\n"
     ]
    }
   ],
   "source": [
    "import cPickle as pkl\n",
    "from cspython.scraper import modifiedSoup\n",
    "from cspython.data_processing import process_scrapped\n",
    "import cPickle as pkl\n",
    "import sys\n",
    "sys.setrecursionlimit(15000)\n",
    "\n",
    "import cspython.analysis as a\n",
    "import scipy\n",
    "print('scipy: {}'.format(scipy.__version__)) # numpy\n",
    "import numpy as np\n",
    "print('numpy: {}'.format(np.__version__))\n",
    "# matplotlib\n",
    "\n",
    "\n",
    "import matplotlib \n",
    "import matplotlib.pyplot as plt\n",
    "print('matplotlib: {}'.format(matplotlib.__version__)) # pandas\n",
    "import pandas as pd\n",
    "print('pandas: {}'.format(pd.__version__))\n",
    "# scikit-learn\n",
    "#import sklearn\n",
    "#print('sklearn: {}'.format(sklearn.__version__))\n",
    "#import xlrd\n",
    "\n",
    "import seaborn as sns\n",
    "sns.set_style(\"whitegrid\")\n",
    "%matplotlib inline\n",
    "\n",
    "\n",
    "import sklearn\n",
    "print('sklearn: {}'.format(sklearn.__version__))\n",
    "#import xlrd\n",
    "from sklearn.linear_model import LogisticRegression\n",
    "from sklearn.feature_selection import RFE\n",
    "from sklearn.linear_model import Lasso, Ridge  \n",
    "from sklearn.ensemble import RandomForestClassifier\n",
    "from sklearn.tree import DecisionTreeClassifier\n",
    "from sklearn.svm import SVC\n",
    "from sklearn.model_selection import KFold\n",
    "from sklearn.model_selection import GridSearchCV\n",
    "from sklearn.ensemble import RandomForestClassifier\n",
    "from sklearn.ensemble import AdaBoostClassifier\n",
    "from sklearn.ensemble import ExtraTreesClassifier\n",
    "from sklearn.naive_bayes import GaussianNB\n",
    "from sklearn.ensemble import VotingClassifier\n",
    "from sklearn.discriminant_analysis import LinearDiscriminantAnalysis\n",
    "from sklearn.feature_selection import RFE\n",
    "#import xgboost as xgb\n",
    "from sklearn import cross_validation\n",
    "from sklearn.model_selection import GridSearchCV\n",
    "from sklearn import cross_validation #might be model_selection <--- this is the new one\n",
    "from sklearn.preprocessing import Normalizer\n",
    "import seaborn as sns\n",
    "from sklearn import preprocessing \n",
    "sns.set_style(\"whitegrid\")\n",
    "%matplotlib inline\n",
    "import warnings\n",
    "warnings.filterwarnings('ignore')\n",
    "from sklearn.neighbors import KNeighborsClassifier\n",
    "from sklearn.ensemble import GradientBoostingClassifier\n",
    "import pdb"
   ]
  },
  {
   "cell_type": "code",
   "execution_count": 165,
   "metadata": {
    "collapsed": true
   },
   "outputs": [],
   "source": [
    "with open('../cspython/test.pkl', 'rb') as f: \n",
    "     d = pkl.load(f)"
   ]
  },
  {
   "cell_type": "code",
   "execution_count": 500,
   "metadata": {
    "collapsed": true
   },
   "outputs": [],
   "source": [
    "big_data = process_scrapped(d)\n",
    "overview, big_data = big_data"
   ]
  },
  {
   "cell_type": "code",
   "execution_count": 283,
   "metadata": {
    "collapsed": true
   },
   "outputs": [],
   "source": [
    "def combine_dfs(big_data, overview):\n",
    "    for l in range(len(big_data.keys())):\n",
    "        series_data = big_data[big_data.keys()[l]]\n",
    "        series_data_m = merge_matches(series_data)\n",
    "        series_data_m[\"date\"] = overview.loc[l, 'date']\n",
    "        series_data_mo = merge_overview(series_data_m, series_data)\n",
    "        series_data_mos = merge_scoreboards(series_data_mo, series_data)\n",
    "        series_data_mosm = match_data_board_changer(series_data_mos, series_data)\n",
    "        if l == 0:\n",
    "            data = series_data_mosm\n",
    "            \n",
    "        else:\n",
    "            col = ['map','round_num','half','match_id','series_id','ending','CT','T','side_winner','winner','team_A','team_B','team_A_score','team_B_score','match_num','team_players','K-D','+/-','ADR','KAST','Rating2.0','nicknames']\n",
    "            data = pd.concat([data, series_data_mosm])  \n",
    "            col2 = data.columns\n",
    "            data = data[col + list(set(col2) - set(col))]\n",
    "    data = data.reset_index()\n",
    "    return data"
   ]
  },
  {
   "cell_type": "code",
   "execution_count": 284,
   "metadata": {
    "collapsed": true
   },
   "outputs": [],
   "source": [
    "def merge_matches(series_data):\n",
    "    for d in range(0,len(series_data['matches'])):\n",
    "        if d == 0:\n",
    "            series_data['matches'][d] = series_data['matches'][d].rename(index = str, columns={ series_data['matches'][d].columns[10] : \"team_A\", series_data['matches'][d].columns[11] : \"team_B\" })\n",
    "            series_data_m = series_data['matches'][d]\n",
    "        else:\n",
    "            series_data['matches'][d] = series_data['matches'][d].rename(index = str, columns={ series_data['matches'][d].columns[10] : \"team_A\", series_data['matches'][d].columns[11] : \"team_B\" })\n",
    "            series_data_m = pd.concat([series_data_m, series_data['matches'][d]])\n",
    "    \n",
    "    return series_data_m\n",
    "    #should work for concact the matches together\n"
   ]
  },
  {
   "cell_type": "code",
   "execution_count": 285,
   "metadata": {
    "collapsed": true
   },
   "outputs": [],
   "source": [
    "def match_data_board_changer(series_data_mos,series_data):\n",
    "    \n",
    "    board_name = ['first_kills','who_kill_who', 'awp_kills']\n",
    "\n",
    "    for idx, a in enumerate(series_data['match_data']):\n",
    "        new_df = pd.DataFrame()\n",
    "        for idx1, c in enumerate(board_name):    \n",
    "            new_board_c = pd.DataFrame()\n",
    "            new_board_r= pd.DataFrame()\n",
    "            names_c = a[c].set_index('Unnamed: 0').columns\n",
    "            for b in names_c:\n",
    "                new_board_c[b+'_'+c] = a[c].set_index('Unnamed: 0')[b].str.split(pat = ':', expand = True)[0]\n",
    "               \n",
    "            names_r = a[c].set_index('Unnamed: 0').T.columns\n",
    "            for b in names_r:\n",
    "                new_board_r[b+'_'+c] = a[c].set_index('Unnamed: 0').T[b].str.split(pat = ':', expand = True)[1]\n",
    "            new_board_c['nicknames'] = new_board_c.index\n",
    "            new_board_r['nicknames'] = new_board_r.index\n",
    "            \n",
    "            board_df = new_board_c.append(new_board_r)\n",
    "            \n",
    "            if idx1 == 0:\n",
    "                new_df = board_df\n",
    "            else:\n",
    "                new_df = pd.concat([new_df, board_df], axis = 1)\n",
    "        if idx == 0:\n",
    "            new_df['match_num'] = 1+idx\n",
    "            con_df = new_df\n",
    "        else:\n",
    "            new_df['match_num'] = 1+idx\n",
    "            con_df = con_df.append(new_df, ignore_index=True)\n",
    "    con_df = con_df.loc[:, ~con_df.columns.duplicated()]\n",
    "    series_data_mosm = pd.merge(series_data_mos, con_df, on=['nicknames', 'match_num'], how = 'inner')\n",
    "    return series_data_mosm\n"
   ]
  },
  {
   "cell_type": "code",
   "execution_count": 286,
   "metadata": {},
   "outputs": [],
   "source": [
    "def merge_overview(series_data_m, series_data):\n",
    "    series_data['match_overview']['team_A_name'] = series_data['match_overview'].columns[4]\n",
    "    series_data['match_overview']['team_B_name'] = series_data['match_overview'].columns[5]\n",
    "    \n",
    "    series_data['match_overview'].loc[(series_data['match_overview']['winner'] == series_data['match_overview'].columns[4]),'loser_of_match'] = series_data['match_overview'].team_B_name\n",
    "    series_data['match_overview'].loc[(series_data['match_overview']['winner'] != series_data['match_overview'].columns[4]),'loser_of_match'] = series_data['match_overview'].team_A_name\n",
    "    series_data['match_overview'] = series_data['match_overview'].rename(index = str, columns ={series_data['match_overview'].columns[3]: \"winner_of_match\",series_data['match_overview'].columns[4]: \"team_A_score\",series_data['match_overview'].columns[5]: \"team_B_score\"})\n",
    "    \n",
    "    \n",
    "    series_data_mo = pd.merge(series_data_m, series_data['match_overview'], on=['match_id', 'map', 'series_id'])\n",
    "    \n",
    "    return series_data_mo\n",
    "#works at merging matches with match_overviewb"
   ]
  },
  {
   "cell_type": "code",
   "execution_count": 287,
   "metadata": {
    "collapsed": true
   },
   "outputs": [],
   "source": [
    "def merge_scoreboards(series_data_mo, series_data):    \n",
    "   \n",
    "    for i in range(len(series_data['scoreboards'][0])):\n",
    "        series_data['scoreboards'][0][i]['match_num'] = i+1\n",
    "        #pdb.set_trace()\n",
    "        series_data['scoreboards'][0][i]['player_team_name'] = series_data_mo.loc[(series_data_mo['match_num']== i+1),'team_A_name'].unique()[0]\n",
    "        series_data['scoreboards'][0][i] = series_data['scoreboards'][0][i].rename(index = str, columns={ series_data['scoreboards'][0][i].columns[0] : \"team_players\" })\n",
    "        \n",
    "        series_data['scoreboards'][1][i]['match_num'] = i+1\n",
    "        series_data['scoreboards'][1][i]['player_team_name'] = series_data_mo.loc[(series_data_mo['match_num']== i+1),'team_B_name'].unique()[0]\n",
    "        series_data['scoreboards'][1][i] = series_data['scoreboards'][1][i].rename(index = str, columns={ series_data['scoreboards'][1][i].columns[0] : \"team_players\"})\n",
    "        \n",
    "        new_df = pd.concat([series_data['scoreboards'][0][i], series_data['scoreboards'][1][i]])\n",
    "        \n",
    "        if i == 0:\n",
    "            con_df = new_df\n",
    "        else:\n",
    "            con_df = pd.concat([con_df, new_df])\n",
    "   \n",
    "    series_data_mos = pd.merge(series_data_mo, con_df, how='outer', on='match_num')\n",
    "    series_data_mos['nicknames'] = series_data_mos['team_players'].str.split(expand = True)[3]\n",
    "    return series_data_mos\n",
    "\n",
    "       \n",
    "        \n",
    "#works at adding match_num to scoreboards\n",
    "        \n",
    "                         "
   ]
  },
  {
   "cell_type": "code",
   "execution_count": 501,
   "metadata": {
    "scrolled": true
   },
   "outputs": [],
   "source": [
    "data = combine_dfs(big_data, overview)"
   ]
  },
  {
   "cell_type": "code",
   "execution_count": 289,
   "metadata": {
    "collapsed": true
   },
   "outputs": [],
   "source": [
    "def create_fwa_dr_columns(data, col_list):  # first k , awp, who, divided by rounds \n",
    "    columns = pd.Series(data.columns)\n",
    "    for a in col_list:\n",
    "        col = columns[columns.str.contains(a)]\n",
    "        data[a+'_sum_dr'] = data[col].convert_objects(convert_numeric = True).sum(axis = 1) / (data['team_A_score'] + data['team_B_score'] - 5)\n",
    "    data = data.apply(pd.to_numeric, errors='ignore')\n",
    "    return data\n",
    "        \n",
    "    "
   ]
  },
  {
   "cell_type": "code",
   "execution_count": 290,
   "metadata": {
    "collapsed": true
   },
   "outputs": [],
   "source": [
    "def create_fwadr_his(data, col_list):   # column with historic awp, first ,who_killwho of player vs player.\n",
    "    match_id = data.match_id.unique()\n",
    "    players = data.nicknames.unique()\n",
    "    for a in col_list:\n",
    "        data[a + '_sum_dr_hist'] = np.nan\n",
    "        for b in match_id:\n",
    "            for c in players:\n",
    "                values = data.loc[(data['match_id'] == b)&(data['nicknames'] == c),a +'_sum_dr'].unique()\n",
    "                data.loc[(data['match_id'] == b)&(data['nicknames'] == c),a + '_sum_dr_hist'] = values.sum()/ float(len(values))\n",
    "    return data\n",
    "    "
   ]
  },
  {
   "cell_type": "code",
   "execution_count": 291,
   "metadata": {
    "collapsed": true
   },
   "outputs": [],
   "source": [
    "def create_avdamage_his(data):  # column with historic average damage of individual ( NEEDS TO BE FOR EACH MAP)\n",
    "    match_id = data.match_id.unique()\n",
    "    players = data.nicknames.unique()\n",
    "    data['ADR_hist'] = np.nan\n",
    "    for b in data.match_id.unique():\n",
    "            for c in players:\n",
    "                values = data.loc[(data['match_id'] == b)&(data['nicknames'] == c),'ADR'].unique()\n",
    "                data.loc[(data['match_id'] == b)&(data['nicknames'] == c),'ADR_hist'] = values.sum()/ float(len(values))\n",
    "    return data\n",
    "    "
   ]
  },
  {
   "cell_type": "code",
   "execution_count": 171,
   "metadata": {
    "collapsed": true
   },
   "outputs": [],
   "source": [
    "# total of times  player played each map"
   ]
  },
  {
   "cell_type": "code",
   "execution_count": 172,
   "metadata": {
    "collapsed": true
   },
   "outputs": [],
   "source": [
    "# total of times player won on each map"
   ]
  },
  {
   "cell_type": "code",
   "execution_count": 173,
   "metadata": {
    "collapsed": true
   },
   "outputs": [],
   "source": [
    "# percentage of times player on on map"
   ]
  },
  {
   "cell_type": "code",
   "execution_count": 292,
   "metadata": {
    "collapsed": true
   },
   "outputs": [],
   "source": [
    "def create_map_win_loss_his(data):  # team total win and loses on map with total times played on map\n",
    "    maps = data.map.unique()\n",
    "    teams = data.player_team_name.unique()\n",
    "    match_id = data.match_id.unique()\n",
    "    for a in maps:\n",
    "        data[a + \"_win_his\"] = 0\n",
    "        data[a + \"_loss_his\"] = 0\n",
    "        data[a + \"_total_played\"] = 0\n",
    "    for a in match_id:\n",
    "        map_for_match = data.loc[(data['match_id'] == a) ,'map'].unique()\n",
    "        winner_of_map = data.loc[(data['match_id'] == a), 'winner_of_match'].unique()\n",
    "        loser_of_map = data.loc[(data['match_id'] == a), 'loser_of_match'].unique()\n",
    "        data.loc[(data['player_team_name'] == winner_of_map[0]), [map_for_match[0] + \"_win_his\", map_for_match[0] +'_total_played']] += 1\n",
    "        data.loc[(data['player_team_name'] == loser_of_map[0]), [map_for_match[0] + \"_loss_his\", map_for_match[0] +'_total_played']] += 1 \n",
    "       \n",
    "    return data"
   ]
  },
  {
   "cell_type": "code",
   "execution_count": 293,
   "metadata": {
    "collapsed": true
   },
   "outputs": [],
   "source": [
    "def create_map_win_his_per(data): #percentage team total win and loses on map\n",
    "    teams = data.player_team_name.unique()\n",
    "    maps = data.map.unique()\n",
    "    for a in maps:\n",
    "        data[a + '_win_perc_map'] = 0\n",
    "        for b in teams:\n",
    "            pg = (data.player_team_name == b) \n",
    "            data.loc[pg,a + '_win_perc_map'] = data.loc[pg, a + \"_win_his\"].unique()[0] / (data.loc[pg, a + \"_win_his\"].unique()[0] + data.loc[pg, a + \"_loss_his\"].unique()[0]) \n",
    "            data.loc\n",
    "    return data    \n",
    "    \n",
    "    "
   ]
  },
  {
   "cell_type": "code",
   "execution_count": 502,
   "metadata": {},
   "outputs": [],
   "source": [
    "def create_rounds_won_vs_team_his(data): # team rounds won vs another team\n",
    "    grouping = data.groupby(['match_id','map','team_A_name','team_B_name', 'team_A_score', 'team_B_score'])['round_num'].count()\n",
    "    grouping = pd.DataFrame(grouping)\n",
    "    grouping = grouping.add_suffix('_Count').reset_index()\n",
    "    grouping = grouping.groupby(['team_A_name', 'team_B_name']).sum()\n",
    "    grouping = pd.DataFrame(grouping)\n",
    "    grouping = grouping.add_suffix('_Count').reset_index()\n",
    "    forward = grouping.team_A_name+grouping.team_B_name\n",
    "    reverse = grouping.team_B_name+grouping.team_A_name\n",
    "    for idx, val in enumerate(forward):\n",
    "        for idx2, val2 in enumerate(reverse):\n",
    "            if val == val2:\n",
    "                grouping.loc[val,'team_A_score_Count'] += grouping.loc[val2,'team_B_score_Count']\n",
    "                grouping.loc[val,'team_B_score_Count'] += grouping.loc[val2,'team_A_score_Count']\n",
    "                grouping.loc[val2,'team_B_score_Count'] = grouping.loc[val,'team_A_score_Count']\n",
    "                grouping.loc[val2,'team_A_score_Count'] = grouping.loc[val,'team_B_score_Count']\n",
    "    \n",
    "    grouping = grouping.drop('round_num_Count_Count', axis = 1)\n",
    "    col1 = list(grouping.team_A_name.unique())\n",
    "    col2  = list(grouping.team_B_name.unique())\n",
    "    col = col1 + col2\n",
    "    col = list(set(col))\n",
    "    data = pd.merge(data,grouping, on=['team_A_name', 'team_B_name']) \n",
    "    for a in col:\n",
    "        data['rd_total_his_'+ a] = np.nan\n",
    "        data.loc[(data.player_team_name != a) & (data.team_A_name == a) , 'rd_total_his_'+ a]=data.team_B_score_Count\n",
    "        data.loc[(data.player_team_name != a) & (data.team_B_name == a) , 'rd_total_his_'+ a]=data.team_A_score_Count\n",
    "    \n",
    "    return data    "
   ]
  },
  {
   "cell_type": "code",
   "execution_count": 503,
   "metadata": {},
   "outputs": [],
   "source": [
    "col_list = ['_first_kills', '_who_kill_who','_awp_kills']\n",
    "data = create_fwa_dr_columns(data, col_list)\n",
    "data = create_fwadr_his(data,col_list)\n",
    "data = create_avdamage_his(data)\n",
    "data = create_map_win_loss_his(data)\n",
    "data = create_map_win_his_per(data)\n",
    "data = create_rounds_won_vs_team_his(data)"
   ]
  },
  {
   "cell_type": "code",
   "execution_count": 513,
   "metadata": {
    "collapsed": true
   },
   "outputs": [],
   "source": [
    "grouping = data.groupby(['match_id','map','team_A_name','team_B_name', 'team_A_score', 'team_B_score'])['round_num'].count()"
   ]
  },
  {
   "cell_type": "code",
   "execution_count": 548,
   "metadata": {},
   "outputs": [],
   "source": [
    "grouping = data.groupby(['map','team_A_name', 'team_A_score'])['round_num'].count()\n",
    "grouping = pd.DataFrame(grouping)\n",
    "grouping = grouping.add_suffix('_Count').reset_index()\n",
    "grouping = grouping.groupby(['map','team_A_name'])[ 'team_A_score'].sum()\n",
    "grouping = pd.DataFrame(grouping)\n",
    "grouping = grouping.add_suffix('_Count').reset_index()"
   ]
  },
  {
   "cell_type": "code",
   "execution_count": 549,
   "metadata": {},
   "outputs": [
    {
     "data": {
      "text/html": [
       "<div>\n",
       "<style scoped>\n",
       "    .dataframe tbody tr th:only-of-type {\n",
       "        vertical-align: middle;\n",
       "    }\n",
       "\n",
       "    .dataframe tbody tr th {\n",
       "        vertical-align: top;\n",
       "    }\n",
       "\n",
       "    .dataframe thead th {\n",
       "        text-align: right;\n",
       "    }\n",
       "</style>\n",
       "<table border=\"1\" class=\"dataframe\">\n",
       "  <thead>\n",
       "    <tr style=\"text-align: right;\">\n",
       "      <th></th>\n",
       "      <th>map</th>\n",
       "      <th>team_A_name</th>\n",
       "      <th>team_A_score_Count</th>\n",
       "    </tr>\n",
       "  </thead>\n",
       "  <tbody>\n",
       "    <tr>\n",
       "      <th>0</th>\n",
       "      <td>Cache</td>\n",
       "      <td>Anonymous</td>\n",
       "      <td>4</td>\n",
       "    </tr>\n",
       "    <tr>\n",
       "      <th>1</th>\n",
       "      <td>Cache</td>\n",
       "      <td>GameTV</td>\n",
       "      <td>2</td>\n",
       "    </tr>\n",
       "    <tr>\n",
       "      <th>2</th>\n",
       "      <td>Cache</td>\n",
       "      <td>Hyper4mance</td>\n",
       "      <td>20</td>\n",
       "    </tr>\n",
       "    <tr>\n",
       "      <th>3</th>\n",
       "      <td>Cache</td>\n",
       "      <td>Limitless</td>\n",
       "      <td>11</td>\n",
       "    </tr>\n",
       "    <tr>\n",
       "      <th>4</th>\n",
       "      <td>Cobblestone</td>\n",
       "      <td>Hyper4mance</td>\n",
       "      <td>16</td>\n",
       "    </tr>\n",
       "    <tr>\n",
       "      <th>5</th>\n",
       "      <td>Cobblestone</td>\n",
       "      <td>compLexity</td>\n",
       "      <td>16</td>\n",
       "    </tr>\n",
       "    <tr>\n",
       "      <th>6</th>\n",
       "      <td>Inferno</td>\n",
       "      <td>FaZe</td>\n",
       "      <td>16</td>\n",
       "    </tr>\n",
       "    <tr>\n",
       "      <th>7</th>\n",
       "      <td>Inferno</td>\n",
       "      <td>Hyper4mance</td>\n",
       "      <td>16</td>\n",
       "    </tr>\n",
       "    <tr>\n",
       "      <th>8</th>\n",
       "      <td>Inferno</td>\n",
       "      <td>Limitless</td>\n",
       "      <td>8</td>\n",
       "    </tr>\n",
       "    <tr>\n",
       "      <th>9</th>\n",
       "      <td>Inferno</td>\n",
       "      <td>SK</td>\n",
       "      <td>19</td>\n",
       "    </tr>\n",
       "    <tr>\n",
       "      <th>10</th>\n",
       "      <td>Inferno</td>\n",
       "      <td>compLexity</td>\n",
       "      <td>16</td>\n",
       "    </tr>\n",
       "    <tr>\n",
       "      <th>11</th>\n",
       "      <td>Mirage</td>\n",
       "      <td>Anonymous</td>\n",
       "      <td>3</td>\n",
       "    </tr>\n",
       "    <tr>\n",
       "      <th>12</th>\n",
       "      <td>Mirage</td>\n",
       "      <td>FaZe</td>\n",
       "      <td>16</td>\n",
       "    </tr>\n",
       "    <tr>\n",
       "      <th>13</th>\n",
       "      <td>Mirage</td>\n",
       "      <td>G2</td>\n",
       "      <td>8</td>\n",
       "    </tr>\n",
       "    <tr>\n",
       "      <th>14</th>\n",
       "      <td>Mirage</td>\n",
       "      <td>Red Wolf</td>\n",
       "      <td>11</td>\n",
       "    </tr>\n",
       "    <tr>\n",
       "      <th>15</th>\n",
       "      <td>Mirage</td>\n",
       "      <td>SK</td>\n",
       "      <td>16</td>\n",
       "    </tr>\n",
       "    <tr>\n",
       "      <th>16</th>\n",
       "      <td>Nuke</td>\n",
       "      <td>Hyper4mance</td>\n",
       "      <td>14</td>\n",
       "    </tr>\n",
       "    <tr>\n",
       "      <th>17</th>\n",
       "      <td>Overpass</td>\n",
       "      <td>G2</td>\n",
       "      <td>7</td>\n",
       "    </tr>\n",
       "    <tr>\n",
       "      <th>18</th>\n",
       "      <td>Overpass</td>\n",
       "      <td>SK</td>\n",
       "      <td>16</td>\n",
       "    </tr>\n",
       "  </tbody>\n",
       "</table>\n",
       "</div>"
      ],
      "text/plain": [
       "            map  team_A_name  team_A_score_Count\n",
       "0         Cache    Anonymous                   4\n",
       "1         Cache       GameTV                   2\n",
       "2         Cache  Hyper4mance                  20\n",
       "3         Cache    Limitless                  11\n",
       "4   Cobblestone  Hyper4mance                  16\n",
       "5   Cobblestone   compLexity                  16\n",
       "6       Inferno         FaZe                  16\n",
       "7       Inferno  Hyper4mance                  16\n",
       "8       Inferno    Limitless                   8\n",
       "9       Inferno           SK                  19\n",
       "10      Inferno   compLexity                  16\n",
       "11       Mirage    Anonymous                   3\n",
       "12       Mirage         FaZe                  16\n",
       "13       Mirage           G2                   8\n",
       "14       Mirage     Red Wolf                  11\n",
       "15       Mirage           SK                  16\n",
       "16         Nuke  Hyper4mance                  14\n",
       "17     Overpass           G2                   7\n",
       "18     Overpass           SK                  16"
      ]
     },
     "execution_count": 549,
     "metadata": {},
     "output_type": "execute_result"
    }
   ],
   "source": [
    "grouping"
   ]
  },
  {
   "cell_type": "code",
   "execution_count": 546,
   "metadata": {},
   "outputs": [],
   "source": [
    "fgrouping = data.groupby(['player_team_name','map','team_B_name', 'team_B_score'])['round_num'].count()\n",
    "fgrouping = pd.DataFrame(fgrouping)\n",
    "fgrouping = fgrouping.add_suffix('_Count').reset_index()\n",
    "fgrouping = fgrouping.groupby(['map','team_B_name'])[ 'team_B_score'].sum()\n",
    "fgrouping = pd.DataFrame(fgrouping)\n",
    "fgrouping = fgrouping.add_suffix('_Count').reset_index()"
   ]
  },
  {
   "cell_type": "code",
   "execution_count": 547,
   "metadata": {},
   "outputs": [
    {
     "data": {
      "text/html": [
       "<div>\n",
       "<style scoped>\n",
       "    .dataframe tbody tr th:only-of-type {\n",
       "        vertical-align: middle;\n",
       "    }\n",
       "\n",
       "    .dataframe tbody tr th {\n",
       "        vertical-align: top;\n",
       "    }\n",
       "\n",
       "    .dataframe thead th {\n",
       "        text-align: right;\n",
       "    }\n",
       "</style>\n",
       "<table border=\"1\" class=\"dataframe\">\n",
       "  <thead>\n",
       "    <tr style=\"text-align: right;\">\n",
       "      <th></th>\n",
       "      <th>map</th>\n",
       "      <th>team_B_name</th>\n",
       "      <th>team_B_score_Count</th>\n",
       "    </tr>\n",
       "  </thead>\n",
       "  <tbody>\n",
       "    <tr>\n",
       "      <th>0</th>\n",
       "      <td>Cache</td>\n",
       "      <td>5POWER</td>\n",
       "      <td>32</td>\n",
       "    </tr>\n",
       "    <tr>\n",
       "      <th>1</th>\n",
       "      <td>Cache</td>\n",
       "      <td>Limitless</td>\n",
       "      <td>44</td>\n",
       "    </tr>\n",
       "    <tr>\n",
       "      <th>2</th>\n",
       "      <td>Cache</td>\n",
       "      <td>RvN</td>\n",
       "      <td>48</td>\n",
       "    </tr>\n",
       "    <tr>\n",
       "      <th>3</th>\n",
       "      <td>Cobblestone</td>\n",
       "      <td>Anonymous</td>\n",
       "      <td>28</td>\n",
       "    </tr>\n",
       "    <tr>\n",
       "      <th>4</th>\n",
       "      <td>Cobblestone</td>\n",
       "      <td>Rogue</td>\n",
       "      <td>8</td>\n",
       "    </tr>\n",
       "    <tr>\n",
       "      <th>5</th>\n",
       "      <td>Inferno</td>\n",
       "      <td>Anonymous</td>\n",
       "      <td>14</td>\n",
       "    </tr>\n",
       "    <tr>\n",
       "      <th>6</th>\n",
       "      <td>Inferno</td>\n",
       "      <td>Natus Vincere</td>\n",
       "      <td>18</td>\n",
       "    </tr>\n",
       "    <tr>\n",
       "      <th>7</th>\n",
       "      <td>Inferno</td>\n",
       "      <td>Rogue</td>\n",
       "      <td>18</td>\n",
       "    </tr>\n",
       "    <tr>\n",
       "      <th>8</th>\n",
       "      <td>Inferno</td>\n",
       "      <td>RvN</td>\n",
       "      <td>32</td>\n",
       "    </tr>\n",
       "    <tr>\n",
       "      <th>9</th>\n",
       "      <td>Inferno</td>\n",
       "      <td>fnatic</td>\n",
       "      <td>44</td>\n",
       "    </tr>\n",
       "    <tr>\n",
       "      <th>10</th>\n",
       "      <td>Mirage</td>\n",
       "      <td>5POWER</td>\n",
       "      <td>32</td>\n",
       "    </tr>\n",
       "    <tr>\n",
       "      <th>11</th>\n",
       "      <td>Mirage</td>\n",
       "      <td>Cloud9</td>\n",
       "      <td>32</td>\n",
       "    </tr>\n",
       "    <tr>\n",
       "      <th>12</th>\n",
       "      <td>Mirage</td>\n",
       "      <td>Natus Vincere</td>\n",
       "      <td>14</td>\n",
       "    </tr>\n",
       "    <tr>\n",
       "      <th>13</th>\n",
       "      <td>Mirage</td>\n",
       "      <td>RvN</td>\n",
       "      <td>32</td>\n",
       "    </tr>\n",
       "    <tr>\n",
       "      <th>14</th>\n",
       "      <td>Mirage</td>\n",
       "      <td>fnatic</td>\n",
       "      <td>24</td>\n",
       "    </tr>\n",
       "    <tr>\n",
       "      <th>15</th>\n",
       "      <td>Nuke</td>\n",
       "      <td>Limitless</td>\n",
       "      <td>32</td>\n",
       "    </tr>\n",
       "    <tr>\n",
       "      <th>16</th>\n",
       "      <td>Overpass</td>\n",
       "      <td>Cloud9</td>\n",
       "      <td>32</td>\n",
       "    </tr>\n",
       "    <tr>\n",
       "      <th>17</th>\n",
       "      <td>Overpass</td>\n",
       "      <td>fnatic</td>\n",
       "      <td>28</td>\n",
       "    </tr>\n",
       "  </tbody>\n",
       "</table>\n",
       "</div>"
      ],
      "text/plain": [
       "            map    team_B_name  team_B_score_Count\n",
       "0         Cache         5POWER                  32\n",
       "1         Cache      Limitless                  44\n",
       "2         Cache            RvN                  48\n",
       "3   Cobblestone      Anonymous                  28\n",
       "4   Cobblestone          Rogue                   8\n",
       "5       Inferno      Anonymous                  14\n",
       "6       Inferno  Natus Vincere                  18\n",
       "7       Inferno          Rogue                  18\n",
       "8       Inferno            RvN                  32\n",
       "9       Inferno         fnatic                  44\n",
       "10       Mirage         5POWER                  32\n",
       "11       Mirage         Cloud9                  32\n",
       "12       Mirage  Natus Vincere                  14\n",
       "13       Mirage            RvN                  32\n",
       "14       Mirage         fnatic                  24\n",
       "15         Nuke      Limitless                  32\n",
       "16     Overpass         Cloud9                  32\n",
       "17     Overpass         fnatic                  28"
      ]
     },
     "execution_count": 547,
     "metadata": {},
     "output_type": "execute_result"
    }
   ],
   "source": [
    "fgrouping"
   ]
  },
  {
   "cell_type": "code",
   "execution_count": 511,
   "metadata": {
    "collapsed": true
   },
   "outputs": [],
   "source": [
    "pd.set_option('display.max_columns', 300)"
   ]
  },
  {
   "cell_type": "code",
   "execution_count": null,
   "metadata": {
    "collapsed": true
   },
   "outputs": [],
   "source": [
    "#historical percentage of win on the map\n",
    "#historical rounds for rounds against vs team\n",
    "historical rounds for on map\n",
    "historical average of first picks per person  / on map divided by rounds\n",
    "historical average of amount of kill per person/ on map divided by roundfor \n",
    "historical average of amount of awp kills per person / on map divided by rounds\n",
    "#historical average of damage done / on map \n",
    "#historical average of first picks / on map divided by rounds\n",
    "#historical average of awp kills / on map divided by rounds\n",
    "#historical average of kills / on map divided by rounds\n",
    "previous 3 match average kills  divided by rounds\n",
    "previous 3 match average first picks divided by rounds\n",
    "previous 3 match average awp kills divided by rounds\n",
    "previous 3 match average damage \n",
    "\n",
    "\n",
    "\n",
    "\n"
   ]
  },
  {
   "cell_type": "code",
   "execution_count": 14,
   "metadata": {},
   "outputs": [
    {
     "name": "stdout",
     "output_type": "stream",
     "text": [
      "+/-\n",
      "ADR\n",
      "ANDROID-X23_awp_kills\n",
      "ANDROID-X23_first_kills\n",
      "ANDROID-X23_who_kill_who\n",
      "BlackEagle_awp_kills\n",
      "BlackEagle_first_kills\n",
      "BlackEagle_who_kill_who\n",
      "Blue +_awp_kills\n",
      "Blue +_first_kills\n",
      "Blue +_who_kill_who\n",
      "CT\n",
      "Edward_awp_kills\n",
      "Edward_first_kills\n",
      "Edward_who_kill_who\n",
      "Empera_awp_kills\n",
      "Empera_first_kills\n",
      "Empera_who_kill_who\n",
      "FNS_awp_kills\n",
      "FNS_first_kills\n",
      "FNS_who_kill_who\n",
      "Fable_awp_kills\n",
      "Fable_first_kills\n",
      "Fable_who_kill_who\n",
      "FalleN_awp_kills\n",
      "FalleN_first_kills\n",
      "FalleN_who_kill_who\n",
      "Fog_awp_kills\n",
      "Fog_first_kills\n",
      "Fog_who_kill_who\n",
      "Golden_awp_kills\n",
      "Golden_first_kills\n",
      "Golden_who_kill_who\n",
      "GuardiaN_awp_kills\n",
      "GuardiaN_first_kills\n",
      "GuardiaN_who_kill_who\n",
      "Hiko_awp_kills\n",
      "Hiko_first_kills\n",
      "Hiko_who_kill_who\n",
      "JW_awp_kills\n",
      "JW_first_kills\n",
      "JW_who_kill_who\n",
      "Jada_awp_kills\n",
      "Jada_first_kills\n",
      "Jada_who_kill_who\n",
      "JustnatioN_awp_kills\n",
      "JustnatioN_first_kills\n",
      "JustnatioN_who_kill_who\n",
      "K-D\n",
      "KAST\n",
      "KRIMZ_awp_kills\n",
      "KRIMZ_first_kills\n",
      "KRIMZ_who_kill_who\n",
      "Kheops_awp_kills\n",
      "Kheops_first_kills\n",
      "Kheops_who_kill_who\n",
      "Lekr0_awp_kills\n",
      "Lekr0_first_kills\n",
      "Lekr0_who_kill_who\n",
      "Lieu_awp_kills\n",
      "Lieu_first_kills\n",
      "Lieu_who_kill_who\n",
      "Lyhn_awp_kills\n",
      "Lyhn_first_kills\n",
      "Lyhn_who_kill_who\n",
      "Mumu_awp_kills\n",
      "Mumu_first_kills\n",
      "Mumu_who_kill_who\n",
      "NBK-_awp_kills\n",
      "NBK-_first_kills\n",
      "NBK-_who_kill_who\n",
      "NiKo_awp_kills\n",
      "NiKo_first_kills\n",
      "NiKo_who_kill_who\n",
      "PTC_awp_kills\n",
      "PTC_first_kills\n",
      "PTC_who_kill_who\n",
      "Potei_awp_kills\n",
      "Potei_first_kills\n",
      "Potei_who_kill_who\n",
      "RUSH_awp_kills\n",
      "RUSH_first_kills\n",
      "RUSH_who_kill_who\n",
      "Rambutan_awp_kills\n",
      "Rambutan_first_kills\n",
      "Rambutan_who_kill_who\n",
      "Rating2.0\n",
      "Remind_awp_kills\n",
      "Remind_first_kills\n",
      "Remind_who_kill_who\n",
      "RobbeN_awp_kills\n",
      "RobbeN_first_kills\n",
      "RobbeN_who_kill_who\n",
      "Rookie_awp_kills\n",
      "Rookie_first_kills\n",
      "Rookie_who_kill_who\n",
      "Senpai_awp_kills\n",
      "Senpai_first_kills\n",
      "Senpai_who_kill_who\n",
      "SicK_awp_kills\n",
      "SicK_first_kills\n",
      "SicK_who_kill_who\n",
      "Skadoodle_awp_kills\n",
      "Skadoodle_first_kills\n",
      "Skadoodle_who_kill_who\n",
      "Stewie2K_awp_kills\n",
      "Stewie2K_first_kills\n",
      "Stewie2K_who_kill_who\n",
      "T\n",
      "TACO_awp_kills\n",
      "TACO_first_kills\n",
      "TACO_who_kill_who\n",
      "Tee_awp_kills\n",
      "Tee_first_kills\n",
      "Tee_who_kill_who\n",
      "WeZ_awp_kills\n",
      "WeZ_first_kills\n",
      "WeZ_who_kill_who\n",
      "Zeus_awp_kills\n",
      "Zeus_first_kills\n",
      "Zeus_who_kill_who\n",
      "apEX_awp_kills\n",
      "apEX_first_kills\n",
      "apEX_who_kill_who\n",
      "autimatic_awp_kills\n",
      "autimatic_first_kills\n",
      "autimatic_who_kill_who\n",
      "bodyy_awp_kills\n",
      "bodyy_first_kills\n",
      "bodyy_who_kill_who\n",
      "bramz_awp_kills\n",
      "bramz_first_kills\n",
      "bramz_who_kill_who\n",
      "cadiaN_awp_kills\n",
      "cadiaN_first_kills\n",
      "cadiaN_who_kill_who\n",
      "cheK1vl_awp_kills\n",
      "cheK1vl_first_kills\n",
      "cheK1vl_who_kill_who\n",
      "coldzera_awp_kills\n",
      "coldzera_first_kills\n",
      "coldzera_who_kill_who\n",
      "crazyguy_awp_kills\n",
      "crazyguy_first_kills\n",
      "crazyguy_who_kill_who\n",
      "crony_awp_kills\n",
      "crony_first_kills\n",
      "crony_who_kill_who\n",
      "dephh_awp_kills\n",
      "dephh_first_kills\n",
      "dephh_who_kill_who\n",
      "dispenser_awp_kills\n",
      "dispenser_first_kills\n",
      "dispenser_who_kill_who\n",
      "dobu_awp_kills\n",
      "dobu_first_kills\n",
      "dobu_who_kill_who\n",
      "electronic_awp_kills\n",
      "electronic_first_kills\n",
      "electronic_who_kill_who\n",
      "ending\n",
      "felps_awp_kills\n",
      "felps_first_kills\n",
      "felps_who_kill_who\n",
      "fer_awp_kills\n",
      "fer_first_kills\n",
      "fer_who_kill_who\n",
      "flamie_awp_kills\n",
      "flamie_first_kills\n",
      "flamie_who_kill_who\n",
      "flusha_awp_kills\n",
      "flusha_first_kills\n",
      "flusha_who_kill_who\n",
      "forget_awp_kills\n",
      "forget_first_kills\n",
      "forget_who_kill_who\n",
      "half\n",
      "hoveRR_awp_kills\n",
      "hoveRR_first_kills\n",
      "hoveRR_who_kill_who\n",
      "insanity_awp_kills\n",
      "insanity_first_kills\n",
      "insanity_who_kill_who\n",
      "kabal_awp_kills\n",
      "kabal_first_kills\n",
      "kabal_who_kill_who\n",
      "karrigan_awp_kills\n",
      "karrigan_first_kills\n",
      "karrigan_who_kill_who\n",
      "kennyS_awp_kills\n",
      "kennyS_first_kills\n",
      "kennyS_who_kill_who\n",
      "map\n",
      "match_id\n",
      "match_num\n",
      "nicknames\n",
      "olofmeister_awp_kills\n",
      "olofmeister_first_kills\n",
      "olofmeister_who_kill_who\n",
      "originalheart_awp_kills\n",
      "originalheart_first_kills\n",
      "originalheart_who_kill_who\n",
      "ptr_awp_kills\n",
      "ptr_first_kills\n",
      "ptr_who_kill_who\n",
      "rain_awp_kills\n",
      "rain_first_kills\n",
      "rain_who_kill_who\n",
      "round_num\n",
      "ryx_awp_kills\n",
      "ryx_first_kills\n",
      "ryx_who_kill_who\n",
      "s1mple_awp_kills\n",
      "s1mple_first_kills\n",
      "s1mple_who_kill_who\n",
      "series_id\n",
      "shanx_awp_kills\n",
      "shanx_first_kills\n",
      "shanx_who_kill_who\n",
      "shouta_awp_kills\n",
      "shouta_first_kills\n",
      "shouta_who_kill_who\n",
      "shox_awp_kills\n",
      "shox_first_kills\n",
      "shox_who_kill_who\n",
      "side_winner\n",
      "tarik_awp_kills\n",
      "tarik_first_kills\n",
      "tarik_who_kill_who\n",
      "team_A\n",
      "team_A_score\n",
      "team_B\n",
      "team_B_score\n",
      "team_players\n",
      "vRss_awp_kills\n",
      "vRss_first_kills\n",
      "vRss_who_kill_who\n",
      "vice_awp_kills\n",
      "vice_first_kills\n",
      "vice_who_kill_who\n",
      "winner\n",
      "xiaosaGe_awp_kills\n",
      "xiaosaGe_first_kills\n",
      "xiaosaGe_who_kill_who\n",
      "yay_awp_kills\n",
      "yay_first_kills\n",
      "yay_who_kill_who\n"
     ]
    }
   ],
   "source": [
    "for a in data.columns:\n",
    "    if Series.str.contains\n",
    "    print a"
   ]
  },
  {
   "cell_type": "code",
   "execution_count": 922,
   "metadata": {},
   "outputs": [
    {
     "data": {
      "text/plain": [
       "(2831, 247)"
      ]
     },
     "execution_count": 922,
     "metadata": {},
     "output_type": "execute_result"
    }
   ],
   "source": [
    "data.shape"
   ]
  },
  {
   "cell_type": "code",
   "execution_count": 50,
   "metadata": {},
   "outputs": [
    {
     "ename": "AttributeError",
     "evalue": "'DataFrame' object has no attribute 'team_name'",
     "output_type": "error",
     "traceback": [
      "\u001b[1;31m---------------------------------------------------------------------------\u001b[0m",
      "\u001b[1;31mAttributeError\u001b[0m                            Traceback (most recent call last)",
      "\u001b[1;32m<ipython-input-50-a2bdad172d98>\u001b[0m in \u001b[0;36m<module>\u001b[1;34m()\u001b[0m\n\u001b[1;32m----> 1\u001b[1;33m \u001b[0mdata\u001b[0m\u001b[1;33m.\u001b[0m\u001b[0mteam_name\u001b[0m\u001b[1;33m\u001b[0m\u001b[0m\n\u001b[0m",
      "\u001b[1;32mC:\\Users\\j_coo\\Anaconda2new\\envs\\csgoproject\\lib\\site-packages\\pandas\\core\\generic.pyc\u001b[0m in \u001b[0;36m__getattr__\u001b[1;34m(self, name)\u001b[0m\n\u001b[0;32m   3612\u001b[0m             \u001b[1;32mif\u001b[0m \u001b[0mname\u001b[0m \u001b[1;32min\u001b[0m \u001b[0mself\u001b[0m\u001b[1;33m.\u001b[0m\u001b[0m_info_axis\u001b[0m\u001b[1;33m:\u001b[0m\u001b[1;33m\u001b[0m\u001b[0m\n\u001b[0;32m   3613\u001b[0m                 \u001b[1;32mreturn\u001b[0m \u001b[0mself\u001b[0m\u001b[1;33m[\u001b[0m\u001b[0mname\u001b[0m\u001b[1;33m]\u001b[0m\u001b[1;33m\u001b[0m\u001b[0m\n\u001b[1;32m-> 3614\u001b[1;33m             \u001b[1;32mreturn\u001b[0m \u001b[0mobject\u001b[0m\u001b[1;33m.\u001b[0m\u001b[0m__getattribute__\u001b[0m\u001b[1;33m(\u001b[0m\u001b[0mself\u001b[0m\u001b[1;33m,\u001b[0m \u001b[0mname\u001b[0m\u001b[1;33m)\u001b[0m\u001b[1;33m\u001b[0m\u001b[0m\n\u001b[0m\u001b[0;32m   3615\u001b[0m \u001b[1;33m\u001b[0m\u001b[0m\n\u001b[0;32m   3616\u001b[0m     \u001b[1;32mdef\u001b[0m \u001b[0m__setattr__\u001b[0m\u001b[1;33m(\u001b[0m\u001b[0mself\u001b[0m\u001b[1;33m,\u001b[0m \u001b[0mname\u001b[0m\u001b[1;33m,\u001b[0m \u001b[0mvalue\u001b[0m\u001b[1;33m)\u001b[0m\u001b[1;33m:\u001b[0m\u001b[1;33m\u001b[0m\u001b[0m\n",
      "\u001b[1;31mAttributeError\u001b[0m: 'DataFrame' object has no attribute 'team_name'"
     ]
    }
   ],
   "source": [
    "data.tea"
   ]
  },
  {
   "cell_type": "code",
   "execution_count": 13,
   "metadata": {
    "collapsed": true
   },
   "outputs": [],
   "source": [
    "pd.set_option('display.max_columns', None)"
   ]
  },
  {
   "cell_type": "code",
   "execution_count": 31,
   "metadata": {
    "collapsed": true
   },
   "outputs": [],
   "source": [
    "name_search = data.loc[data['round_num'] == 1]\n",
    "name_search_sum = name_search.loc[name_search['nicknames'] == 'FalleN'].convert_objects(convert_numeric = True).sum()\n"
   ]
  },
  {
   "cell_type": "code",
   "execution_count": 34,
   "metadata": {},
   "outputs": [
    {
     "data": {
      "text/plain": [
       "Lekr0_first_kills                                                      1\n",
       "flusha_first_kills                                                     1\n",
       "team_B                                                                 1\n",
       "JW_first_kills                                                         2\n",
       "team_A                                                                 2\n",
       "round_num                                                              3\n",
       "half                                                                   3\n",
       "Rating2.0                                                           3.32\n",
       "KRIMZ_first_kills                                                      4\n",
       "Golden_first_kills                                                     4\n",
       "KRIMZ_awp_kills                                                        5\n",
       "+/-                                                                    6\n",
       "Golden_awp_kills                                                       6\n",
       "match_num                                                              6\n",
       "JW_awp_kills                                                           7\n",
       "Lekr0_awp_kills                                                        7\n",
       "KRIMZ_who_kill_who                                                    11\n",
       "flusha_awp_kills                                                      11\n",
       "Lekr0_who_kill_who                                                    14\n",
       "Golden_who_kill_who                                                   15\n",
       "JW_who_kill_who                                                       16\n",
       "flusha_who_kill_who                                                   17\n",
       "team_B_score                                                          48\n",
       "team_A_score                                                          51\n",
       "ADR                                                                232.2\n",
       "K-D                                                      31-3021-2221-15\n",
       "match_id               4a69f3d4-8845-4d15-9fa4-119ef551f8f6b7609986-f...\n",
       "KAST                                                     61.0%70.0%64.3%\n",
       "side_winner                                                         CTTT\n",
       "nicknames                                             FalleNFalleNFalleN\n",
       "team_players           Gabriel 'FalleN' Toledo  FalleNGabriel 'FalleN...\n",
       "map                                                InfernoOverpassMirage\n",
       "T                                                                 SKSKSK\n",
       "series_id              c9895d9e-4683-4957-b67a-e27b9636bbd0c9895d9e-4...\n",
       "winner                                                        fnaticSKSK\n",
       "CT                                                    fnaticfnaticfnatic\n",
       "ending                                            t_wint_winbomb_defused\n",
       "dtype: object"
      ]
     },
     "execution_count": 34,
     "metadata": {},
     "output_type": "execute_result"
    }
   ],
   "source": [
    "name_search_sum[name_search_sum > 0].sort_values()"
   ]
  },
  {
   "cell_type": "code",
   "execution_count": 26,
   "metadata": {},
   "outputs": [
    {
     "data": {
      "text/plain": [
       "+/-                                                                         8\n",
       "ADR                                                                    8608.4\n",
       "ANDROID-X23_awp_kills                                                       3\n",
       "ANDROID-X23_first_kills                                                     2\n",
       "ANDROID-X23_who_kill_who                                                   21\n",
       "BlackEagle_awp_kills                                                        2\n",
       "BlackEagle_first_kills                                                     10\n",
       "BlackEagle_who_kill_who                                                    36\n",
       "Blue +_awp_kills                                                            3\n",
       "Blue +_first_kills                                                          5\n",
       "Blue +_who_kill_who                                                        28\n",
       "CT                          LimitlessLimitlessLimitlessLimitlessLimitlessL...\n",
       "Edward_awp_kills                                                            2\n",
       "Edward_first_kills                                                          3\n",
       "Edward_who_kill_who                                                        18\n",
       "Empera_awp_kills                                                            1\n",
       "Empera_first_kills                                                          5\n",
       "Empera_who_kill_who                                                        27\n",
       "FNS_awp_kills                                                               2\n",
       "FNS_first_kills                                                             1\n",
       "FNS_who_kill_who                                                           24\n",
       "Fable_awp_kills                                                             1\n",
       "Fable_first_kills                                                           8\n",
       "Fable_who_kill_who                                                         36\n",
       "FalleN_awp_kills                                                            4\n",
       "FalleN_first_kills                                                          8\n",
       "FalleN_who_kill_who                                                        67\n",
       "Fog_awp_kills                                                               0\n",
       "Fog_first_kills                                                             1\n",
       "Fog_who_kill_who                                                           15\n",
       "                                                  ...                        \n",
       "shanx_first_kills                                                           4\n",
       "shanx_who_kill_who                                                         37\n",
       "shouta_awp_kills                                                            1\n",
       "shouta_first_kills                                                          2\n",
       "shouta_who_kill_who                                                        17\n",
       "shox_awp_kills                                                              7\n",
       "shox_first_kills                                                            2\n",
       "shox_who_kill_who                                                          18\n",
       "side_winner                 CTCTCTCTCTCTCTCTTTTTTTTTTTTTTTTTTTTTCTCTCTCTCT...\n",
       "tarik_awp_kills                                                             1\n",
       "tarik_first_kills                                                           3\n",
       "tarik_who_kill_who                                                         17\n",
       "team_A                                                                     48\n",
       "team_A_score                                                             1337\n",
       "team_B                                                                     66\n",
       "team_B_score                                                             1612\n",
       "team_players                Husain 'Empera' Chehab  EmperaAlaeddine 'Potei...\n",
       "vRss_awp_kills                                                              1\n",
       "vRss_first_kills                                                            2\n",
       "vRss_who_kill_who                                                          23\n",
       "vice_awp_kills                                                              2\n",
       "vice_first_kills                                                            4\n",
       "vice_who_kill_who                                                          32\n",
       "winner                      LimitlessLimitlessLimitlessLimitlessLimitlessL...\n",
       "xiaosaGe_awp_kills                                                          0\n",
       "xiaosaGe_first_kills                                                        0\n",
       "xiaosaGe_who_kill_who                                                       2\n",
       "yay_awp_kills                                                               4\n",
       "yay_first_kills                                                             8\n",
       "yay_who_kill_who                                                           32\n",
       "Length: 247, dtype: object"
      ]
     },
     "execution_count": 26,
     "metadata": {},
     "output_type": "execute_result"
    }
   ],
   "source": [
    "data.loc[data['round_num'] == 1].convert_objects(convert_numeric = True).sum()"
   ]
  },
  {
   "cell_type": "code",
   "execution_count": null,
   "metadata": {
    "collapsed": true,
    "scrolled": false
   },
   "outputs": [],
   "source": [
    "data = pd.concat([data,data['K-D'].str.split('-', 1, expand=True).rename(columns={0:'player_kill', 1:'player_death'})], axis=1)\n"
   ]
  },
  {
   "cell_type": "code",
   "execution_count": null,
   "metadata": {
    "collapsed": true
   },
   "outputs": [],
   "source": [
    "data.shape"
   ]
  },
  {
   "cell_type": "code",
   "execution_count": null,
   "metadata": {
    "collapsed": true
   },
   "outputs": [],
   "source": [
    "data = data.apply(pd.to_numeric, errors='ignore')"
   ]
  },
  {
   "cell_type": "code",
   "execution_count": null,
   "metadata": {
    "collapsed": true
   },
   "outputs": [],
   "source": [
    "data[['map', 'ending', 'CT', 'T', 'side_winner','winner', 'team_players']]= data[['map', 'ending', 'CT', 'T', 'side_winner','winner', 'team_players']].apply(lambda x: pd.factorize(x)[0]) "
   ]
  },
  {
   "cell_type": "code",
   "execution_count": null,
   "metadata": {
    "collapsed": true
   },
   "outputs": [],
   "source": [
    "data['KAST'] = data['KAST'].apply(lambda x : float(x.strip('%')) / 100.0)"
   ]
  },
  {
   "cell_type": "code",
   "execution_count": null,
   "metadata": {
    "collapsed": true,
    "scrolled": true
   },
   "outputs": [],
   "source": [
    "data.dtypes"
   ]
  },
  {
   "cell_type": "code",
   "execution_count": null,
   "metadata": {
    "collapsed": true
   },
   "outputs": [],
   "source": [
    "corr = data.select_dtypes(include = ['float64', 'int64', 'int32']).iloc[:, 0:].corr()\n",
    "plt.figure(figsize=(25, 25))\n",
    "sns.heatmap(corr, vmax=1, square=True)\n",
    "\n"
   ]
  },
  {
   "cell_type": "code",
   "execution_count": null,
   "metadata": {
    "collapsed": true
   },
   "outputs": [],
   "source": []
  },
  {
   "cell_type": "code",
   "execution_count": null,
   "metadata": {
    "collapsed": true
   },
   "outputs": [],
   "source": [
    "ydata = data['winner']"
   ]
  },
  {
   "cell_type": "code",
   "execution_count": null,
   "metadata": {
    "collapsed": true
   },
   "outputs": [],
   "source": [
    "data = data.drop('winner', 1)"
   ]
  },
  {
   "cell_type": "code",
   "execution_count": null,
   "metadata": {
    "collapsed": true
   },
   "outputs": [],
   "source": [
    "data = data.drop('match_id', 1)"
   ]
  },
  {
   "cell_type": "code",
   "execution_count": null,
   "metadata": {
    "collapsed": true
   },
   "outputs": [],
   "source": [
    "data = data.drop('series_id', 1)"
   ]
  },
  {
   "cell_type": "code",
   "execution_count": null,
   "metadata": {
    "collapsed": true
   },
   "outputs": [],
   "source": [
    "data = data.drop('K-D', 1)"
   ]
  },
  {
   "cell_type": "code",
   "execution_count": null,
   "metadata": {
    "collapsed": true
   },
   "outputs": [],
   "source": [
    "data.shape"
   ]
  },
  {
   "cell_type": "code",
   "execution_count": null,
   "metadata": {
    "collapsed": true
   },
   "outputs": [],
   "source": [
    "y = ydata.values\n",
    "X = data.values[:,0:19]"
   ]
  },
  {
   "cell_type": "code",
   "execution_count": null,
   "metadata": {
    "collapsed": true
   },
   "outputs": [],
   "source": [
    "num_folds = 10\n",
    "num_instances = len(X) \n",
    "seed = 7\n",
    "scoring = 'accuracy'"
   ]
  },
  {
   "cell_type": "code",
   "execution_count": null,
   "metadata": {
    "collapsed": true
   },
   "outputs": [],
   "source": []
  },
  {
   "cell_type": "code",
   "execution_count": null,
   "metadata": {
    "collapsed": true
   },
   "outputs": [],
   "source": [
    "def local_cv(model, params):                             #KFOLD WITH GRID SEARCH\n",
    "    param_grid = params\n",
    "    kfold = cross_validation.KFold(n=num_instances, n_folds=num_folds, random_state=seed)\n",
    "    grid = GridSearchCV(estimator=model, param_grid=param_grid, scoring=scoring, cv=kfold)\n",
    "    grid_result = grid.fit(X, y)\n",
    "    print(\"Best: %f using %s\" % (grid_result.best_score_, grid_result.best_params_))\n",
    "    for params, mean_score, scores in grid_result.grid_scores_:\n",
    "        print(\"%f (%f) with: %r\" % (scores.mean(), scores.std(), params))"
   ]
  },
  {
   "cell_type": "code",
   "execution_count": null,
   "metadata": {
    "collapsed": true
   },
   "outputs": [],
   "source": [
    "num_folds = 10\n",
    "num_instances = len(X) \n",
    "seed = 7\n",
    "scoring = 'accuracy'\n",
    "model = GradientBoostingClassifier()\n",
    "params = {\n",
    " 'max_depth':[4,6,8,10,12,16],\n",
    " 'n_estimators':[20,30,50,80,100],\n",
    "'learning_rate':[.1,.01,.001]}\n",
    "local_cv(model, params)"
   ]
  },
  {
   "cell_type": "code",
   "execution_count": null,
   "metadata": {
    "collapsed": true
   },
   "outputs": [],
   "source": [
    "models = []\n",
    "#models.append(('LR', LogisticRegression()))\n",
    "#models.append(('LASSO', Lasso())) \n",
    "#models.append(('Ridge', Ridge())) \n",
    "#models.append(('LDA', LinearDiscriminantAnalysis()))\n",
    "#models.append(('NB', GaussianNB()))\n",
    "#models.append(('CART', DecisionTreeClassifier())) \n",
    "#models.append(('KNeighborsClassifier', KNeighborsClassifier())) \n",
    "#models.append(('XGBClassifier', xgb.XGBClassifier()))\n",
    "models.append(('GradientBoostingClassifier', GradientBoostingClassifier()))\n",
    "#models.append(('AdaBoostClassifier', AdaBoostClassifier()))\n",
    "#models.append(('RandomForestClassifier', RandomForestClassifier()))\n",
    "#models.append(('ExtraTreesClassifier', ExtraTreesClassifier()))\n",
    "models.append(('DecisionTreeClassifier', DecisionTreeClassifier()))\n",
    "models.append(('SVC', SVC()))\n",
    "\n",
    "# evaluate each model in turn\n",
    "results = []\n",
    "names = []\n",
    "for name, model in models:\n",
    "    print '1'\n",
    "    kfold = cross_validation.KFold(n=num_instances, n_folds=num_folds, random_state=seed)\n",
    "    print '2'\n",
    "    cv_results = cross_validation.cross_val_score(model, X, y, cv=kfold, scoring = scoring)\n",
    "    print '3'\n",
    "    results.append(cv_results)\n",
    "    print '4'\n",
    "    names.append(name)\n",
    "    print '5'\n",
    "    model.fit(X, y)\n",
    "    print '6'\n",
    "    predicted = model.predict(X)\n",
    "    msg = \"%s: %f (%f)\" % (name, cv_results.mean(), cv_results.std())\n",
    "    print(msg)"
   ]
  },
  {
   "cell_type": "code",
   "execution_count": null,
   "metadata": {
    "collapsed": true
   },
   "outputs": [],
   "source": []
  }
 ],
 "metadata": {
  "kernelspec": {
   "display_name": "Python 2",
   "language": "python",
   "name": "python2"
  },
  "language_info": {
   "codemirror_mode": {
    "name": "ipython",
    "version": 2
   },
   "file_extension": ".py",
   "mimetype": "text/x-python",
   "name": "python",
   "nbconvert_exporter": "python",
   "pygments_lexer": "ipython2",
   "version": "2.7.13"
  }
 },
 "nbformat": 4,
 "nbformat_minor": 2
}
