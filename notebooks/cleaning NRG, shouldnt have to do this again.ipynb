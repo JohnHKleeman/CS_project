{
 "cells": [
  {
   "cell_type": "code",
   "execution_count": 1,
   "metadata": {
    "collapsed": true
   },
   "outputs": [],
   "source": [
    "from cspython.scraper import modifiedSoup, get_teamID\n",
    "from cspython.data_processing import process_scrapped\n",
    "import cPickle as pkl\n",
    "import sys\n",
    "import pandas as pd\n",
    "sys.setrecursionlimit(15000)\n",
    "\n",
    "def get_series(big_data):\n",
    "    return big_data[big_data.keys()[0]]"
   ]
  },
  {
   "cell_type": "code",
   "execution_count": 72,
   "metadata": {
    "collapsed": true
   },
   "outputs": [],
   "source": [
    "with open('../cspython/NRG_2016-10-01_to_2017-10-13.pkl', 'rb') as f:\n",
    "    d = pkl.load(f)"
   ]
  },
  {
   "cell_type": "code",
   "execution_count": 73,
   "metadata": {
    "collapsed": false
   },
   "outputs": [],
   "source": [
    "for series in d:\n",
    "    if len(series['team_scoreboards'][0])>len(series['team_scoreboards'][1]):\n",
    "        series['team_scoreboards'][0]=series['team_scoreboards'][0][:-1]\n",
    "        "
   ]
  },
  {
   "cell_type": "code",
   "execution_count": 74,
   "metadata": {
    "collapsed": false
   },
   "outputs": [],
   "source": [
    "bad_idx = []\n",
    "for idx,series in big_data.iteritems():\n",
    "    num_m = len(series['match_overview'])\n",
    "    if len(series['scoreboards'][0]) != num_m:\n",
    "        print num_m, len(series['scoreboards'][0]), len(series['scoreboards'][1])\n",
    "        bad_idx.append(idx)"
   ]
  },
  {
   "cell_type": "code",
   "execution_count": 76,
   "metadata": {
    "collapsed": false
   },
   "outputs": [],
   "source": [
    "for s in d:\n",
    "    if s['vetos'] == 'No Vetos':\n",
    "        s['vetos'] = []\n",
    "        \n",
    "    s['team_a_b'][0]= str(s['team_a_b'][0])\n",
    "    s['team_a_b'][1]= str(s['team_a_b'][1])"
   ]
  },
  {
   "cell_type": "code",
   "execution_count": 77,
   "metadata": {
    "collapsed": false
   },
   "outputs": [],
   "source": [
    "with open('NRG_2016-10-01_to_2017-10-13_cleaned.pkl', 'wb') as f:\n",
    "    pkl.dump(d, f, protocol=1)"
   ]
  },
  {
   "cell_type": "code",
   "execution_count": 78,
   "metadata": {
    "collapsed": true
   },
   "outputs": [],
   "source": [
    "ov, bd = process_scrapped(d)"
   ]
  },
  {
   "cell_type": "code",
   "execution_count": 79,
   "metadata": {
    "collapsed": true
   },
   "outputs": [],
   "source": [
    "with open('NRG_processed.pkl', 'wb') as f:\n",
    "    pkl.dump((ov,bd), f)"
   ]
  }
 ],
 "metadata": {
  "kernelspec": {
   "display_name": "Python [conda root]",
   "language": "python",
   "name": "conda-root-py"
  },
  "language_info": {
   "codemirror_mode": {
    "name": "ipython",
    "version": 2
   },
   "file_extension": ".py",
   "mimetype": "text/x-python",
   "name": "python",
   "nbconvert_exporter": "python",
   "pygments_lexer": "ipython2",
   "version": "2.7.12"
  }
 },
 "nbformat": 4,
 "nbformat_minor": 1
}
