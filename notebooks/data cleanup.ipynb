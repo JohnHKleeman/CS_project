{
 "cells": [
  {
   "cell_type": "code",
   "execution_count": 1,
   "metadata": {
    "collapsed": false
   },
   "outputs": [],
   "source": [
    "import cspython.scraper\n",
    "import pandas as pd"
   ]
  },
  {
   "cell_type": "code",
   "execution_count": 2,
   "metadata": {
    "collapsed": false
   },
   "outputs": [
    {
     "name": "stdout",
     "output_type": "stream",
     "text": [
      "https://www.hltv.org/results?offset=0&content=demo&team=7532&startDate=2016-10-10&endDate=2017-02-01\n",
      "https://www.hltv.org/matches/2307616/big-vs-ination-igamecom-winter-invitational\n",
      "https://www.hltv.org/matches/2307616/big-vs-ination-igamecom-winter-invitational\n",
      "https://www.hltv.org/stats/matches/mapstatsid/41040/ination-vs-big\n",
      "https://www.hltv.org/stats/matches/performance/mapstatsid/41040/ination-vs-big\n",
      "match 0 done\n",
      "https://www.hltv.org/matches/2307615/big-vs-igamecom-igamecom-winter-invitational\n",
      "https://www.hltv.org/matches/2307615/big-vs-igamecom-igamecom-winter-invitational\n",
      "https://www.hltv.org/stats/matches/mapstatsid/41037/big-vs-igamecom\n",
      "https://www.hltv.org/stats/matches/performance/mapstatsid/41037/big-vs-igamecom\n",
      "match 1 done\n",
      "https://www.hltv.org/matches/2307440/flipsid3-vs-big-dreamhack-astro-open-leipzig-2017\n",
      "https://www.hltv.org/matches/2307440/flipsid3-vs-big-dreamhack-astro-open-leipzig-2017\n",
      "https://www.hltv.org/stats/matches/41029/flipsid3-vs-big\n",
      "https://www.hltv.org/stats/matches/mapstatsid/40745/big-vs-flipsid3\n",
      "https://www.hltv.org/stats/matches/mapstatsid/40746/big-vs-flipsid3\n",
      "https://www.hltv.org/stats/matches/performance/41029/flipsid3-vs-big\n",
      "https://www.hltv.org/stats/matches/performance/mapstatsid/40745/big-vs-flipsid3\n",
      "https://www.hltv.org/stats/matches/performance/mapstatsid/40746/big-vs-flipsid3\n",
      "match 2 done\n",
      "https://www.hltv.org/matches/2307438/heroic-vs-big-dreamhack-astro-open-leipzig-2017\n",
      "https://www.hltv.org/matches/2307438/heroic-vs-big-dreamhack-astro-open-leipzig-2017\n",
      "https://www.hltv.org/stats/matches/41028/heroic-vs-big\n",
      "https://www.hltv.org/stats/matches/mapstatsid/40740/big-vs-heroic\n",
      "https://www.hltv.org/stats/matches/mapstatsid/40743/big-vs-heroic\n",
      "https://www.hltv.org/stats/matches/mapstatsid/40744/heroic-vs-big\n",
      "https://www.hltv.org/stats/matches/performance/41028/heroic-vs-big\n",
      "https://www.hltv.org/stats/matches/performance/mapstatsid/40740/big-vs-heroic\n",
      "https://www.hltv.org/stats/matches/performance/mapstatsid/40743/big-vs-heroic\n",
      "https://www.hltv.org/stats/matches/performance/mapstatsid/40744/heroic-vs-big\n",
      "match 3 done\n",
      "https://www.hltv.org/matches/2307437/vega-squadron-vs-big-dreamhack-astro-open-leipzig-2017\n",
      "https://www.hltv.org/matches/2307437/vega-squadron-vs-big-dreamhack-astro-open-leipzig-2017\n",
      "https://www.hltv.org/stats/matches/41022/vega-squadron-vs-big\n",
      "https://www.hltv.org/stats/matches/mapstatsid/40723/big-vs-vega-squadron\n",
      "https://www.hltv.org/stats/matches/mapstatsid/40724/big-vs-vega-squadron\n",
      "https://www.hltv.org/stats/matches/performance/41022/vega-squadron-vs-big\n",
      "https://www.hltv.org/stats/matches/performance/mapstatsid/40723/big-vs-vega-squadron\n",
      "https://www.hltv.org/stats/matches/performance/mapstatsid/40724/big-vs-vega-squadron\n",
      "match 4 done\n",
      "https://www.hltv.org/matches/2307435/big-vs-rogue-dreamhack-astro-open-leipzig-2017\n",
      "https://www.hltv.org/matches/2307435/big-vs-rogue-dreamhack-astro-open-leipzig-2017\n",
      "https://www.hltv.org/stats/matches/41020/big-vs-rogue\n",
      "https://www.hltv.org/stats/matches/mapstatsid/40717/big-vs-rogue\n",
      "https://www.hltv.org/stats/matches/mapstatsid/40719/rogue-vs-big\n",
      "https://www.hltv.org/stats/matches/performance/41020/big-vs-rogue\n",
      "https://www.hltv.org/stats/matches/performance/mapstatsid/40717/big-vs-rogue\n",
      "https://www.hltv.org/stats/matches/performance/mapstatsid/40719/rogue-vs-big\n",
      "match 5 done\n",
      "https://www.hltv.org/matches/2307429/flipsid3-vs-big-dreamhack-astro-open-leipzig-2017\n",
      "https://www.hltv.org/matches/2307429/flipsid3-vs-big-dreamhack-astro-open-leipzig-2017\n",
      "https://www.hltv.org/stats/matches/mapstatsid/40674/big-vs-flipsid3\n",
      "https://www.hltv.org/stats/matches/performance/mapstatsid/40674/big-vs-flipsid3\n",
      "match 6 done\n",
      "https://www.hltv.org/matches/2307302/mousesports-vs-big-dreamhack-masters-las-vegas-2017-europe-closed-qualifier\n",
      "https://www.hltv.org/matches/2307302/mousesports-vs-big-dreamhack-masters-las-vegas-2017-europe-closed-qualifier\n",
      "https://www.hltv.org/stats/matches/40917/mousesports-vs-big\n",
      "https://www.hltv.org/stats/matches/mapstatsid/40478/mousesports-vs-big\n",
      "https://www.hltv.org/stats/matches/mapstatsid/40486/mousesports-vs-big\n",
      "https://www.hltv.org/stats/matches/mapstatsid/40491/big-vs-mousesports\n",
      "https://www.hltv.org/stats/matches/performance/40917/mousesports-vs-big\n",
      "https://www.hltv.org/stats/matches/performance/mapstatsid/40478/mousesports-vs-big\n",
      "https://www.hltv.org/stats/matches/performance/mapstatsid/40486/mousesports-vs-big\n",
      "https://www.hltv.org/stats/matches/performance/mapstatsid/40491/big-vs-mousesports\n",
      "match 7 done\n"
     ]
    }
   ],
   "source": [
    "matches = cspython.scraper.scrape_match_data('BIG', '2016-10-10', '2017-02-01')"
   ]
  },
  {
   "cell_type": "code",
   "execution_count": 3,
   "metadata": {
    "collapsed": false
   },
   "outputs": [
    {
     "data": {
      "text/plain": [
       "['url',\n",
       " 'demo_url',\n",
       " 'teams',\n",
       " 'vetos',\n",
       " 'match_data',\n",
       " 'stats_url',\n",
       " 'team_a_b',\n",
       " 'match_info',\n",
       " 'stats_data']"
      ]
     },
     "execution_count": 3,
     "metadata": {},
     "output_type": "execute_result"
    }
   ],
   "source": [
    "matches[0].keys()"
   ]
  },
  {
   "cell_type": "code",
   "execution_count": 4,
   "metadata": {
    "collapsed": false
   },
   "outputs": [
    {
     "data": {
      "text/plain": [
       "{'Mirage': {'team_scores': [u'13', u'16']}}"
      ]
     },
     "execution_count": 4,
     "metadata": {},
     "output_type": "execute_result"
    }
   ],
   "source": [
    "matches[0]['match_info']"
   ]
  },
  {
   "cell_type": "code",
   "execution_count": 7,
   "metadata": {
    "collapsed": false
   },
   "outputs": [
    {
     "ename": "IndexError",
     "evalue": "list index out of range",
     "output_type": "error",
     "traceback": [
      "\u001b[0;31m---------------------------------------------------------------------------\u001b[0m",
      "\u001b[0;31mIndexError\u001b[0m                                Traceback (most recent call last)",
      "\u001b[0;32m<ipython-input-7-7d2f0b3ff5af>\u001b[0m in \u001b[0;36m<module>\u001b[0;34m()\u001b[0m\n\u001b[0;32m----> 1\u001b[0;31m \u001b[0mpd\u001b[0m\u001b[1;33m.\u001b[0m\u001b[0mSeries\u001b[0m\u001b[1;33m(\u001b[0m\u001b[0mmatches\u001b[0m\u001b[1;33m[\u001b[0m\u001b[1;36m0\u001b[0m\u001b[1;33m]\u001b[0m\u001b[1;33m[\u001b[0m\u001b[1;34m'stats_data'\u001b[0m\u001b[1;33m]\u001b[0m\u001b[1;33m[\u001b[0m\u001b[1;36m1\u001b[0m\u001b[1;33m]\u001b[0m\u001b[1;33m[\u001b[0m\u001b[1;34m'team_endings'\u001b[0m\u001b[1;33m]\u001b[0m\u001b[1;33m[\u001b[0m\u001b[1;34m'team_a'\u001b[0m\u001b[1;33m]\u001b[0m\u001b[1;33m)\u001b[0m\u001b[1;33m\u001b[0m\u001b[0m\n\u001b[0m",
      "\u001b[0;31mIndexError\u001b[0m: list index out of range"
     ]
    }
   ],
   "source": [
    "pd.Series(matches[0]['stats_data'][1]['team_endings']['team_a'])"
   ]
  },
  {
   "cell_type": "code",
   "execution_count": 11,
   "metadata": {
    "collapsed": false
   },
   "outputs": [
    {
     "data": {
      "text/plain": [
       "0              [7532]\n",
       "1            [ct_win]\n",
       "2            [ct_win]\n",
       "3      [bomb_defused]\n",
       "4      [emptyHistory]\n",
       "5      [emptyHistory]\n",
       "6      [emptyHistory]\n",
       "7            [ct_win]\n",
       "8      [emptyHistory]\n",
       "9      [emptyHistory]\n",
       "10     [emptyHistory]\n",
       "11     [emptyHistory]\n",
       "12     [emptyHistory]\n",
       "13           [ct_win]\n",
       "14           [ct_win]\n",
       "15           [ct_win]\n",
       "16            [t_win]\n",
       "17    [bomb_exploded]\n",
       "18            [t_win]\n",
       "19     [emptyHistory]\n",
       "20     [emptyHistory]\n",
       "21    [bomb_exploded]\n",
       "22     [emptyHistory]\n",
       "23     [emptyHistory]\n",
       "24     [emptyHistory]\n",
       "25     [emptyHistory]\n",
       "26     [emptyHistory]\n",
       "27     [emptyHistory]\n",
       "28     [emptyHistory]\n",
       "29     [emptyHistory]\n",
       "30     [emptyHistory]\n",
       "dtype: object"
      ]
     },
     "execution_count": 11,
     "metadata": {},
     "output_type": "execute_result"
    }
   ],
   "source": [
    "pd.Series(matches[2]['stats_data'][1]['team_endings']['team_b'])"
   ]
  },
  {
   "cell_type": "code",
   "execution_count": 20,
   "metadata": {
    "collapsed": false
   },
   "outputs": [],
   "source": [
    "def create_team_ending_df(match):\n",
    "    team_a = pd.Series(match['stats_data']['team_endings']['team_a'])\n",
    "    team_b = pd.Series(match['stats_data']['team_endings']['team_b'])\n",
    "    return pd.concat([team_a, team_b], axis=1)\n",
    "\n",
    "def create_team_score_df(match):\n",
    "    team_a = pd.Series(match['stats_data']['team_scores']['team_a'])\n",
    "    team_b = pd.Series(match['stats_data']['team_scores']['team_b'])\n",
    "    return pd.concat([team_a, team_b], axis=1)"
   ]
  },
  {
   "cell_type": "code",
   "execution_count": 21,
   "metadata": {
    "collapsed": false
   },
   "outputs": [
    {
     "data": {
      "text/html": [
       "<div>\n",
       "<table border=\"1\" class=\"dataframe\">\n",
       "  <thead>\n",
       "    <tr style=\"text-align: right;\">\n",
       "      <th></th>\n",
       "      <th>0</th>\n",
       "      <th>1</th>\n",
       "    </tr>\n",
       "  </thead>\n",
       "  <tbody>\n",
       "    <tr>\n",
       "      <th>0</th>\n",
       "      <td>[BIG]</td>\n",
       "      <td>[iNation]</td>\n",
       "    </tr>\n",
       "    <tr>\n",
       "      <th>1</th>\n",
       "      <td>[1-0]</td>\n",
       "      <td>[]</td>\n",
       "    </tr>\n",
       "    <tr>\n",
       "      <th>2</th>\n",
       "      <td>[2-0]</td>\n",
       "      <td>[]</td>\n",
       "    </tr>\n",
       "    <tr>\n",
       "      <th>3</th>\n",
       "      <td>[3-0]</td>\n",
       "      <td>[]</td>\n",
       "    </tr>\n",
       "    <tr>\n",
       "      <th>4</th>\n",
       "      <td>[4-0]</td>\n",
       "      <td>[]</td>\n",
       "    </tr>\n",
       "    <tr>\n",
       "      <th>5</th>\n",
       "      <td>[]</td>\n",
       "      <td>[4-1]</td>\n",
       "    </tr>\n",
       "    <tr>\n",
       "      <th>6</th>\n",
       "      <td>[]</td>\n",
       "      <td>[4-2]</td>\n",
       "    </tr>\n",
       "    <tr>\n",
       "      <th>7</th>\n",
       "      <td>[]</td>\n",
       "      <td>[4-3]</td>\n",
       "    </tr>\n",
       "    <tr>\n",
       "      <th>8</th>\n",
       "      <td>[]</td>\n",
       "      <td>[4-4]</td>\n",
       "    </tr>\n",
       "    <tr>\n",
       "      <th>9</th>\n",
       "      <td>[]</td>\n",
       "      <td>[4-5]</td>\n",
       "    </tr>\n",
       "    <tr>\n",
       "      <th>10</th>\n",
       "      <td>[]</td>\n",
       "      <td>[4-6]</td>\n",
       "    </tr>\n",
       "    <tr>\n",
       "      <th>11</th>\n",
       "      <td>[]</td>\n",
       "      <td>[4-7]</td>\n",
       "    </tr>\n",
       "    <tr>\n",
       "      <th>12</th>\n",
       "      <td>[]</td>\n",
       "      <td>[4-8]</td>\n",
       "    </tr>\n",
       "    <tr>\n",
       "      <th>13</th>\n",
       "      <td>[]</td>\n",
       "      <td>[4-9]</td>\n",
       "    </tr>\n",
       "    <tr>\n",
       "      <th>14</th>\n",
       "      <td>[]</td>\n",
       "      <td>[4-10]</td>\n",
       "    </tr>\n",
       "    <tr>\n",
       "      <th>15</th>\n",
       "      <td>[5-10]</td>\n",
       "      <td>[]</td>\n",
       "    </tr>\n",
       "    <tr>\n",
       "      <th>16</th>\n",
       "      <td>[6-10]</td>\n",
       "      <td>[]</td>\n",
       "    </tr>\n",
       "    <tr>\n",
       "      <th>17</th>\n",
       "      <td>[7-10]</td>\n",
       "      <td>[]</td>\n",
       "    </tr>\n",
       "    <tr>\n",
       "      <th>18</th>\n",
       "      <td>[8-10]</td>\n",
       "      <td>[]</td>\n",
       "    </tr>\n",
       "    <tr>\n",
       "      <th>19</th>\n",
       "      <td>[9-10]</td>\n",
       "      <td>[]</td>\n",
       "    </tr>\n",
       "    <tr>\n",
       "      <th>20</th>\n",
       "      <td>[10-10]</td>\n",
       "      <td>[]</td>\n",
       "    </tr>\n",
       "    <tr>\n",
       "      <th>21</th>\n",
       "      <td>[]</td>\n",
       "      <td>[10-11]</td>\n",
       "    </tr>\n",
       "    <tr>\n",
       "      <th>22</th>\n",
       "      <td>[11-11]</td>\n",
       "      <td>[]</td>\n",
       "    </tr>\n",
       "    <tr>\n",
       "      <th>23</th>\n",
       "      <td>[12-11]</td>\n",
       "      <td>[]</td>\n",
       "    </tr>\n",
       "    <tr>\n",
       "      <th>24</th>\n",
       "      <td>[13-11]</td>\n",
       "      <td>[]</td>\n",
       "    </tr>\n",
       "    <tr>\n",
       "      <th>25</th>\n",
       "      <td>[]</td>\n",
       "      <td>[13-12]</td>\n",
       "    </tr>\n",
       "    <tr>\n",
       "      <th>26</th>\n",
       "      <td>[]</td>\n",
       "      <td>[13-13]</td>\n",
       "    </tr>\n",
       "    <tr>\n",
       "      <th>27</th>\n",
       "      <td>[]</td>\n",
       "      <td>[13-14]</td>\n",
       "    </tr>\n",
       "    <tr>\n",
       "      <th>28</th>\n",
       "      <td>[]</td>\n",
       "      <td>[13-15]</td>\n",
       "    </tr>\n",
       "    <tr>\n",
       "      <th>29</th>\n",
       "      <td>[]</td>\n",
       "      <td>[13-16]</td>\n",
       "    </tr>\n",
       "    <tr>\n",
       "      <th>30</th>\n",
       "      <td>[]</td>\n",
       "      <td>[]</td>\n",
       "    </tr>\n",
       "  </tbody>\n",
       "</table>\n",
       "</div>"
      ],
      "text/plain": [
       "          0          1\n",
       "0     [BIG]  [iNation]\n",
       "1     [1-0]         []\n",
       "2     [2-0]         []\n",
       "3     [3-0]         []\n",
       "4     [4-0]         []\n",
       "5        []      [4-1]\n",
       "6        []      [4-2]\n",
       "7        []      [4-3]\n",
       "8        []      [4-4]\n",
       "9        []      [4-5]\n",
       "10       []      [4-6]\n",
       "11       []      [4-7]\n",
       "12       []      [4-8]\n",
       "13       []      [4-9]\n",
       "14       []     [4-10]\n",
       "15   [5-10]         []\n",
       "16   [6-10]         []\n",
       "17   [7-10]         []\n",
       "18   [8-10]         []\n",
       "19   [9-10]         []\n",
       "20  [10-10]         []\n",
       "21       []    [10-11]\n",
       "22  [11-11]         []\n",
       "23  [12-11]         []\n",
       "24  [13-11]         []\n",
       "25       []    [13-12]\n",
       "26       []    [13-13]\n",
       "27       []    [13-14]\n",
       "28       []    [13-15]\n",
       "29       []    [13-16]\n",
       "30       []         []"
      ]
     },
     "execution_count": 21,
     "metadata": {},
     "output_type": "execute_result"
    }
   ],
   "source": [
    "for match in matches:\n",
    "    if match['stats_data']['team_scores']['team_a']"
   ]
  },
  {
   "cell_type": "code",
   "execution_count": null,
   "metadata": {
    "collapsed": true
   },
   "outputs": [],
   "source": []
  }
 ],
 "metadata": {
  "anaconda-cloud": {},
  "kernelspec": {
   "display_name": "Python [conda root]",
   "language": "python",
   "name": "conda-root-py"
  },
  "language_info": {
   "codemirror_mode": {
    "name": "ipython",
    "version": 2
   },
   "file_extension": ".py",
   "mimetype": "text/x-python",
   "name": "python",
   "nbconvert_exporter": "python",
   "pygments_lexer": "ipython2",
   "version": "2.7.12"
  }
 },
 "nbformat": 4,
 "nbformat_minor": 1
}
