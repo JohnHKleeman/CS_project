{
 "cells": [
  {
   "cell_type": "code",
   "execution_count": 1,
   "metadata": {
    "collapsed": false
   },
   "outputs": [],
   "source": [
    "import cspython.scraper\n",
    "import pandas as pd"
   ]
  },
  {
   "cell_type": "code",
   "execution_count": 2,
   "metadata": {
    "collapsed": false
   },
   "outputs": [
    {
     "name": "stdout",
     "output_type": "stream",
     "text": [
      "https://www.hltv.org/results?offset=0&content=demo&team=7532&startDate=2017-01-01&endDate=2017-02-01\n",
      "https://www.hltv.org/matches/2307616/big-vs-ination-igamecom-winter-invitational\n",
      "https://www.hltv.org/matches/2307616/big-vs-ination-igamecom-winter-invitational\n",
      "https://www.hltv.org/stats/matches/mapstatsid/41040/ination-vs-big\n",
      "https://www.hltv.org/stats/matches/performance/mapstatsid/41040/ination-vs-big\n",
      "match 0 done\n",
      "https://www.hltv.org/matches/2307615/big-vs-igamecom-igamecom-winter-invitational\n",
      "https://www.hltv.org/matches/2307615/big-vs-igamecom-igamecom-winter-invitational\n",
      "https://www.hltv.org/stats/matches/mapstatsid/41037/big-vs-igamecom\n",
      "https://www.hltv.org/stats/matches/performance/mapstatsid/41037/big-vs-igamecom\n",
      "match 1 done\n",
      "https://www.hltv.org/matches/2307440/flipsid3-vs-big-dreamhack-astro-open-leipzig-2017\n",
      "https://www.hltv.org/matches/2307440/flipsid3-vs-big-dreamhack-astro-open-leipzig-2017\n",
      "https://www.hltv.org/stats/matches/41029/flipsid3-vs-big\n",
      "https://www.hltv.org/stats/matches/mapstatsid/40745/big-vs-flipsid3\n",
      "https://www.hltv.org/stats/matches/mapstatsid/40746/big-vs-flipsid3\n",
      "https://www.hltv.org/stats/matches/performance/41029/flipsid3-vs-big\n",
      "https://www.hltv.org/stats/matches/performance/mapstatsid/40745/big-vs-flipsid3\n",
      "https://www.hltv.org/stats/matches/performance/mapstatsid/40746/big-vs-flipsid3\n",
      "match 2 done\n",
      "https://www.hltv.org/matches/2307438/heroic-vs-big-dreamhack-astro-open-leipzig-2017\n",
      "https://www.hltv.org/matches/2307438/heroic-vs-big-dreamhack-astro-open-leipzig-2017\n",
      "https://www.hltv.org/stats/matches/41028/heroic-vs-big\n",
      "https://www.hltv.org/stats/matches/mapstatsid/40740/big-vs-heroic\n",
      "https://www.hltv.org/stats/matches/mapstatsid/40743/big-vs-heroic\n",
      "https://www.hltv.org/stats/matches/mapstatsid/40744/heroic-vs-big\n",
      "https://www.hltv.org/stats/matches/performance/41028/heroic-vs-big\n",
      "https://www.hltv.org/stats/matches/performance/mapstatsid/40740/big-vs-heroic\n",
      "https://www.hltv.org/stats/matches/performance/mapstatsid/40743/big-vs-heroic\n",
      "https://www.hltv.org/stats/matches/performance/mapstatsid/40744/heroic-vs-big\n",
      "match 3 done\n",
      "https://www.hltv.org/matches/2307437/vega-squadron-vs-big-dreamhack-astro-open-leipzig-2017\n",
      "https://www.hltv.org/matches/2307437/vega-squadron-vs-big-dreamhack-astro-open-leipzig-2017\n",
      "https://www.hltv.org/stats/matches/41022/vega-squadron-vs-big\n",
      "https://www.hltv.org/stats/matches/mapstatsid/40723/big-vs-vega-squadron\n",
      "https://www.hltv.org/stats/matches/mapstatsid/40724/big-vs-vega-squadron\n",
      "https://www.hltv.org/stats/matches/performance/41022/vega-squadron-vs-big\n",
      "https://www.hltv.org/stats/matches/performance/mapstatsid/40723/big-vs-vega-squadron\n",
      "https://www.hltv.org/stats/matches/performance/mapstatsid/40724/big-vs-vega-squadron\n",
      "match 4 done\n",
      "https://www.hltv.org/matches/2307435/big-vs-rogue-dreamhack-astro-open-leipzig-2017\n",
      "https://www.hltv.org/matches/2307435/big-vs-rogue-dreamhack-astro-open-leipzig-2017\n",
      "https://www.hltv.org/stats/matches/41020/big-vs-rogue\n",
      "https://www.hltv.org/stats/matches/mapstatsid/40717/big-vs-rogue\n",
      "https://www.hltv.org/stats/matches/mapstatsid/40719/rogue-vs-big\n",
      "https://www.hltv.org/stats/matches/performance/41020/big-vs-rogue\n",
      "https://www.hltv.org/stats/matches/performance/mapstatsid/40717/big-vs-rogue\n",
      "https://www.hltv.org/stats/matches/performance/mapstatsid/40719/rogue-vs-big\n",
      "match 5 done\n",
      "https://www.hltv.org/matches/2307429/flipsid3-vs-big-dreamhack-astro-open-leipzig-2017\n",
      "https://www.hltv.org/matches/2307429/flipsid3-vs-big-dreamhack-astro-open-leipzig-2017\n",
      "https://www.hltv.org/stats/matches/mapstatsid/40674/big-vs-flipsid3\n",
      "https://www.hltv.org/stats/matches/performance/mapstatsid/40674/big-vs-flipsid3\n",
      "match 6 done\n",
      "https://www.hltv.org/matches/2307302/mousesports-vs-big-dreamhack-masters-las-vegas-2017-europe-closed-qualifier\n",
      "https://www.hltv.org/matches/2307302/mousesports-vs-big-dreamhack-masters-las-vegas-2017-europe-closed-qualifier\n",
      "https://www.hltv.org/stats/matches/40917/mousesports-vs-big\n",
      "https://www.hltv.org/stats/matches/mapstatsid/40478/mousesports-vs-big\n",
      "https://www.hltv.org/stats/matches/mapstatsid/40486/mousesports-vs-big\n",
      "https://www.hltv.org/stats/matches/mapstatsid/40491/big-vs-mousesports\n",
      "https://www.hltv.org/stats/matches/performance/40917/mousesports-vs-big\n",
      "https://www.hltv.org/stats/matches/performance/mapstatsid/40478/mousesports-vs-big\n",
      "https://www.hltv.org/stats/matches/performance/mapstatsid/40486/mousesports-vs-big\n",
      "https://www.hltv.org/stats/matches/performance/mapstatsid/40491/big-vs-mousesports\n",
      "match 7 done\n"
     ]
    }
   ],
   "source": [
    "series = cspython.scraper.scrape_series_data('BIG', '2017-01-01', '2017-02-01')"
   ]
  },
  {
   "cell_type": "code",
   "execution_count": 3,
   "metadata": {
    "collapsed": false
   },
   "outputs": [
    {
     "data": {
      "text/plain": [
       "['url',\n",
       " 'demo_url',\n",
       " 'teams',\n",
       " 'vetos',\n",
       " 'match_data',\n",
       " 'stats_url',\n",
       " 'team_a_b',\n",
       " 'match_info',\n",
       " 'stats_data']"
      ]
     },
     "execution_count": 3,
     "metadata": {},
     "output_type": "execute_result"
    }
   ],
   "source": [
    "series[0].keys()"
   ]
  },
  {
   "cell_type": "code",
   "execution_count": 10,
   "metadata": {
    "collapsed": false
   },
   "outputs": [
    {
     "data": {
      "text/html": [
       "<div>\n",
       "<table border=\"1\" class=\"dataframe\">\n",
       "  <thead>\n",
       "    <tr style=\"text-align: right;\">\n",
       "      <th></th>\n",
       "      <th>BIG</th>\n",
       "      <th>K-D</th>\n",
       "      <th>+/-</th>\n",
       "      <th>ADR</th>\n",
       "      <th>KAST</th>\n",
       "      <th>Rating2.0</th>\n",
       "    </tr>\n",
       "  </thead>\n",
       "  <tbody>\n",
       "    <tr>\n",
       "      <th>0</th>\n",
       "      <td>Johannes 'nex' Maget  nex</td>\n",
       "      <td>24-11</td>\n",
       "      <td>13</td>\n",
       "      <td>111.5</td>\n",
       "      <td>75.0%</td>\n",
       "      <td>1.56</td>\n",
       "    </tr>\n",
       "    <tr>\n",
       "      <th>1</th>\n",
       "      <td>Johannes 'tabseN' Wodarz  tabseN</td>\n",
       "      <td>16-18</td>\n",
       "      <td>-2</td>\n",
       "      <td>87.4</td>\n",
       "      <td>83.3%</td>\n",
       "      <td>1.23</td>\n",
       "    </tr>\n",
       "    <tr>\n",
       "      <th>2</th>\n",
       "      <td>Fatih 'gob b' Dayik  gob b</td>\n",
       "      <td>20-15</td>\n",
       "      <td>5</td>\n",
       "      <td>77.1</td>\n",
       "      <td>62.5%</td>\n",
       "      <td>1.18</td>\n",
       "    </tr>\n",
       "    <tr>\n",
       "      <th>3</th>\n",
       "      <td>Kevin 'keev' Bartholomäus  keev</td>\n",
       "      <td>17-13</td>\n",
       "      <td>4</td>\n",
       "      <td>70.3</td>\n",
       "      <td>70.8%</td>\n",
       "      <td>1.17</td>\n",
       "    </tr>\n",
       "    <tr>\n",
       "      <th>4</th>\n",
       "      <td>Nikola 'LEGIJA' Ninić  LEGIJA</td>\n",
       "      <td>17-12</td>\n",
       "      <td>5</td>\n",
       "      <td>71.0</td>\n",
       "      <td>66.7%</td>\n",
       "      <td>1.16</td>\n",
       "    </tr>\n",
       "  </tbody>\n",
       "</table>\n",
       "</div>"
      ],
      "text/plain": [
       "                                BIG    K-D  +/-    ADR   KAST  Rating2.0\n",
       "0         Johannes 'nex' Maget  nex  24-11   13  111.5  75.0%       1.56\n",
       "1  Johannes 'tabseN' Wodarz  tabseN  16-18   -2   87.4  83.3%       1.23\n",
       "2        Fatih 'gob b' Dayik  gob b  20-15    5   77.1  62.5%       1.18\n",
       "3   Kevin 'keev' Bartholomäus  keev  17-13    4   70.3  70.8%       1.17\n",
       "4     Nikola 'LEGIJA' Ninić  LEGIJA  17-12    5   71.0  66.7%       1.16"
      ]
     },
     "execution_count": 10,
     "metadata": {},
     "output_type": "execute_result"
    }
   ],
   "source": [
    "series[1]['teams'][0]"
   ]
  },
  {
   "cell_type": "markdown",
   "metadata": {},
   "source": [
    "Each element of series is a dictionary containing data 1 series played by the team. They are in reverse chornological order. The elements of each series dictionary are:\n",
    "\n",
    "    url:        the url on hltv of the Overview of the entire series\n",
    "    demo_url:   the url of the demo, hosted on hltv later\n",
    "    stats_url:  a url containing more detailed data about the data \n",
    "                (the scrapped data from this page is contained in stats_data)\n",
    "    teams:      a dataframe containing the overall stats for each team in the series\n",
    "    vetos:      the vetos in chronological order\n",
    "    match_info: score and map name for each match\n",
    "    team_a_b:   this provides order to the teams and match_info scores \n",
    "    "
   ]
  },
  {
   "cell_type": "code",
   "execution_count": 5,
   "metadata": {
    "collapsed": false
   },
   "outputs": [],
   "source": [
    "def match_score_dataframe(series):\n",
    "    score = pd.DataFrame(columns = ['map_name', 'winner', series['team_a_b'][0], \n",
    "                                    series['team_a_b'][1]], \n",
    "                         index=range(len(series['match_info'])))\n",
    "    for idx, match in enumerate(series['match_info']):\n",
    "        \n",
    "        map_name = match['map_name']\n",
    "        score_a = int(match['scores'][0])\n",
    "        score_b = int(match['scores'][1])\n",
    "        if score_a > score_b:\n",
    "            winner = series['team_a_b'][0]\n",
    "        elif score_a < score_b:\n",
    "            winner = series['team_a_b'][1]\n",
    "        else:\n",
    "            winner = 'draw'\n",
    "        score.loc[idx, :]  = map_name, winner, score_a, score_b\n",
    "    \n",
    "    return score"
   ]
  },
  {
   "cell_type": "code",
   "execution_count": 7,
   "metadata": {
    "collapsed": false
   },
   "outputs": [
    {
     "name": "stdout",
     "output_type": "stream",
     "text": [
      "  map_name   winner BIG iNation\n",
      "0   Mirage  iNation  13      16\n",
      "[u'1. iNation removed Cobblestone', u'2. BIG removed Cache', u'3. iNation removed Dust2', u'4. BIG removed Train', u'5. iNation removed Overpass', u'6. BIG removed Nuke', u'7. Mirage was left over']\n",
      "  map_name winner BIG iGame.com\n",
      "0    Dust2    BIG  16         8\n",
      "[u'1. BIG removed Nuke', u'2. iGame.com removed Mirage', u'3. BIG removed Train', u'4. iGame.com removed Cache', u'5. BIG removed Overpass', u'6. iGame.com removed Cobblestone', u'7. Dust2 was left over']\n",
      "  map_name    winner FlipSid3 BIG\n",
      "0    Cache  FlipSid3       16  11\n",
      "1    Train  FlipSid3       16  11\n",
      "[u'1. BIG removed Nuke', u'2. FlipSid3 removed Dust2', u'3. BIG picked Cache', u'4. FlipSid3 picked Train', u'5. BIG removed Mirage', u'6. FlipSid3 removed Cobblestone', u'7. Overpass was left over']\n",
      "      map_name  winner Heroic BIG\n",
      "0        Train  Heroic     16   4\n",
      "1        Dust2     BIG     14  16\n",
      "2  Cobblestone     BIG      9  16\n",
      "[u'1. Heroic removed Cache', u'2. BIG removed Nuke', u'3. Heroic picked Train', u'4. BIG picked Dust2', u'5. Heroic removed Mirage', u'6. BIG removed Overpass', u'7. Cobblestone was left over']\n",
      "  map_name winner Vega Squadron BIG\n",
      "0    Dust2    BIG             7  16\n",
      "1    Train    BIG            26  28\n",
      "[u'1. BIG removed Nuke', u'2. Vega Squadron removed Cobblestone', u'3. BIG picked Dust2', u'4. Vega Squadron picked Train', u'5. BIG removed Cache', u'6. Vega Squadron removed Overpass', u'7. Mirage was left over']\n",
      "  map_name winner BIG Rogue\n",
      "0   Mirage    BIG  16    12\n",
      "1    Cache    BIG  16     6\n",
      "[u'1. Rogue removed Cobblestone', u'2. BIG removed Train', u'3. Rogue picked Mirage', u'4. BIG picked Cache', u'5. Rogue removed Overpass', u'6. BIG removed Nuke', u'7. Dust2 was left over']\n",
      "   map_name    winner FlipSid3 BIG\n",
      "0  Overpass  FlipSid3       16  11\n",
      "[u'1. FlipSid3 removed Dust2', u'2. BIG removed Train', u'3. FlipSid3 removed Cache', u'4. BIG removed Nuke', u'5. FlipSid3 removed Cobblestone', u'6. BIG removed Mirage', u'7. Overpass was left over']\n",
      "      map_name       winner mousesports BIG\n",
      "0  Cobblestone  mousesports          16  12\n",
      "1        Cache          BIG          14  16\n",
      "2       Mirage  mousesports          16  11\n",
      "[u'1. BIG removed Train', u'2. mousesports removed Nuke', u'3. BIG picked Cobblestone', u'4. mousesports picked Cache', u'5. BIG removed Dust2', u'6. mousesports removed Overpass', u'7. Mirage was left over']\n"
     ]
    }
   ],
   "source": [
    "for s in series:\n",
    "    print match_score_dataframe(s)\n",
    "    print s['vetos']"
   ]
  },
  {
   "cell_type": "code",
   "execution_count": 14,
   "metadata": {
    "collapsed": false
   },
   "outputs": [
    {
     "name": "stdout",
     "output_type": "stream",
     "text": [
      "['team_scores', 'match_time', 'team_endings']\n",
      "['first_kills', 'total_team_kda', 'who_kill_who', 'awp_kills']\n"
     ]
    }
   ],
   "source": [
    "print matches[0]['stats_data'][0].keys()\n",
    "print matches[0]['match_data'][0].keys()"
   ]
  },
  {
   "cell_type": "code",
   "execution_count": 11,
   "metadata": {
    "collapsed": false
   },
   "outputs": [
    {
     "data": {
      "text/plain": [
       "0              [7532]\n",
       "1            [ct_win]\n",
       "2            [ct_win]\n",
       "3      [bomb_defused]\n",
       "4      [emptyHistory]\n",
       "5      [emptyHistory]\n",
       "6      [emptyHistory]\n",
       "7            [ct_win]\n",
       "8      [emptyHistory]\n",
       "9      [emptyHistory]\n",
       "10     [emptyHistory]\n",
       "11     [emptyHistory]\n",
       "12     [emptyHistory]\n",
       "13           [ct_win]\n",
       "14           [ct_win]\n",
       "15           [ct_win]\n",
       "16            [t_win]\n",
       "17    [bomb_exploded]\n",
       "18            [t_win]\n",
       "19     [emptyHistory]\n",
       "20     [emptyHistory]\n",
       "21    [bomb_exploded]\n",
       "22     [emptyHistory]\n",
       "23     [emptyHistory]\n",
       "24     [emptyHistory]\n",
       "25     [emptyHistory]\n",
       "26     [emptyHistory]\n",
       "27     [emptyHistory]\n",
       "28     [emptyHistory]\n",
       "29     [emptyHistory]\n",
       "30     [emptyHistory]\n",
       "dtype: object"
      ]
     },
     "execution_count": 11,
     "metadata": {},
     "output_type": "execute_result"
    }
   ],
   "source": [
    "pd.Series(matches[2]['stats_data'][1]['team_endings']['team_b'])"
   ]
  },
  {
   "cell_type": "code",
   "execution_count": 20,
   "metadata": {
    "collapsed": false
   },
   "outputs": [],
   "source": [
    "def create_team_ending_df(match):\n",
    "    team_a = pd.Series(match['stats_data']['team_endings']['team_a'])\n",
    "    team_b = pd.Series(match['stats_data']['team_endings']['team_b'])\n",
    "    return pd.concat([team_a, team_b], axis=1)\n",
    "\n",
    "def create_team_score_df(match):\n",
    "    team_a = pd.Series(match['stats_data']['team_scores']['team_a'])\n",
    "    team_b = pd.Series(match['stats_data']['team_scores']['team_b'])\n",
    "    return pd.concat([team_a, team_b], axis=1)"
   ]
  },
  {
   "cell_type": "code",
   "execution_count": 21,
   "metadata": {
    "collapsed": false
   },
   "outputs": [
    {
     "data": {
      "text/html": [
       "<div>\n",
       "<table border=\"1\" class=\"dataframe\">\n",
       "  <thead>\n",
       "    <tr style=\"text-align: right;\">\n",
       "      <th></th>\n",
       "      <th>0</th>\n",
       "      <th>1</th>\n",
       "    </tr>\n",
       "  </thead>\n",
       "  <tbody>\n",
       "    <tr>\n",
       "      <th>0</th>\n",
       "      <td>[BIG]</td>\n",
       "      <td>[iNation]</td>\n",
       "    </tr>\n",
       "    <tr>\n",
       "      <th>1</th>\n",
       "      <td>[1-0]</td>\n",
       "      <td>[]</td>\n",
       "    </tr>\n",
       "    <tr>\n",
       "      <th>2</th>\n",
       "      <td>[2-0]</td>\n",
       "      <td>[]</td>\n",
       "    </tr>\n",
       "    <tr>\n",
       "      <th>3</th>\n",
       "      <td>[3-0]</td>\n",
       "      <td>[]</td>\n",
       "    </tr>\n",
       "    <tr>\n",
       "      <th>4</th>\n",
       "      <td>[4-0]</td>\n",
       "      <td>[]</td>\n",
       "    </tr>\n",
       "    <tr>\n",
       "      <th>5</th>\n",
       "      <td>[]</td>\n",
       "      <td>[4-1]</td>\n",
       "    </tr>\n",
       "    <tr>\n",
       "      <th>6</th>\n",
       "      <td>[]</td>\n",
       "      <td>[4-2]</td>\n",
       "    </tr>\n",
       "    <tr>\n",
       "      <th>7</th>\n",
       "      <td>[]</td>\n",
       "      <td>[4-3]</td>\n",
       "    </tr>\n",
       "    <tr>\n",
       "      <th>8</th>\n",
       "      <td>[]</td>\n",
       "      <td>[4-4]</td>\n",
       "    </tr>\n",
       "    <tr>\n",
       "      <th>9</th>\n",
       "      <td>[]</td>\n",
       "      <td>[4-5]</td>\n",
       "    </tr>\n",
       "    <tr>\n",
       "      <th>10</th>\n",
       "      <td>[]</td>\n",
       "      <td>[4-6]</td>\n",
       "    </tr>\n",
       "    <tr>\n",
       "      <th>11</th>\n",
       "      <td>[]</td>\n",
       "      <td>[4-7]</td>\n",
       "    </tr>\n",
       "    <tr>\n",
       "      <th>12</th>\n",
       "      <td>[]</td>\n",
       "      <td>[4-8]</td>\n",
       "    </tr>\n",
       "    <tr>\n",
       "      <th>13</th>\n",
       "      <td>[]</td>\n",
       "      <td>[4-9]</td>\n",
       "    </tr>\n",
       "    <tr>\n",
       "      <th>14</th>\n",
       "      <td>[]</td>\n",
       "      <td>[4-10]</td>\n",
       "    </tr>\n",
       "    <tr>\n",
       "      <th>15</th>\n",
       "      <td>[5-10]</td>\n",
       "      <td>[]</td>\n",
       "    </tr>\n",
       "    <tr>\n",
       "      <th>16</th>\n",
       "      <td>[6-10]</td>\n",
       "      <td>[]</td>\n",
       "    </tr>\n",
       "    <tr>\n",
       "      <th>17</th>\n",
       "      <td>[7-10]</td>\n",
       "      <td>[]</td>\n",
       "    </tr>\n",
       "    <tr>\n",
       "      <th>18</th>\n",
       "      <td>[8-10]</td>\n",
       "      <td>[]</td>\n",
       "    </tr>\n",
       "    <tr>\n",
       "      <th>19</th>\n",
       "      <td>[9-10]</td>\n",
       "      <td>[]</td>\n",
       "    </tr>\n",
       "    <tr>\n",
       "      <th>20</th>\n",
       "      <td>[10-10]</td>\n",
       "      <td>[]</td>\n",
       "    </tr>\n",
       "    <tr>\n",
       "      <th>21</th>\n",
       "      <td>[]</td>\n",
       "      <td>[10-11]</td>\n",
       "    </tr>\n",
       "    <tr>\n",
       "      <th>22</th>\n",
       "      <td>[11-11]</td>\n",
       "      <td>[]</td>\n",
       "    </tr>\n",
       "    <tr>\n",
       "      <th>23</th>\n",
       "      <td>[12-11]</td>\n",
       "      <td>[]</td>\n",
       "    </tr>\n",
       "    <tr>\n",
       "      <th>24</th>\n",
       "      <td>[13-11]</td>\n",
       "      <td>[]</td>\n",
       "    </tr>\n",
       "    <tr>\n",
       "      <th>25</th>\n",
       "      <td>[]</td>\n",
       "      <td>[13-12]</td>\n",
       "    </tr>\n",
       "    <tr>\n",
       "      <th>26</th>\n",
       "      <td>[]</td>\n",
       "      <td>[13-13]</td>\n",
       "    </tr>\n",
       "    <tr>\n",
       "      <th>27</th>\n",
       "      <td>[]</td>\n",
       "      <td>[13-14]</td>\n",
       "    </tr>\n",
       "    <tr>\n",
       "      <th>28</th>\n",
       "      <td>[]</td>\n",
       "      <td>[13-15]</td>\n",
       "    </tr>\n",
       "    <tr>\n",
       "      <th>29</th>\n",
       "      <td>[]</td>\n",
       "      <td>[13-16]</td>\n",
       "    </tr>\n",
       "    <tr>\n",
       "      <th>30</th>\n",
       "      <td>[]</td>\n",
       "      <td>[]</td>\n",
       "    </tr>\n",
       "  </tbody>\n",
       "</table>\n",
       "</div>"
      ],
      "text/plain": [
       "          0          1\n",
       "0     [BIG]  [iNation]\n",
       "1     [1-0]         []\n",
       "2     [2-0]         []\n",
       "3     [3-0]         []\n",
       "4     [4-0]         []\n",
       "5        []      [4-1]\n",
       "6        []      [4-2]\n",
       "7        []      [4-3]\n",
       "8        []      [4-4]\n",
       "9        []      [4-5]\n",
       "10       []      [4-6]\n",
       "11       []      [4-7]\n",
       "12       []      [4-8]\n",
       "13       []      [4-9]\n",
       "14       []     [4-10]\n",
       "15   [5-10]         []\n",
       "16   [6-10]         []\n",
       "17   [7-10]         []\n",
       "18   [8-10]         []\n",
       "19   [9-10]         []\n",
       "20  [10-10]         []\n",
       "21       []    [10-11]\n",
       "22  [11-11]         []\n",
       "23  [12-11]         []\n",
       "24  [13-11]         []\n",
       "25       []    [13-12]\n",
       "26       []    [13-13]\n",
       "27       []    [13-14]\n",
       "28       []    [13-15]\n",
       "29       []    [13-16]\n",
       "30       []         []"
      ]
     },
     "execution_count": 21,
     "metadata": {},
     "output_type": "execute_result"
    }
   ],
   "source": [
    "for match in matches:\n",
    "    if match['stats_data']['team_scores']['team_a']"
   ]
  },
  {
   "cell_type": "code",
   "execution_count": null,
   "metadata": {
    "collapsed": true
   },
   "outputs": [],
   "source": []
  }
 ],
 "metadata": {
  "anaconda-cloud": {},
  "kernelspec": {
   "display_name": "Python [conda root]",
   "language": "python",
   "name": "conda-root-py"
  },
  "language_info": {
   "codemirror_mode": {
    "name": "ipython",
    "version": 2
   },
   "file_extension": ".py",
   "mimetype": "text/x-python",
   "name": "python",
   "nbconvert_exporter": "python",
   "pygments_lexer": "ipython2",
   "version": "2.7.12"
  }
 },
 "nbformat": 4,
 "nbformat_minor": 1
}
