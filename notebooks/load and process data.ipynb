{
 "cells": [
  {
   "cell_type": "code",
   "execution_count": 4,
   "metadata": {
    "collapsed": true
   },
   "outputs": [],
   "source": [
    "from cspython.scraper import modifiedSoup\n",
    "from cspython.data_processing import process_scrapped\n",
    "import cPickle as pkl\n",
    "import sys\n",
    "sys.setrecursionlimit(15000)\n",
    "import pandas as pd"
   ]
  },
  {
   "cell_type": "code",
   "execution_count": 34,
   "metadata": {
    "collapsed": true,
    "scrolled": true
   },
   "outputs": [],
   "source": [
    "def get_average_teamrounds(team_big_data, team, map_name, ct_map_ratio): #the unpickled big_data file for the specific team, team name, mapname\n",
    "    total_t_rounds= 0\n",
    "    total_ct_rounds = 0\n",
    "    match_count = 0\n",
    "    for key in team_big_data.keys():  #this loops through the keys\n",
    "        series = team_big_data[key]\n",
    "        for i in range(0, len(series['matches'])):   #this loops through the matches  bo1 bo3 bo5\n",
    "            t_rounds = 0\n",
    "            ct_rounds = 0\n",
    "            if series['matches'][i]['map'].loc[1] == map_name: #this checks to see if its the map name you are looking for\n",
    "                try:\n",
    "                    lc = series['matches'][i][['winner','side_winner']].loc[0:30]  #this makes sure the score stops at 15/15\n",
    "                    try:\n",
    "                        rounds_counts = lc.loc[lc['winner'] ==team]['side_winner'].value_counts() #this collects the rounds\n",
    "                        ct_rounds = rounds_counts['CT']\n",
    "                        t_rounds = rounds_counts['T']\n",
    "                    except:  #this is necessary since sometimes a team doesnt get any rounds on a specific side.\n",
    "                        if lc.loc[lc['winner'] == team].iloc[0]['side_winner'] == 'CT':\n",
    "                            ct_rounds = lc.loc[lc['side_winner'] == team]['side_winner'].count()\n",
    "                        else: \n",
    "                            t_rounds = lc.loc[lc['side_winner'] == team]['side_winner'].count()\n",
    "                           \n",
    "                except:  #if this prints it means something with the key doesnt work with this function\n",
    "                    print key\n",
    "                    \n",
    "                total_t_rounds = total_t_rounds + t_rounds  #this totals the t side rounds\n",
    "                total_ct_rounds = total_ct_rounds + ct_rounds # this totals the ct side rounds\n",
    "                match_count = match_count + 1   #this is a ticker for how many matches on the map it has found\n",
    "            \n",
    "    ct_rounds_average = float(total_ct_rounds) / match_count #this collects the averages\n",
    "    t_rounds_average = float(total_t_rounds) / match_count\n",
    "    final_difference = ct_rounds_average + t_rounds_average - 15 #this gets the average total rounds they get\n",
    "    ct_side = ct_rounds_average - ct_map_ratio  # this compares their ct_side with the expected big data average\n",
    "    t_side = t_rounds_average - (15 - ct_map_ratio) #this compares their ct_side with the expected big data average\n",
    "    return {\n",
    "        'average_rounds':[map_name, match_count, final_difference, t_side, ct_side]\n",
    "    }"
   ]
  },
  {
   "cell_type": "code",
   "execution_count": 36,
   "metadata": {
    "collapsed": false,
    "scrolled": true
   },
   "outputs": [
    {
     "name": "stdout",
     "output_type": "stream",
     "text": [
      "Cloud9\n",
      "{'average_rounds': ['Cache', 34, -1.0, -0.10500000000000043, -0.8949999999999996]}\n",
      "{'average_rounds': ['Train', 53, -1.584905660377359, -0.15216981132075524, -1.4327358490566038]}\n",
      "{'average_rounds': ['Cobblestone', 39, -1.1538461538461533, -0.3229487179487185, -0.8308974358974357]}\n",
      "{'average_rounds': ['Inferno', 35, -2.0, -1.0621428571428577, -0.9378571428571423]}\n",
      "{'average_rounds': ['Mirage', 55, -1.8545454545454554, -1.1322727272727278, -0.7222727272727267]}\n",
      "{'average_rounds': ['Overpass', 20, -2.3000000000000007, -1.1550000000000002, -1.1449999999999996]}\n",
      "{'average_rounds': ['Nuke', 8, -2.625, 0.2699999999999996, -2.8949999999999996]}\n",
      "BIG\n",
      "{'average_rounds': ['Cache', 28, -1.6785714285714288, -0.6050000000000004, -1.0735714285714284]}\n",
      "5086dfdb-27fc-4c60-a384-05ec95aa3dc5\n",
      "{'average_rounds': ['Train', 33, -3.7272727272727266, -1.9080303030303032, -1.8192424242424234]}\n",
      "{'average_rounds': ['Cobblestone', 29, -1.8965517241379324, -1.363620689655173, -0.5329310344827585]}\n",
      "{'average_rounds': ['Inferno', 20, -1.9000000000000004, -1.5550000000000006, -0.34499999999999975]}\n",
      "{'average_rounds': ['Mirage', 26, -2.1538461538461533, -1.0280769230769238, -1.1257692307692304]}\n",
      "{'average_rounds': ['Overpass', 28, -2.2857142857142865, -1.4978571428571437, -0.7878571428571428]}\n",
      "{'average_rounds': ['Nuke', 7, -2.571428571428573, -0.7478571428571437, -1.8235714285714284]}\n",
      "CLG\n",
      "{'average_rounds': ['Cache', 30, -1.1000000000000014, -0.5716666666666672, -0.5283333333333333]}\n",
      "{'average_rounds': ['Train', 39, -1.7435897435897445, -0.9126923076923079, -0.8308974358974357]}\n",
      "{'average_rounds': ['Cobblestone', 31, -2.774193548387096, -1.0566129032258065, -1.7175806451612896]}\n",
      "{'average_rounds': ['Inferno', 16, -4.375, -2.2300000000000004, -2.1449999999999996]}\n",
      "{'average_rounds': ['Mirage', 41, -1.2926829268292686, -0.14158536585365855, -1.1510975609756091]}\n",
      "{'average_rounds': ['Overpass', 29, -2.068965517241381, -1.570517241379311, -0.49844827586206897]}\n",
      "{'average_rounds': ['Nuke', 3, -3.333333333333334, -1.2716666666666674, -2.0616666666666665]}\n",
      "HellRaisers\n",
      "{'average_rounds': ['Cache', 35, -2.1999999999999993, -1.5478571428571435, -0.6521428571428567]}\n",
      "{'average_rounds': ['Train', 26, -2.5384615384615383, -0.8742307692307696, -1.6642307692307687]}\n",
      "{'average_rounds': ['Cobblestone', 38, -2.157894736842106, -0.8155263157894739, -1.3423684210526314]}\n",
      "{'average_rounds': ['Inferno', 27, -1.8148148148148149, -0.5679629629629632, -1.2468518518518517]}\n",
      "{'average_rounds': ['Mirage', 42, -1.2380952380952372, -0.41452380952380974, -0.8235714285714284]}\n",
      "{'average_rounds': ['Overpass', 41, -1.073170731707318, -0.044024390243903255, -1.0291463414634139]}\n",
      "{'average_rounds': ['Nuke', 12, -5.416666666666668, -3.3550000000000004, -2.0616666666666665]}\n",
      "mousesports\n",
      "{'average_rounds': ['Cache', 28, -2.0, -1.1764285714285716, -0.8235714285714284]}\n",
      "{'average_rounds': ['Train', 31, -3.032258064516128, -0.8630645161290325, -2.1691935483870965]}\n",
      "{'average_rounds': ['Cobblestone', 45, -1.511111111111111, -0.693888888888889, -0.8172222222222221]}\n",
      "{'average_rounds': ['Inferno', 17, -1.882352941176471, -1.0167647058823537, -0.8655882352941173]}\n",
      "{'average_rounds': ['Mirage', 52, -1.5384615384615383, -0.6050000000000004, -0.9334615384615379]}\n",
      "{'average_rounds': ['Overpass', 11, -2.7272727272727266, -1.1504545454545463, -1.5768181818181812]}\n",
      "{'average_rounds': ['Nuke', 24, -3.041666666666668, -1.3550000000000004, -1.6866666666666665]}\n",
      "NRG\n",
      "{'average_rounds': ['Cache', 30, -3.5666666666666664, -1.7716666666666674, -1.795]}\n",
      "{'average_rounds': ['Train', 24, -2.208333333333332, -1.2300000000000004, -0.9783333333333326]}\n",
      "{'average_rounds': ['Cobblestone', 41, -3.2682926829268304, -1.5318292682926833, -1.7364634146341462]}\n",
      "{'average_rounds': ['Inferno', 31, -1.129032258064516, -1.2501612903225814, 0.12112903225806537]}\n",
      "{'average_rounds': ['Mirage', 41, -1.8536585365853675, -0.044024390243903255, -1.8096341463414634]}\n",
      "{'average_rounds': ['Overpass', 18, -4.722222222222221, -2.8272222222222227, -1.8949999999999996]}\n",
      "{'average_rounds': ['Nuke', 8, -5.25, -2.8550000000000004, -2.3949999999999996]}\n"
     ]
    }
   ],
   "source": [
    "Cloud9 = '../scrapped_data/fixed_data/Cloud9_2016-10-01_to_2017-10-13.pkl'\n",
    "BIG = '../scrapped_data/fixed_data/BIG_2016-10-01_to_2017-10-13.pkl'\n",
    "CLG = '../scrapped_data/fixed_data/CLG_2016-10-01_to_2017-10-13.pkl'\n",
    "HellRaisers = '../scrapped_data/fixed_data/HellRaisers_2016-10-01_to_2017-10-13.pkl'\n",
    "mousesports =  '../scrapped_data/fixed_data/mousesports_2016-10-01_to_2017-10-13.pkl'\n",
    "NRG = '../scrapped_data/fixed_data/NRG_2016-10-01_to_2017-10-13_cleaned.pkl'\n",
    "maps = ['Cache', 'Train', 'Cobblestone', 'Inferno', 'Mirage', 'Overpass', 'Nuke']\n",
    "teams = ['Cloud9', 'BIG','CLG', 'HellRaisers', 'mousesports', 'NRG']\n",
    "files = [Cloud9, BIG, CLG, HellRaisers, mousesports, NRG]\n",
    "ct_map_ratio = [ 7.395, 8.265, 7.395, 8.05, 8.05, 7.995, .861]\n",
    "for t in range( 0, len(teams)):\n",
    "    print teams[t]\n",
    "    with open(files[t], 'rb') as f:\n",
    "        d = pkl.load(f)\n",
    "    \n",
    "    big_data = process_scrapped(d)\n",
    "    overview, big_data = big_data\n",
    "    for m in range(0, len(maps)):\n",
    "        print get_average_teamrounds(big_data, teams[t], maps[m], ct_map_ratio[i]) \n",
    "        \n",
    "    \n"
   ]
  },
  {
   "cell_type": "code",
   "execution_count": null,
   "metadata": {
    "collapsed": true
   },
   "outputs": [],
   "source": []
  },
  {
   "cell_type": "code",
   "execution_count": null,
   "metadata": {
    "collapsed": true
   },
   "outputs": [],
   "source": []
  },
  {
   "cell_type": "code",
   "execution_count": null,
   "metadata": {
    "collapsed": true
   },
   "outputs": [],
   "source": []
  },
  {
   "cell_type": "code",
   "execution_count": null,
   "metadata": {
    "collapsed": true
   },
   "outputs": [],
   "source": [
    "data"
   ]
  },
  {
   "cell_type": "code",
   "execution_count": null,
   "metadata": {
    "collapsed": true
   },
   "outputs": [],
   "source": [
    "def open_pickle(file_name):     # this doesnt work\n",
    "    with open(file_name, 'rb') as f:\n",
    "        d = pkl.load(f)\n",
    "    \n",
    "    big_data = process_scrapped(d)\n",
    "    overview, big_data = big_data\n",
    "    return {\n",
    "        big_data\n",
    "    }"
   ]
  },
  {
   "cell_type": "code",
   "execution_count": null,
   "metadata": {
    "collapsed": true
   },
   "outputs": [],
   "source": []
  },
  {
   "cell_type": "code",
   "execution_count": null,
   "metadata": {
    "collapsed": true
   },
   "outputs": [],
   "source": []
  }
 ],
 "metadata": {
  "anaconda-cloud": {},
  "kernelspec": {
   "display_name": "Python [default]",
   "language": "python",
   "name": "python2"
  },
  "language_info": {
   "codemirror_mode": {
    "name": "ipython",
    "version": 2
   },
   "file_extension": ".py",
   "mimetype": "text/x-python",
   "name": "python",
   "nbconvert_exporter": "python",
   "pygments_lexer": "ipython2",
   "version": "2.7.12"
  }
 },
 "nbformat": 4,
 "nbformat_minor": 1
}
