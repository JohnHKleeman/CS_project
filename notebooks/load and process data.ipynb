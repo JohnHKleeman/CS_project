{
 "cells": [
  {
   "cell_type": "code",
   "execution_count": 4,
   "metadata": {
    "collapsed": true
   },
   "outputs": [],
   "source": [
    "from cspython.scraper import modifiedSoup\n",
    "from cspython.data_processing import process_scrapped\n",
    "import cPickle as pkl\n",
    "import sys\n",
    "sys.setrecursionlimit(15000)\n",
    "import pandas as pd"
   ]
  },
  {
   "cell_type": "code",
   "execution_count": 25,
   "metadata": {
    "scrolled": true
   },
   "outputs": [],
   "source": [
    "def get_average_teamrounds(team_big_data, team, map_name): #the unpickled big_data file for the specific team, team name, mapname\n",
    "    total_t_rounds= 0\n",
    "    total_ct_rounds = 0\n",
    "    match_count = 0\n",
    "    for key in team_big_data.keys():  #this loops through the keys\n",
    "        series = team_big_data[key]\n",
    "        for i in range(0, len(series['matches'])):   #this loops through the matches  bo1 bo3 bo5\n",
    "            t_rounds = 0\n",
    "            ct_rounds = 0\n",
    "            if series['matches'][i]['map'].loc[1] == map_name: #this checks to see if its the map name you are looking for\n",
    "                try:\n",
    "                    lc = series['matches'][i][['winner','side_winner']].loc[0:30]  #this makes sure the score stops at 15/15\n",
    "                    try:\n",
    "                        rounds_counts = lc.loc[lc['winner'] ==team]['side_winner'].value_counts() #this collects the rounds\n",
    "                        ct_rounds = rounds_counts['CT']\n",
    "                        t_rounds = rounds_counts['T']\n",
    "                    except:  #this is necessary since sometimes a team doesnt get any rounds on a specific side.\n",
    "                        if lc.loc[lc['winner'] == team].iloc[0]['side_winner'] == 'CT':\n",
    "                            ct_rounds = lc.loc[lc['side_winner'] == team]['side_winner'].count()\n",
    "                        else: \n",
    "                            t_rounds = lc.loc[lc['side_winner'] == team]['side_winner'].count()\n",
    "                           \n",
    "                except:  #if this prints it means something with the key doesnt work with this function\n",
    "                    print key\n",
    "                    \n",
    "                total_t_rounds = total_t_rounds + t_rounds  #this totals the t side rounds\n",
    "                total_ct_rounds = total_ct_rounds + ct_rounds # this totals the ct side rounds\n",
    "                match_count = match_count + 1   #this is a ticker for how many matches on the map it has found\n",
    "            \n",
    "    ct_rounds_average = float(total_ct_rounds) / match_count #this collects the averages\n",
    "    t_rounds_average = float(total_t_rounds) / match_count\n",
    "    return {\n",
    "        'average_rounds':[ct_rounds_average, t_rounds_average, map_name, match_count]\n",
    "    }"
   ]
  },
  {
   "cell_type": "code",
   "execution_count": 24,
   "metadata": {
    "scrolled": true
   },
   "outputs": [
    {
     "name": "stdout",
     "output_type": "stream",
     "text": [
      "Cloud9\n",
      "{'average_rounds': [6.483870967741935, 7.838709677419355, 'Cache', 31]}\n",
      "{'average_rounds': [5.714285714285714, 7.428571428571429, 'Train', 42]}\n",
      "{'average_rounds': [6.470588235294118, 7.0588235294117645, 'Cobblestone', 34]}\n",
      "{'average_rounds': [6.457142857142857, 6.542857142857143, 'Inferno', 35]}\n",
      "{'average_rounds': [6.51063829787234, 6.468085106382978, 'Mirage', 47]}\n",
      "{'average_rounds': [5.6875, 6.6875, 'Overpass', 16]}\n",
      "{'average_rounds': [4.5, 7.875, 'Nuke', 8]}\n",
      "BIG\n",
      "{'average_rounds': [6.321428571428571, 7.0, 'Cache', 28]}\n",
      "6f479df9-73ea-4465-b059-cc660115aa1f\n",
      "here1\n",
      "{'average_rounds': [5.575757575757576, 5.696969696969697, 'Train', 33]}\n",
      "{'average_rounds': [6.862068965517241, 6.241379310344827, 'Cobblestone', 29]}\n",
      "{'average_rounds': [7.05, 6.05, 'Inferno', 20]}\n",
      "{'average_rounds': [6.269230769230769, 6.576923076923077, 'Mirage', 26]}\n",
      "{'average_rounds': [6.607142857142857, 6.107142857142857, 'Overpass', 28]}\n",
      "{'average_rounds': [5.571428571428571, 6.857142857142857, 'Nuke', 7]}\n",
      "CLG\n",
      "{'average_rounds': [6.866666666666666, 7.033333333333333, 'Cache', 30]}\n",
      "{'average_rounds': [6.564102564102564, 6.6923076923076925, 'Train', 39]}\n",
      "{'average_rounds': [5.67741935483871, 6.548387096774194, 'Cobblestone', 31]}\n",
      "{'average_rounds': [5.25, 5.375, 'Inferno', 16]}\n",
      "{'average_rounds': [6.2439024390243905, 7.463414634146342, 'Mirage', 41]}\n",
      "{'average_rounds': [6.896551724137931, 6.0344827586206895, 'Overpass', 29]}\n",
      "{'average_rounds': [5.333333333333333, 6.333333333333333, 'Nuke', 3]}\n",
      "HellRaisers\n",
      "{'average_rounds': [7.571428571428571, 6.428571428571429, 'Cache', 14]}\n",
      "{'average_rounds': [6.733333333333333, 6.266666666666667, 'Train', 15]}\n",
      "{'average_rounds': [6.526315789473684, 6.052631578947368, 'Cobblestone', 19]}\n",
      "{'average_rounds': [6.333333333333333, 6.0, 'Inferno', 6]}\n",
      "{'average_rounds': [6.666666666666667, 6.714285714285714, 'Mirage', 21]}\n",
      "{'average_rounds': [6.875, 7.125, 'Overpass', 16]}\n",
      "{'average_rounds': [6.888888888888889, 5.111111111111111, 'Nuke', 9]}\n",
      "mousesports\n",
      "{'average_rounds': [5.25, 8.0, 'Cache', 4]}\n",
      "{'average_rounds': [4.857142857142857, 2.857142857142857, 'Train', 7]}\n",
      "{'average_rounds': [5.6, 8.7, 'Cobblestone', 10]}\n",
      "{'average_rounds': [8.2, 5.4, 'Inferno', 5]}\n",
      "{'average_rounds': [5.285714285714286, 9.428571428571429, 'Mirage', 7]}\n",
      "{'average_rounds': [2.0, 8.0, 'Overpass', 1]}\n",
      "{'average_rounds': [6.5, 4.333333333333333, 'Nuke', 6]}\n"
     ]
    }
   ],
   "source": [
    "Cloud9 = '../scrapped_data/Cloud9_11_16_to_10_17.pkl'\n",
    "BIG = '../scrapped_data/BIG_10_16_to_10_17.pkl'\n",
    "CLG = '../scrapped_data/CLG_10_16_to_10_17.pkl'\n",
    "HellRaisers = '../scrapped_data/HellRaisers_10_16_to_04_17.pkl'\n",
    "mousesports =  '../scrapped_data/mousesports_09_17_to_10_17.pkl'\n",
    "maps = ['Cache', 'Train', 'Cobblestone', 'Inferno', 'Mirage', 'Overpass', 'Nuke']\n",
    "teams = ['Cloud9', 'BIG','CLG', 'HellRaisers', 'mousesports']\n",
    "files = [Cloud9, BIG, CLG, HellRaisers, mousesports]\n",
    "for t in range( 0, len(teams)):\n",
    "    print teams[t]\n",
    "    with open(files[t], 'rb') as f:\n",
    "        d = pkl.load(f)\n",
    "    \n",
    "    big_data = process_scrapped(d)\n",
    "    overview, big_data = big_data\n",
    "    for m in maps:\n",
    "        print get_average_teamrounds(big_data, teams[t], m)\n",
    "    \n"
   ]
  },
  {
   "cell_type": "code",
   "execution_count": null,
   "metadata": {
    "collapsed": true
   },
   "outputs": [],
   "source": []
  },
  {
   "cell_type": "code",
   "execution_count": null,
   "metadata": {
    "collapsed": true
   },
   "outputs": [],
   "source": []
  },
  {
   "cell_type": "code",
   "execution_count": null,
   "metadata": {
    "collapsed": true
   },
   "outputs": [],
   "source": []
  },
  {
   "cell_type": "code",
   "execution_count": null,
   "metadata": {},
   "outputs": [],
   "source": [
    "data"
   ]
  },
  {
   "cell_type": "code",
   "execution_count": null,
   "metadata": {
    "collapsed": true
   },
   "outputs": [],
   "source": [
    "def open_pickle(file_name):     # this doesnt work\n",
    "    with open(file_name, 'rb') as f:\n",
    "        d = pkl.load(f)\n",
    "    \n",
    "    big_data = process_scrapped(d)\n",
    "    overview, big_data = big_data\n",
    "    return {\n",
    "        big_data\n",
    "    }"
   ]
  },
  {
   "cell_type": "code",
   "execution_count": null,
   "metadata": {
    "collapsed": true
   },
   "outputs": [],
   "source": []
  },
  {
   "cell_type": "code",
   "execution_count": null,
   "metadata": {
    "collapsed": true
   },
   "outputs": [],
   "source": []
  }
 ],
 "metadata": {
  "kernelspec": {
   "display_name": "Python 2",
   "language": "python",
   "name": "python2"
  },
  "language_info": {
   "codemirror_mode": {
    "name": "ipython",
    "version": 2
   },
   "file_extension": ".py",
   "mimetype": "text/x-python",
   "name": "python",
   "nbconvert_exporter": "python",
   "pygments_lexer": "ipython2",
   "version": "2.7.13"
  }
 },
 "nbformat": 4,
 "nbformat_minor": 1
}
