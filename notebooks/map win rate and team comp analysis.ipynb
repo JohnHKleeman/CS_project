{
 "cells": [
  {
   "cell_type": "code",
   "execution_count": 1,
   "metadata": {
    "collapsed": true
   },
   "outputs": [],
   "source": [
    "import cPickle as pkl\n",
    "from cspython.scraper import modifiedSoup\n",
    "from cspython.data_processing import process_scrapped\n",
    "import cPickle as pkl\n",
    "import sys\n",
    "sys.setrecursionlimit(15000)\n",
    "import pandas as pd\n",
    "import cspython.analysis as a"
   ]
  },
  {
   "cell_type": "code",
   "execution_count": 2,
   "metadata": {
    "collapsed": false
   },
   "outputs": [],
   "source": [
    "with open('../cspython/NRG_2016-10-01_to_2017-10-13.pkl', 'rb') as f:\n",
    "    d = pkl.load(f)\n",
    "    \n",
    "big_data = process_scrapped(d)\n",
    "overview, big_data = big_data"
   ]
  },
  {
   "cell_type": "code",
   "execution_count": 65,
   "metadata": {
    "collapsed": true
   },
   "outputs": [
    {
     "data": {
      "text/plain": [
       "\"\\ncur_roster = ['gob b', 'LEGIJA', 'tabseN', 'nex', 'keev', 'kakafu'] #Big\\ncur_roster = ['Skadoodle', 'Stewie2k', 'autimatic', 'RUSH', 'tarik', 'valens'] #Cloud9\\ncur_roster = ['reltuC', 'koosta', 'nahtE', 'FNS', 'Rickeh', 'Ryu'] #Counter Logic Gaming\\ncur_roster = ['chrisj', 'oskar', 'ropz', 'suNny', 'STYKO', 'lmbt'] #mousesports\\ncur_roster = ['AZR', 'jks', 'USTILO', 'Nifty', 'NAF', 'kassad']  #Renegades\\ncur_roster = ['dzt', 'land1n', 'tatazin', 'shz', 's1', 'bLecker'] #Tempo Storm\\ncur_roster = ['ANGE1', 'Zero', 'DeadFox', 'woxic', 'ISSAA', 'Johnta']  #HellRaisers\\n\""
      ]
     },
     "execution_count": 65,
     "metadata": {},
     "output_type": "execute_result"
    }
   ],
   "source": [
    "cur_roster = ['RIKO', 'FugLy', 'Brehze', 'AnJ', 'CeRq', 'daps']  #NRG\n",
    "\"\"\"\n",
    "cur_roster = ['gob b', 'LEGIJA', 'tabseN', 'nex', 'keev', 'kakafu'] #Big\n",
    "cur_roster = ['Skadoodle', 'Stewie2k', 'autimatic', 'RUSH', 'tarik', 'valens'] #Cloud9\n",
    "cur_roster = ['reltuC', 'koosta', 'nahtE', 'FNS', 'Rickeh', 'Ryu'] #Counter Logic Gaming\n",
    "cur_roster = ['chrisj', 'oskar', 'ropz', 'suNny', 'STYKO', 'lmbt'] #mousesports\n",
    "cur_roster = ['AZR', 'jks', 'USTILO', 'Nifty', 'NAF', 'kassad']  #Renegades\n",
    "cur_roster = ['dzt', 'land1n', 'tatazin', 'shz', 's1', 'bLecker'] #Tempo Storm\n",
    "cur_roster = ['ANGE1', 'Zero', 'DeadFox', 'woxic', 'ISSAA', 'Johnta']  #HellRaisers\n",
    "\"\"\""
   ]
  },
  {
   "cell_type": "code",
   "execution_count": 66,
   "metadata": {
    "collapsed": false
   },
   "outputs": [],
   "source": [
    "def map_roster_analysis(big_data, team, cur_roster):\n",
    "    roster_matches = a.roster_match(big_data, team, cur_roster)\n",
    "    match_overview = a.create_team_match_overview(big_data, team)\n",
    "\n",
    "    match_overview.loc[:,'roster_matches'] = match_overview.series_id.map(roster_matches)\n",
    "    match_overview.loc[:,'roster_weight'] = (match_overview.loc[:,'roster_matches']/5).astype(float)\n",
    "\n",
    "    match_overview.loc[:,'t_win_ratio'] = (match_overview.loc[:,'t_wins']/match_overview.loc[:,'t_rounds_played']).astype(float)\n",
    "    match_overview.loc[:,'ct_win_ratio'] = (match_overview.loc[:,'ct_wins']/match_overview.loc[:,'ct_rounds_played']).astype(float)\n",
    "    match_overview.loc[:,'t_win_ratio_weighted'] = (match_overview.loc[:,'t_wins']/match_overview.loc[:,'t_rounds_played']).astype(float)*match_overview.roster_weight\n",
    "    match_overview.loc[:,'ct_win_ratio_weighted'] = (match_overview.loc[:,'ct_wins']/match_overview.loc[:,'ct_rounds_played']).astype(float)*match_overview.roster_weight\n",
    "\n",
    "\n",
    "    for col in ['t_wins', 'ct_wins', 't_rounds_played', 'ct_rounds_played']:\n",
    "        match_overview.loc[:, col] = pd.to_numeric(match_overview.loc[:, col])\n",
    "        \n",
    "    round_count = match_overview.groupby('map').sum()[['t_rounds_played', 'ct_rounds_played']]\n",
    "    ratios = match_overview.groupby('map').mean().loc[:,['t_win_ratio', 'ct_win_ratio']]\n",
    "    t_weighted = match_overview.groupby('map').sum().loc[:,'t_win_ratio_weighted']/match_overview.groupby('map').sum().loc[:,'roster_weight']\n",
    "    ct_weighted = match_overview.groupby('map').sum().loc[:,'ct_win_ratio_weighted']/match_overview.groupby('map').sum().loc[:,'roster_weight']\n",
    "\n",
    "    results = pd.concat([ratios, t_weighted, ct_weighted, round_count], axis=1)\n",
    "    results.columns = ['t_win_ratio', 'ct_win_ratio', \n",
    "                       'roster_weighted_t_win_ratio', \n",
    "                       'roster_weighted_ct_win_ratio', \n",
    "                       't_rounds_played',\n",
    "                       'ct_rounds_played']\n",
    "    \n",
    "    return results"
   ]
  },
  {
   "cell_type": "code",
   "execution_count": 68,
   "metadata": {
    "collapsed": false
   },
   "outputs": [],
   "source": [
    "map_roster_analysis(big_data, 'NRG', cur_roster).to_csv('sample_nrg_map_data.csv')"
   ]
  },
  {
   "cell_type": "code",
   "execution_count": null,
   "metadata": {
    "collapsed": true
   },
   "outputs": [],
   "source": []
  }
 ],
 "metadata": {
  "anaconda-cloud": {},
  "kernelspec": {
   "display_name": "Python [conda root]",
   "language": "python",
   "name": "conda-root-py"
  },
  "language_info": {
   "codemirror_mode": {
    "name": "ipython",
    "version": 2
   },
   "file_extension": ".py",
   "mimetype": "text/x-python",
   "name": "python",
   "nbconvert_exporter": "python",
   "pygments_lexer": "ipython2",
   "version": "2.7.12"
  }
 },
 "nbformat": 4,
 "nbformat_minor": 1
}
