{
 "cells": [
  {
   "cell_type": "code",
   "execution_count": 915,
   "metadata": {},
   "outputs": [
    {
     "name": "stdout",
     "output_type": "stream",
     "text": [
      "scipy: 0.19.1\n",
      "numpy: 1.12.1\n",
      "matplotlib: 2.0.2\n",
      "pandas: 0.20.3\n",
      "sklearn: 0.19.0\n"
     ]
    }
   ],
   "source": [
    "import cPickle as pkl\n",
    "from cspython.scraper import modifiedSoup\n",
    "from cspython.data_processing import process_scrapped\n",
    "import cPickle as pkl\n",
    "import sys\n",
    "sys.setrecursionlimit(15000)\n",
    "\n",
    "import cspython.analysis as a\n",
    "import scipy\n",
    "print('scipy: {}'.format(scipy.__version__)) # numpy\n",
    "import numpy as np\n",
    "print('numpy: {}'.format(np.__version__))\n",
    "# matplotlib\n",
    "\n",
    "\n",
    "import matplotlib \n",
    "import matplotlib.pyplot as plt\n",
    "print('matplotlib: {}'.format(matplotlib.__version__)) # pandas\n",
    "import pandas as pd\n",
    "print('pandas: {}'.format(pd.__version__))\n",
    "# scikit-learn\n",
    "#import sklearn\n",
    "#print('sklearn: {}'.format(sklearn.__version__))\n",
    "#import xlrd\n",
    "\n",
    "import seaborn as sns\n",
    "sns.set_style(\"whitegrid\")\n",
    "%matplotlib inline\n",
    "\n",
    "\n",
    "import sklearn\n",
    "print('sklearn: {}'.format(sklearn.__version__))\n",
    "#import xlrd\n",
    "from sklearn.linear_model import LogisticRegression\n",
    "from sklearn.feature_selection import RFE\n",
    "from sklearn.linear_model import Lasso, Ridge  \n",
    "from sklearn.ensemble import RandomForestClassifier\n",
    "from sklearn.tree import DecisionTreeClassifier\n",
    "from sklearn.svm import SVC\n",
    "from sklearn.model_selection import KFold\n",
    "from sklearn.model_selection import GridSearchCV\n",
    "from sklearn.ensemble import RandomForestClassifier\n",
    "from sklearn.ensemble import AdaBoostClassifier\n",
    "from sklearn.ensemble import ExtraTreesClassifier\n",
    "from sklearn.naive_bayes import GaussianNB\n",
    "from sklearn.ensemble import VotingClassifier\n",
    "from sklearn.discriminant_analysis import LinearDiscriminantAnalysis\n",
    "from sklearn.feature_selection import RFE\n",
    "import xgboost as xgb\n",
    "from sklearn import cross_validation\n",
    "from sklearn.model_selection import GridSearchCV\n",
    "from sklearn import cross_validation #might be model_selection <--- this is the new one\n",
    "from sklearn.preprocessing import Normalizer\n",
    "import seaborn as sns\n",
    "from sklearn import preprocessing \n",
    "sns.set_style(\"whitegrid\")\n",
    "%matplotlib inline\n",
    "import warnings\n",
    "warnings.filterwarnings('ignore')\n",
    "from sklearn.neighbors import KNeighborsClassifier\n",
    "from sklearn.ensemble import GradientBoostingClassifier\n",
    "import pdb\n",
    "from sklearn.ensemble import VotingClassifier\n",
    "from sklearn.discriminant_analysis import LinearDiscriminantAnalysis\n",
    "from sklearn.feature_selection import RFE\n",
    "from sklearn import cross_validation\n",
    "from sklearn.model_selection import GridSearchCV\n",
    "from sklearn import model_selection\n",
    "from sklearn.feature_selection import RFECV"
   ]
  },
  {
   "cell_type": "code",
   "execution_count": 92,
   "metadata": {
    "collapsed": true
   },
   "outputs": [],
   "source": [
    "pd.set_option('display.max_columns', 300)"
   ]
  },
  {
   "cell_type": "code",
   "execution_count": 4,
   "metadata": {
    "collapsed": true
   },
   "outputs": [],
   "source": [
    "with open('../cspython/esl_teams.pkl', 'rb') as f: \n",
    "     d = pkl.load(f)"
   ]
  },
  {
   "cell_type": "code",
   "execution_count": 5,
   "metadata": {
    "collapsed": true
   },
   "outputs": [],
   "source": [
    "#with open('../cspython/test.pkl', 'rb') as f: \n",
    "#     d = pkl.load(f)"
   ]
  },
  {
   "cell_type": "code",
   "execution_count": 221,
   "metadata": {
    "collapsed": true
   },
   "outputs": [],
   "source": [
    "big_data = process_scrapped(d)\n",
    "overview, big_data = big_data"
   ]
  },
  {
   "cell_type": "code",
   "execution_count": 7,
   "metadata": {
    "collapsed": true
   },
   "outputs": [],
   "source": [
    "def combine_dfs(overview, big_data):\n",
    "    first=True\n",
    "    cols = ['map','round_num','half','match_id','series_id','ending','CT','T','side_winner','winner','team_A','team_B','team_A_score','team_B_score','match_num','team_players','K-D','+/-','ADR','KAST','Rating2.0','nicknames']\n",
    "    dfs = []\n",
    "    for idx, series_data in big_data.iteritems():\n",
    "        series_data_m = merge_matches(series_data)\n",
    "        series_data_m.loc[:,\"date\"] = overview.loc[overview.id == idx, 'date'].values[0]\n",
    "        series_data_mo = merge_overview(series_data_m, series_data)\n",
    "        series_data_mos = merge_scoreboards(series_data_mo, series_data)\n",
    "        series_data_mosm = match_data_board_changer(series_data_mos, series_data)\n",
    "        dfs.append(series_data_mosm)    \n",
    "        new_cols = list(set(series_data_mosm.columns) -set(cols))\n",
    "        cols += new_cols\n",
    "    data = pd.concat(dfs)\n",
    "    data = data.loc[:,cols]\n",
    "    data = data.reset_index()\n",
    "    return data"
   ]
  },
  {
   "cell_type": "code",
   "execution_count": 8,
   "metadata": {
    "collapsed": true
   },
   "outputs": [],
   "source": [
    "def merge_matches(series_data):\n",
    "    for d in range(0,len(series_data['matches'])):\n",
    "        if d == 0:\n",
    "            series_data['matches'][d] = series_data['matches'][d].rename(index = str, columns={ series_data['matches'][d].columns[10] : \"team_A\", series_data['matches'][d].columns[11] : \"team_B\" })\n",
    "            series_data_m = series_data['matches'][d]\n",
    "        else:\n",
    "            series_data['matches'][d] = series_data['matches'][d].rename(index = str, columns={ series_data['matches'][d].columns[10] : \"team_A\", series_data['matches'][d].columns[11] : \"team_B\" })\n",
    "            series_data_m = pd.concat([series_data_m, series_data['matches'][d]])\n",
    "    \n",
    "    return series_data_m\n",
    "    #should work for concact the matches together\n"
   ]
  },
  {
   "cell_type": "code",
   "execution_count": 182,
   "metadata": {
    "collapsed": true
   },
   "outputs": [],
   "source": [
    "def merge_overview(series_data_m, series_data):\n",
    "    series_data['match_overview'].loc[:,'team_A_name'] = series_data['match_overview'].columns[4]\n",
    "    series_data['match_overview'].loc[:,'team_B_name'] = series_data['match_overview'].columns[5]\n",
    "    \n",
    "    series_data['match_overview'].loc[(series_data['match_overview']['winner'] == series_data['match_overview'].columns[4]),'loser_of_match'] = series_data['match_overview'].team_B_name\n",
    "    series_data['match_overview'].loc[(series_data['match_overview']['winner'] != series_data['match_overview'].columns[4]),'loser_of_match'] = series_data['match_overview'].team_A_name\n",
    "    series_data['match_overview'] = series_data['match_overview'].rename(index = str, columns ={series_data['match_overview'].columns[3]: \"winner_of_match\",series_data['match_overview'].columns[4]: \"team_A_score\",series_data['match_overview'].columns[5]: \"team_B_score\"})\n",
    "    \n",
    "    \n",
    "    series_data_mo = pd.merge(series_data_m, series_data['match_overview'], on=['match_id', 'map', 'series_id'])\n",
    "    \n",
    "    return series_data_mo\n",
    "#works at merging matches with match_overviewb"
   ]
  },
  {
   "cell_type": "code",
   "execution_count": 220,
   "metadata": {
    "collapsed": true
   },
   "outputs": [],
   "source": [
    "def merge_scoreboards(series_data_mo, series_data):    \n",
    "   \n",
    "    for i in range(len(series_data['scoreboards'][0])):\n",
    "        series_data['scoreboards'][0][i]['match_num'] = i+1\n",
    "        #pdb.set_trace()\n",
    "        series_data['scoreboards'][0][i]['player_team_name'] = series_data_mo.loc[(series_data_mo['match_num']== i+1),'team_A_name'].unique()[0]\n",
    "        series_data['scoreboards'][0][i] = series_data['scoreboards'][0][i].rename(index = str, columns={ series_data['scoreboards'][0][i].columns[0] : \"team_players\" })\n",
    "        \n",
    "        series_data['scoreboards'][1][i]['match_num'] = i+1\n",
    "        series_data['scoreboards'][1][i]['player_team_name'] = series_data_mo.loc[(series_data_mo['match_num']== i+1),'team_B_name'].unique()[0]\n",
    "        series_data['scoreboards'][1][i] = series_data['scoreboards'][1][i].rename(index = str, columns={ series_data['scoreboards'][1][i].columns[0] : \"team_players\"})\n",
    "        \n",
    "        new_df = pd.concat([series_data['scoreboards'][0][i], series_data['scoreboards'][1][i]])\n",
    "        \n",
    "        if i == 0:\n",
    "            con_df = new_df\n",
    "        else:\n",
    "            con_df = pd.concat([con_df, new_df])\n",
    "   \n",
    "    series_data_mos = pd.merge(series_data_mo, con_df, how='outer', on='match_num')\n",
    "    series_data_mos['nicknames'] = series_data_mos['team_players'].str.split(pat = \"'\",expand = True)[1]\n",
    "    return series_data_mos\n",
    "\n",
    "       \n",
    "        \n",
    "#works at adding match_num to scoreboards\n",
    "        \n",
    "                         "
   ]
  },
  {
   "cell_type": "code",
   "execution_count": 11,
   "metadata": {
    "collapsed": true
   },
   "outputs": [],
   "source": [
    "def match_data_board_changer(series_data_mos,series_data):\n",
    "    \n",
    "    board_name = ['first_kills','who_kill_who', 'awp_kills']\n",
    "\n",
    "    for idx, a in enumerate(series_data['match_data']):\n",
    "        new_df = pd.DataFrame()\n",
    "        for idx1, c in enumerate(board_name):    \n",
    "            new_board_c = pd.DataFrame()\n",
    "            new_board_r= pd.DataFrame()\n",
    "            names_c = a[c].set_index('Unnamed: 0').columns\n",
    "            for b in names_c:\n",
    "                new_board_c[b+'_'+c] = a[c].set_index('Unnamed: 0')[b].str.split(pat = ':', expand = True)[0]\n",
    "               \n",
    "            names_r = a[c].set_index('Unnamed: 0').T.columns\n",
    "            for b in names_r:\n",
    "                new_board_r[b+'_'+c] = a[c].set_index('Unnamed: 0').T[b].str.split(pat = ':', expand = True)[1]\n",
    "            new_board_c['nicknames'] = new_board_c.index\n",
    "            new_board_r['nicknames'] = new_board_r.index\n",
    "            \n",
    "            board_df = new_board_c.append(new_board_r)\n",
    "            \n",
    "            if idx1 == 0:\n",
    "                new_df = board_df\n",
    "            else:\n",
    "                new_df = pd.merge(new_df, board_df, on = 'nicknames')\n",
    "        if idx == 0:\n",
    "            new_df['match_num'] = 1+idx\n",
    "            con_df = new_df\n",
    "        else:\n",
    "            new_df['match_num'] = 1+idx\n",
    "            try:\n",
    "                con_df = con_df.append(new_df, ignore_index=True)\n",
    "            except:\n",
    "                print con_df.columns\n",
    "                print new_df.columns\n",
    "    con_df = con_df.loc[:, ~con_df.columns.duplicated()]\n",
    "    #pdb.set_trace()\n",
    "  \n",
    "    series_data_mosm = pd.merge(series_data_mos, con_df, on=['nicknames','match_num'])\n",
    "    return series_data_mosm\n"
   ]
  },
  {
   "cell_type": "code",
   "execution_count": 222,
   "metadata": {
    "collapsed": true,
    "scrolled": true
   },
   "outputs": [],
   "source": [
    "data = combine_dfs(overview, big_data)"
   ]
  },
  {
   "cell_type": "code",
   "execution_count": null,
   "metadata": {
    "collapsed": true
   },
   "outputs": [],
   "source": []
  }
 ],
 "metadata": {
  "kernelspec": {
   "display_name": "Python 2",
   "language": "python",
   "name": "python2"
  },
  "language_info": {
   "codemirror_mode": {
    "name": "ipython",
    "version": 2
   },
   "file_extension": ".py",
   "mimetype": "text/x-python",
   "name": "python",
   "nbconvert_exporter": "python",
   "pygments_lexer": "ipython2",
   "version": "2.7.13"
  }
 },
 "nbformat": 4,
 "nbformat_minor": 2
}
