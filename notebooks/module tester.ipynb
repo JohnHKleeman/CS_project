{
 "cells": [
  {
   "cell_type": "code",
   "execution_count": 2,
   "metadata": {
    "collapsed": true
   },
   "outputs": [],
   "source": [
    "import time\n",
    "import datetime \n",
    "from cspython.scraper import get_match_urls\n",
    "from cspython.scraper import get_teamID\n",
    "from cspython.scraper import parse_match_overview"
   ]
  },
  {
   "cell_type": "code",
   "execution_count": 3,
   "metadata": {},
   "outputs": [
    {
<<<<<<< HEAD
=======
     "name": "stderr",
     "output_type": "stream",
     "text": [
      "C:\\Users\\SuperBug\\Anaconda2\\envs\\cs_project\\lib\\site-packages\\bs4\\__init__.py:181: UserWarning: No parser was explicitly specified, so I'm using the best available HTML parser for this system (\"lxml\"). This usually isn't a problem, but if you run this code on another system, or in a different virtual environment, it may use a different parser and behave differently.\n",
      "\n",
      "The code that caused this warning is on line 174 of the file C:\\Users\\SuperBug\\Anaconda2\\envs\\cs_project\\lib\\runpy.py. To get rid of this warning, change code that looks like this:\n",
      "\n",
      " BeautifulSoup(YOUR_MARKUP})\n",
      "\n",
      "to this:\n",
      "\n",
      " BeautifulSoup(YOUR_MARKUP, \"lxml\")\n",
      "\n",
      "  markup_type=markup_type))\n"
     ]
    }
   ],
   "source": [
    "teamID = get_teamID('Luminosity')\n",
    "startDate = '2017-09-02'\n",
    "endDate = '2017-10-02'\n",
    "params = {\n",
    "        'teamID':teamID,\n",
    "        'startDate':startDate,\n",
    "        'endDate':endDate\n",
    "    }\n",
    "urls = []\n",
    "urls =  get_match_urls(params)"
   ]
  },
  {
   "cell_type": "code",
   "execution_count": null,
   "metadata": {
    "collapsed": true
   },
   "outputs": [],
   "source": []
  },
  {
   "cell_type": "code",
   "execution_count": 4,
   "metadata": {},
   "outputs": [
    {
>>>>>>> 35180e9c0d85d92718c2c8f6fa426f22a169902f
     "name": "stdout",
     "output_type": "stream",
     "text": [
      "match 0 done\n",
      "match 1 done\n",
      "match 2 done\n",
      "match 3 done\n",
      "match 4 done\n",
      "match 5 done\n",
      "match 6 done\n",
      "match 7 done\n",
      "New Form of match https://www.hltv.org/matches/2315070/luminosity-vs-misfits-ecs-season-4-na-promotion\n",
      "match 8 done\n",
      "match 9 done\n",
      "match 10 done\n",
      "match 11 done\n",
      "match 12 done\n",
      "match 13 done\n",
      "match 14 done\n",
      "match 15 done\n",
      "match 16 done\n",
      "match 17 done\n",
      "match 18 done\n",
      "match 19 done\n"
     ]
    }
   ],
   "source": [
    "matches_vetos = []\n",
    "for idx, url in enumerate(urls):\n",
    "    luminosity_data = parse_match_overview(url)\n",
    "    matches_vetos.append(luminosity_data[\"vetos\"])\n",
    "    time.sleep(5)\n",
    "    print 'match {0} done'.format(idx)\n",
    "   "
   ]
  },
  {
   "cell_type": "code",
   "execution_count": 21,
   "metadata": {},
   "outputs": [
    {
     "data": {
      "text/plain": [
       "[u'1. Luminosity removed Mirage',\n",
       " u'2. compLexity removed Cache',\n",
       " u'3. Luminosity picked Inferno',\n",
       " u'4. compLexity picked Train',\n",
       " u'5. Luminosity removed Nuke',\n",
       " u'6. compLexity removed Overpass',\n",
       " u'7. Cobblestone was left over']"
      ]
     },
     "execution_count": 21,
     "metadata": {},
     "output_type": "execute_result"
    }
   ],
   "source": [
    "matches_vetos[12]"
   ]
  },
  {
   "cell_type": "code",
   "execution_count": null,
   "metadata": {
    "collapsed": true
   },
   "outputs": [],
   "source": [
    "\n",
    "for idx, url in enumerate(urls):\n",
    "        matches.append(parse_match(url))\n",
    "        time.sleep(5)"
   ]
  }
 ],
 "metadata": {
  "kernelspec": {
   "display_name": "Python 2",
   "language": "python",
   "name": "python2"
  },
  "language_info": {
   "codemirror_mode": {
    "name": "ipython",
    "version": 2
   },
   "file_extension": ".py",
   "mimetype": "text/x-python",
   "name": "python",
   "nbconvert_exporter": "python",
   "pygments_lexer": "ipython2",
   "version": "2.7.13"
  }
 },
 "nbformat": 4,
 "nbformat_minor": 1
}
