{
 "cells": [
  {
   "cell_type": "code",
   "execution_count": 1,
   "metadata": {
    "collapsed": true
   },
   "outputs": [],
   "source": [
    "from cspython.scraper import scrape_match_data"
   ]
  },
  {
   "cell_type": "code",
   "execution_count": 2,
   "metadata": {
    "collapsed": false
   },
   "outputs": [
    {
     "name": "stderr",
     "output_type": "stream",
     "text": [
      "C:\\Users\\mckak\\Anaconda2\\lib\\site-packages\\bs4\\__init__.py:181: UserWarning: No parser was explicitly specified, so I'm using the best available HTML parser for this system (\"lxml\"). This usually isn't a problem, but if you run this code on another system, or in a different virtual environment, it may use a different parser and behave differently.\n",
      "\n",
      "The code that caused this warning is on line 174 of the file C:\\Users\\mckak\\Anaconda2\\lib\\runpy.py. To get rid of this warning, change code that looks like this:\n",
      "\n",
      " BeautifulSoup([your markup])\n",
      "\n",
      "to this:\n",
      "\n",
      " BeautifulSoup([your markup], \"lxml\")\n",
      "\n",
      "  markup_type=markup_type))\n"
     ]
    },
    {
     "name": "stdout",
     "output_type": "stream",
     "text": [
      "match 0 done\n",
      "[{'preformance_url': 'https://www.hltv.org/stats/matches/performance/mapstatsid/47764/tyloo-vs-flash', 'map_one': (u'Overpass', u'16', u'12'), 'map_two': (u'Inferno', u'9', u'16'), 'url': 'https://www.hltv.org/matches/2314604/tyloo-vs-flash-wesg-2017-china-finals', 'map_stats_url': 'https://www.hltv.org/stats/matches/mapstatsid/47764/tyloo-vs-flash', 'map_three': (u'Cache', u'8', u'16'), 'teams': [                            TyLoo    K-D  +/-   ADR   KAST  Rating2.0\n",
      "0  HaoWen 'somebody' Xu  somebody  70-52   18  88.8  74.0%       1.28\n",
      "1             Zhen 'HZ' Huang  HZ  53-52    1  78.0  76.6%       1.09\n",
      "2                 Ke 'Mo' Liu  Mo  55-53    2  75.8  67.5%       1.08\n",
      "3        ZhenDong 'Not7' Mo  Not7  42-57  -15  60.4  67.5%       0.83\n",
      "4                 Hui 'DD' Wu  DD  38-59  -21  66.3  57.1%       0.75,                                   Flash    K-D  +/-   ADR   KAST  Rating2.0\n",
      "0  YuanZhang 'AttackeR' Sheng  AttackeR  69-46   23  92.3  76.6%       1.41\n",
      "1            YuLun 'fancy1' Cai  fancy1  60-54    6  84.5  76.6%       1.23\n",
      "2           KunHua 'LOVEYY' Bai  LOVEYY  51-49    2  74.8  68.8%       1.08\n",
      "3              QiFang 'Karsa' Su  Karsa  52-54   -2  79.5  76.6%       1.05\n",
      "4           WeiJia 'INNOPY' Guo  INNOPY  41-55  -14  58.8  79.2%       0.90], 'vetos': [u'1. TyLoo removed Nuke', u'2. Flash removed Mirage', u'3. TyLoo picked Overpass', u'4. Flash picked Inferno', u'5. TyLoo removed Train', u'6. Flash removed Cobblestone', u'7. Cache was left over'], 'stats_url': 'https://www.hltv.org/stats/matches/47764/tyloo-vs-flash', 'team_a_b': (u'TyLoo', u'Flash'), 'match_1': {'first_kills':   Unnamed: 0  MKN Baltec HugoXD Plopski xole\n",
      "0     robiin  1:2    6:0    1:1     0:1  0:0\n",
      "1     Konshi  0:0    0:0    0:0     1:0  0:0\n",
      "2       Sayf  1:0    1:0    1:1     0:0  0:0\n",
      "3    b0bbzki  1:0    1:1    0:2     3:1  1:1\n",
      "4     BENDJI  0:1    0:1    2:0     1:1  1:0, 'total_team_kda':   Unnamed: 0  Unnamed: 1    Â  Unnamed: 3\n",
      "0      Kills         123  Â Â         125\n",
      "1     Deaths         125  Â Â         123\n",
      "2    Assists          27  Â Â          17, 'who_kill_who':   Unnamed: 0   MKN Baltec HugoXD Plopski xole\n",
      "0     robiin  11:7    7:3    4:8     3:7  4:1\n",
      "1     Konshi   4:7    4:4    3:4     6:6  6:6\n",
      "2       Sayf   4:6    7:2    4:6     5:4  2:4\n",
      "3    b0bbzki   3:4    5:3   3:12     5:2  6:5\n",
      "4     BENDJI   4:4    2:2   10:3     6:6  7:7, 'awp_kills':   Unnamed: 0  MKN Baltec HugoXD Plopski xole\n",
      "0     robiin  0:0    0:1    0:0     0:1  0:1\n",
      "1     Konshi  0:0    0:0    0:0     0:1  0:0\n",
      "2       Sayf  0:0    0:0    0:1     0:0  0:1\n",
      "3    b0bbzki  0:0    3:2    2:0     4:0  2:1\n",
      "4     BENDJI  2:0    2:1    6:0     3:0  3:3}, 'match_3': 'No match_3', 'match_2': {'first_kills':   Unnamed: 0  MKN Baltec HugoXD Plopski xole\n",
      "0     robiin  0:0    1:0    1:0     1:0  3:0\n",
      "1     Konshi  0:0    1:0    0:1     1:0  0:0\n",
      "2       Sayf  2:0    3:1    1:0     0:1  0:0\n",
      "3    b0bbzki  0:0    0:0    0:0     0:0  2:1\n",
      "4     BENDJI  0:0    0:0    1:1     0:0  0:1, 'total_team_kda':   Unnamed: 0  Unnamed: 1    Â  Unnamed: 3\n",
      "0      Kills          56  Â Â          91\n",
      "1     Deaths          92  Â Â          56\n",
      "2    Assists          11  Â Â          22, 'who_kill_who':   Unnamed: 0  MKN Baltec HugoXD Plopski xole\n",
      "0     robiin  5:2    2:4    5:3     5:1  7:2\n",
      "1     Konshi  1:1    6:2    6:1     2:2  3:2\n",
      "2       Sayf  8:4    9:1    3:3     2:1  2:2\n",
      "3    b0bbzki  1:3    1:0    2:2     3:5  3:4\n",
      "4     BENDJI  4:2    1:2    3:1     5:4  2:2, 'awp_kills':   Unnamed: 0  MKN Baltec HugoXD Plopski xole\n",
      "0     robiin  0:0    0:0    0:0     0:0  1:0\n",
      "1     Konshi  0:0    0:0    0:0     0:0  0:0\n",
      "2       Sayf  0:0    0:0    0:1     0:0  0:0\n",
      "3    b0bbzki  0:0    0:0    0:0     0:0  0:0\n",
      "4     BENDJI  2:0    0:0    0:0     3:0  0:0}}]\n"
     ]
    }
   ],
   "source": [
    "team_name = 'TyLoo'\n",
    "startDate = '2017-08-01'\n",
    "endDate = '2017-10-01'\n",
    "\n",
    "matches = scrape_match_data(team_name, startDate, endDate)\n",
    "print matches\n"
   ]
  },
  {
   "cell_type": "code",
   "execution_count": null,
   "metadata": {
    "collapsed": true
   },
   "outputs": [],
   "source": []
  }
 ],
 "metadata": {
  "kernelspec": {
   "display_name": "Python [conda root]",
   "language": "python",
   "name": "conda-root-py"
  },
  "language_info": {
   "codemirror_mode": {
    "name": "ipython",
    "version": 2
   },
   "file_extension": ".py",
   "mimetype": "text/x-python",
   "name": "python",
   "nbconvert_exporter": "python",
   "pygments_lexer": "ipython2",
   "version": "2.7.12"
  }
 },
 "nbformat": 4,
 "nbformat_minor": 1
}
