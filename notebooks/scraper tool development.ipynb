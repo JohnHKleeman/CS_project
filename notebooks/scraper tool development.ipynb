{
 "cells": [
  {
   "cell_type": "code",
   "execution_count": 1,
   "metadata": {
    "collapsed": true
   },
   "outputs": [],
   "source": [
    "import urllib2, sys\n",
    "from bs4 import BeautifulSoup\n",
    "import pandas as pd\n",
    "from io import StringIO\n",
    "from IPython.core.display import HTML\n",
    "import requests\n",
    "import time\n",
    "import datetime\n",
    "import urlparse\n",
    "import os"
   ]
  },
  {
   "cell_type": "code",
   "execution_count": 2,
   "metadata": {
    "collapsed": true
   },
   "outputs": [],
   "source": [
    "class modifiedSoup(BeautifulSoup):\n",
    "    def __init__(self, *args, **kwargs):\n",
    "        self._url = None\n",
    "        BeautifulSoup.__init__(self, *args, **kwargs)"
   ]
  },
  {
   "cell_type": "code",
   "execution_count": 3,
   "metadata": {
    "collapsed": true
   },
   "outputs": [],
   "source": [
    "def scrape(page_to_scrape,urls):\n",
    "    matches = []\n",
    "    for idx, url in enumerate(urls):\n",
    "        matches.append(page_to_scrape(url))\n",
    "        time.sleep(5)\n",
    "        print'match {0} done'.format(idx)\n",
    "    return matches"
   ]
  },
  {
   "cell_type": "code",
   "execution_count": 4,
   "metadata": {},
   "outputs": [],
   "source": [
    "def scrape_match_data(team_name, startDate, endDate):\n",
    "    teamID = get_teamID(team_name)\n",
    "    params = {\n",
    "        'teamID':teamID,\n",
    "        'startDate':startDate,\n",
    "        'endDate':endDate\n",
    "    }"
   ]
  },
  {
   "cell_type": "code",
   "execution_count": 5,
   "metadata": {
    "collapsed": true
   },
   "outputs": [],
   "source": [
    "def get_teamID(team_name):\n",
    "    team_info = pd.read_csv('../../scrapped_data/team_info.csv', index_col=0)\n",
    "    teamID = team_info.loc[team_info.team_name == team_name, 'team_id'].tolist()[0]\n",
    "    return teamID"
   ]
  },
  {
   "cell_type": "code",
   "execution_count": 6,
   "metadata": {
    "collapsed": true
   },
   "outputs": [],
   "source": [
    "def get_soup(url):\n",
    "    hdr = {'User-Agent': 'Mozilla/5.0'}\n",
    "    req = urllib2.Request(url,headers=hdr)\n",
    "    page = urllib2.urlopen(req)\n",
    "    soup = modifiedSoup(page, \"lxml\")\n",
    "    soup._url = url\n",
    "    print soup._url\n",
    "    time.sleep(5)\n",
    "    return soup"
   ]
  },
  {
   "cell_type": "code",
   "execution_count": 7,
   "metadata": {
    "collapsed": true
   },
   "outputs": [],
   "source": [
    "def get_matches_result_page_soup(params):\n",
    "    match_page = \"https://www.hltv.org/results?offset={offset}&content=demo&team={teamID}&startDate={\" \\\n",
    "                 \"startDate}&endDate={endDate}\".format(**params)\n",
    "    soup = get_soup(match_page)\n",
    "    matches_soup = soup.find_all(\"div\", class_='results-all')\n",
    "    return matches_soup"
   ]
  },
  {
   "cell_type": "code",
   "execution_count": 8,
   "metadata": {
    "collapsed": true
   },
   "outputs": [],
   "source": [
    "def make_matches_url_loop(matches):\n",
    "    urls = []\n",
    "    results = matches[0].find_all(\"a\", class_=\"a-reset\")\n",
    "    urls += ['https://www.hltv.org' + result['href'] for result in results]\n",
    "    return urls"
   ]
  },
  {
   "cell_type": "code",
   "execution_count": 9,
   "metadata": {
    "collapsed": true
   },
   "outputs": [],
   "source": [
    "def make_matches_bof_loop(matches):\n",
    "    bof = []\n",
    "    results = matches[0].find_all(\"td\", class_='result-score')\n",
    "    bof += [result.text for result in results]\n",
    "    return bof"
   ]
  },
  {
   "cell_type": "code",
   "execution_count": 10,
   "metadata": {},
   "outputs": [],
   "source": [
    "\n",
    "\n",
    "def sum_digits_in_string(digit):\n",
    "     return sum(int(x) for x in digit if x.isdigit())\n",
    "        "
   ]
  },
  {
   "cell_type": "code",
   "execution_count": 11,
   "metadata": {
    "collapsed": true
   },
   "outputs": [],
   "source": [
    "def get_matches_result_page_urls_bof(params):\n",
    "    done = False\n",
    "    params['offset'] = 0\n",
    "\n",
    "    while not done:\n",
    "        matches = get_matches_result_page_soup(params)\n",
    "        if len(matches) == 0:\n",
    "            break\n",
    "\n",
    "        urls = make_matches_url_loop(matches)\n",
    "        bof = make_matches_bof_loop(matches)\n",
    "\n",
    "        if len(urls) % 100 != 0:\n",
    "            done = True\n",
    "        else:\n",
    "            params['offset'] += 100\n",
    "    del params['offset']\n",
    "    return {\n",
    "        'urls' : urls,\n",
    "        'bof' : bof\n",
    "    }"
   ]
  },
  {
   "cell_type": "code",
   "execution_count": 16,
   "metadata": {},
   "outputs": [],
   "source": [
    "def get_urls_from_columns(url):\n",
    "    soup = get_soup(url)\n",
    "    links = []   \n",
    "    bof_site = soup.find_all(\"div\", class_ =\"columns\")[0]\n",
    "    for link in bof_site.find_all('a'):\n",
    "        links.append(\"https://www.hltv.org\" + str(link.get(\"href\")))\n",
    "    return links\n",
    "        "
   ]
  },
  {
   "cell_type": "code",
   "execution_count": 21,
   "metadata": {},
   "outputs": [],
   "source": [
    "def bof_testing(bof, url, type_of_parse):  # CANNOT BE USED WITH BASIC STATS PAGE PRIMARY_STATS_PAGE\n",
    "   \n",
    "    total_sum = sum_digits_in_string(bof)\n",
    "    if total_sum > 15:\n",
    "        return type_of_parse(url)\n",
    "    all_matches = {}\n",
    "    sites = get_urls_from_columns(url)\n",
    "    if total_sum == 1:\n",
    "        return 'forfeit'\n",
    "    if total_sum >= 2:\n",
    "        all_matches.update({'match_1': type_of_parse(sites[1]), 'match_2': type_of_parse(sites[2])})\n",
    "        if total_sum >= 3:\n",
    "            all_matches.update({'match_3': type_of_parse(sites[3])})\n",
    "            if total_sum >= 4:\n",
    "                all_matches.update({'match_4': type_of_parse(sites[4])})\n",
    "                if total_sum == 5:\n",
    "                    all_matches.update({'match_5': type_of_parse(sites[5])})\n",
    "                else:\n",
    "                        all_matches.update({'match_unknown': 'Unknown'})\n",
    "    return all_matches\n",
    "   "
   ]
  },
  {
   "cell_type": "code",
   "execution_count": null,
   "metadata": {
    "collapsed": true
   },
   "outputs": [],
   "source": [
    "def get_overview_data(url):\n",
    "    soup = get_soup(url)\n",
    "    match_time = soup.find_all(\"div\", {\"class\": \"small-text\"})\n",
    "    for item in match_time:\n",
    "        match_time = item.text\n",
    "    match_time = datetime.datetime.strptime(match_time, '%Y-%m-%d  %H:%MMap')  # match date and time\n",
    "\n",
    "\n",
    "    round_history_team = soup.find_all(\"div\", class_=\"round-history-team-row\")  # winner of rounds and how rounds were won\n",
    "    round_history_team_a = round_history_team[0].find_all(\"img\")\n",
    "    round_history_team_b = round_history_team[1].find_all(\"img\")\n",
    "    team_a_scores = []\n",
    "    for scoreing in round_history_team_a:\n",
    "        team_a_scores.append([scoreing.get('title')])  # rounds that team a won\n",
    "    team_b_scores = []\n",
    "    for scoreing in round_history_team_b:\n",
    "        team_b_scores.append([scoreing.get('title')])  # rounds that team b won\n",
    "    team_a_ending = []\n",
    "    for ending in round_history_team_a:\n",
    "        url = urlparse.urlparse(ending.get('src'))\n",
    "        base = os.path.basename(url.path)  # how team a won the round\n",
    "        team_a_ending.append([os.path.splitext(base)[0]])\n",
    "    team_b_ending = []\n",
    "    for ending in round_history_team_b:\n",
    "        url = urlparse.urlparse(ending.get('src'))\n",
    "        base = os.path.basename(url.path)\n",
    "        team_b_ending.append([os.path.splitext(base)[0]])  # how team b won the round\n",
    "    return {\n",
    "        'match_time': match_time,  # match date and time\n",
    "        'team_scores': [team_a_scores, team_b_scores],  # rounds that team a won\n",
    "        'team_endings': [team_a_ending, team_b_ending]  # how the team won the round\n",
    "    }\n"
   ]
  },
  {
   "cell_type": "code",
   "execution_count": null,
   "metadata": {
    "collapsed": true
   },
   "outputs": [],
   "source": [
    "def get_performance_data(url):\n",
    "    tables = get_tables(url)\n",
    "    total_team_kda = tables[0]\n",
    "    who_kill_who = tables[1]\n",
    "    first_kills = tables[2]\n",
    "    awp_kills = tables[3]\n",
    "    return {\n",
    "        'total_team_kda': total_team_kda, # total kills deaths and assists of team\n",
    "        'who_kill_who' : who_kill_who, # who killed who\n",
    "        'first_kills' : first_kills, #first kill of the round\n",
    "        'awp_kills' : awp_kills #awp kills\n",
    "    }"
   ]
  },
  {
   "cell_type": "code",
   "execution_count": null,
   "metadata": {
    "collapsed": true
   },
   "outputs": [],
   "source": []
  },
  {
   "cell_type": "code",
   "execution_count": 19,
   "metadata": {
    "collapsed": true
   },
   "outputs": [],
   "source": [
    "def get_heatmap_data(url):\n",
    "    soup = get_soup(url)\n",
    "    divs = soup.find_all('div', class_='heatmap heatmap-data')\n",
    "    heatmap_1 = divs[0]['data-heatmap-config']\n",
    "    heatmap_2 = divs[1]['data-heatmap-config']\n",
    "    return{\n",
    "            \"heat_maps\" : [heatmap_1, heatmap_2]\n",
    "        }"
   ]
  },
  {
   "cell_type": "code",
   "execution_count": null,
   "metadata": {
    "collapsed": true
   },
   "outputs": [],
   "source": []
  }
 ],
 "metadata": {
  "anaconda-cloud": {},
  "kernelspec": {
   "display_name": "Python 2",
   "language": "python",
   "name": "python2"
  },
  "language_info": {
   "codemirror_mode": {
    "name": "ipython",
    "version": 2
   },
   "file_extension": ".py",
   "mimetype": "text/x-python",
   "name": "python",
   "nbconvert_exporter": "python",
   "pygments_lexer": "ipython2",
   "version": "2.7.13"
  }
 },
 "nbformat": 4,
 "nbformat_minor": 1
}
