{
 "cells": [
  {
   "cell_type": "code",
   "execution_count": 43,
   "metadata": {
    "collapsed": true
   },
   "outputs": [],
   "source": [
    "import urllib2, sys\n",
    "from bs4 import BeautifulSoup\n",
    "import pandas as pd\n",
    "from io import StringIO\n",
    "from IPython.core.display import HTML\n",
    "import requests\n",
    "import time\n",
    "import datetime\n",
    "import urlparse\n",
    "import os"
   ]
  },
  {
   "cell_type": "code",
   "execution_count": 4,
   "metadata": {
    "collapsed": true
   },
   "outputs": [],
   "source": [
    "def get_teamID(team_name):\n",
    "    team_info = pd.read_csv('../../scrapped_data/team_info.csv', index_col=0)\n",
    "    teamID = team_info.loc[team_info.team_name == team_name, 'team_id'].tolist()[0]\n",
    "    return teamID"
   ]
  },
  {
   "cell_type": "code",
   "execution_count": 5,
   "metadata": {
    "collapsed": true
   },
   "outputs": [],
   "source": [
    "def get_soup(url):\n",
    "    hdr = {'User-Agent': 'Mozilla/5.0'}\n",
    "    req = urllib2.Request(url,headers=hdr)\n",
    "    page = urllib2.urlopen(req)\n",
    "    soup = BeautifulSoup(page)\n",
    "    return soup"
   ]
  },
  {
   "cell_type": "code",
   "execution_count": 45,
   "metadata": {
    "collapsed": false
   },
   "outputs": [],
   "source": [
    "def get_match_urls(params):\n",
    "    done=False\n",
    "    params['offset'] = 0\n",
    "    urls = []\n",
    "    while not done:\n",
    "        match_page = \"https://www.hltv.org/results?offset={offset}&content=demo&team={teamID}&startDate={startDate}&endDate={endDate}\".format(**params)\n",
    "        soup = get_soup(match_page)\n",
    "        matches = soup.find_all(\"div\", class_='results-all')\n",
    "        \n",
    "        if len(matches) == 0:\n",
    "            break\n",
    "        \n",
    "        results = matches[0].find_all(\"a\", class_=\"a-reset\")\n",
    "        urls  += ['https://www.hltv.org' + result['href'] for result in results]\n",
    "        if len(urls) % 100 != 0:\n",
    "            done = True\n",
    "        else:\n",
    "            params['offset'] += 100\n",
    "    del params['offset']\n",
    "    return urls"
   ]
  },
  {
   "cell_type": "code",
   "execution_count": 46,
   "metadata": {
    "collapsed": true
   },
   "outputs": [],
   "source": [
    "def parse_match(site):\n",
    "    soup = get_soup(site)\n",
    "\n",
    "    demo_url = 'https://www.hltv.org' + soup.find_all(\"a\", class_=\"flexbox left-right-padding\")[0]['href']\n",
    "    \n",
    "    try:\n",
    "        vetos = soup.find_all(\"div\", class_=\"standard-box veto-box\")[1].find_all(\"div\")[0].find_all(\"div\")\n",
    "        vetos = [veto.text for veto in vetos]\n",
    "    except:\n",
    "        vetos = None\n",
    "        \n",
    "    stats_url = 'https://www.hltv.org' + [a_element['href'] for a_element in soup.find_all(\"a\") if a_element.text == \"Detailed stats\"][0]\n",
    "\n",
    "    tables = soup.find_all(\"div\", class_ = \"stats-content\", id=\"all-content\")[0]\n",
    "    tables = tables.find_all(\"table\")\n",
    "    \n",
    "    hdr = {'User-Agent': 'Mozilla/5.0'}\n",
    "    r = requests.get(site, headers=hdr)\n",
    "    tables = pd.read_html(r.text, header=0)\n",
    "    team_a, team_b = tables[0], tables[1]\n",
    "\n",
    "    match_data = {\n",
    "        'url': site,\n",
    "        'vetos': vetos,\n",
    "        'teams': [team_a, team_b]\n",
    "    }\n",
    "    \n",
    "    map_stats_url = 'https://www.hltv.org/stats/matches/mapstatsid/'+ stats_url.split('/')[5] + '/'+ stats_url.split('/')[6]\n",
    "    preformance_url ='https://www.hltv.org/stats/matches/performance/mapstatsid/'+ stats_url.split('/')[5] + '/'+ stats_url.split('/')[6]\n",
    "    \n",
    "    stats_data = parse_stats_page(map_stats_url)\n",
    "    preformance_data = parse_stats_performance_page(preformance_url)\n",
    "    \n",
    "    match_data.update(stats_data)\n",
    "    match_data.update(preformance_data)\n",
    "    \n",
    "    return match_data"
   ]
  },
  {
   "cell_type": "code",
   "execution_count": 14,
   "metadata": {
    "collapsed": false
   },
   "outputs": [],
   "source": [
    "def scrape_match_data(team_name, startDate, endDate):\n",
    "    teamID = get_teamID(team_name)\n",
    "    params = {\n",
    "        'teamID':teamID,\n",
    "        'startDate':startDate,\n",
    "        'endDate':endDate\n",
    "    }\n",
    "    urls = get_match_urls(params)\n",
    "    matches = []\n",
    "    for idx, url in enumerate(urls):\n",
    "        matches.append(parse_match(url))\n",
    "        time.sleep(5)\n",
    "        print 'match {0} done'.format(idx)\n",
    "    return matches"
   ]
  },
  {
   "cell_type": "code",
   "execution_count": 40,
   "metadata": {
    "collapsed": true
   },
   "outputs": [],
   "source": [
    "def parse_stats_performance_page(url): \n",
    "    #site page example \"https://www.hltv.org/stats/matches/performance/mapstatsid/52325/immortals-vs-cloud9\"\n",
    "    # THIS THE STATS/PERFORMANCE PAGE\n",
    "    hdr = {'User-Agent': 'Mozilla/5.0'}\n",
    "    r = requests.get(url, headers=hdr)\n",
    "    tables = pd.read_html(r.text, header=0)\n",
    "    total_team_kda = tables[0] \n",
    "    who_kill_who = tables[1] \n",
    "    first_kills = tables[2]  \n",
    "    awp_kills = tables[3]   \n",
    "    \n",
    "    return {\n",
    "        'total_team_kda': total_team_kda, # total kills deaths and assists of team\n",
    "        'who_kill_who' : who_kill_who, # who killed who\n",
    "        'first_kills' : first_kills, #first kill of the round\n",
    "        'awp_kills' : awp_kills #awp kills\n",
    "    }"
   ]
  },
  {
   "cell_type": "code",
   "execution_count": 41,
   "metadata": {
    "collapsed": true
   },
   "outputs": [],
   "source": [
    "def parse_stats_page(url): \n",
    "    #site page example  \"https://www.hltv.org/stats/matches/mapstatsid/52325/immortals-vs-cloud9\"\n",
    "    # THIS IS THE STATS PAGE\n",
    "    \n",
    "    soup = get_soup(url)\n",
    "  \n",
    "    match_time = soup.find_all(\"div\", {\"class\":\"small-text\"})\n",
    "    for item in match_time:\n",
    "        match_time = item.text\n",
    "    match_time = datetime.datetime.strptime(match_time, '%Y-%m-%d  %H:%MMap') #match date and time\n",
    "    hdr = {'User-Agent': 'Mozilla/5.0'}\n",
    "    r = requests.get(url, headers=hdr)\n",
    "    tables = pd.read_html(r.text, header=0)\n",
    "    team_a_stats, team_b_stats = tables[0], tables[1]\n",
    "\n",
    "    round_history_team = soup.find_all(\"div\", class_ = \"round-history-team-row\") # winner of rounds and how rounds were won\n",
    "    round_history_team_a = round_history_team[0].find_all(\"img\")\n",
    "    round_history_team_b = round_history_team[1].find_all(\"img\")\n",
    "    team_a_scores = []\n",
    "    for scoreing in round_history_team_a:\n",
    "         team_a_scores.append([ scoreing.get('title')])                    #rounds that team a won\n",
    "    team_b_scores = []                                                         \n",
    "    for scoreing in round_history_team_b:                              \n",
    "         team_b_scores.append([ scoreing.get('title')])                    #rounds that team b won\n",
    "    team_a_ending = []                                                          \n",
    "    for ending in round_history_team_a:\n",
    "        url = urlparse.urlparse(ending.get('src'))\n",
    "        base = os.path.basename(url.path)                                  #how team a won the round\n",
    "        team_a_ending.append([os.path.splitext(base)[0]])   \n",
    "    team_b_ending = []\n",
    "    for ending in round_history_team_b:\n",
    "        url = urlparse.urlparse(ending.get('src'))\n",
    "        base = os.path.basename(url.path)\n",
    "        team_b_ending.append([os.path.splitext(base)[0]])                  #how team b won the round\n",
    "    return {\n",
    "        'match_time' : match_time, #match date and time\n",
    "        'team_scores': [team_a_scores, team_b_scores], #rounds that team a won\n",
    "        'team_endings': [team_a_ending, team_b_ending] #how the team won the round\n",
    "       }"
   ]
  },
  {
   "cell_type": "code",
   "execution_count": 47,
   "metadata": {
    "collapsed": false
   },
   "outputs": [
    {
     "name": "stdout",
     "output_type": "stream",
     "text": [
      "['https://www.hltv.org/matches/2314604/tyloo-vs-flash-wesg-2017-china-finals']\n",
      "match 0 done\n"
     ]
    }
   ],
   "source": [
    "#testing function\n",
    "\n",
    "team_name = 'TyLoo'\n",
    "startDate ='2017-08-01'\n",
    "endDate ='2017-10-01'\n",
    "\n",
    "matches = scrape_match_data(team_name, startDate, endDate)"
   ]
  },
  {
   "cell_type": "code",
   "execution_count": 20,
   "metadata": {
    "collapsed": false
   },
   "outputs": [
    {
     "data": {
      "text/plain": [
       "[{'stats_url': 'https://www.hltv.org/stats/matches/47764/tyloo-vs-flash',\n",
       "  'teams': [                            TyLoo    K-D  +/-   ADR   KAST  Rating2.0\n",
       "   0  HaoWen 'somebody' Xu  somebody  70-52   18  88.8  74.0%       1.28\n",
       "   1             Zhen 'HZ' Huang  HZ  53-52    1  78.0  76.6%       1.09\n",
       "   2                 Ke 'Mo' Liu  Mo  55-53    2  75.8  67.5%       1.08\n",
       "   3        ZhenDong 'Not7' Mo  Not7  42-57  -15  60.4  67.5%       0.83\n",
       "   4                 Hui 'DD' Wu  DD  38-59  -21  66.3  57.1%       0.75,\n",
       "                                     Flash    K-D  +/-   ADR   KAST  Rating2.0\n",
       "   0  YuanZhang 'AttackeR' Sheng  AttackeR  69-46   23  92.3  76.6%       1.41\n",
       "   1            YuLun 'fancy1' Cai  fancy1  60-54    6  84.5  76.6%       1.23\n",
       "   2           KunHua 'LOVEYY' Bai  LOVEYY  51-49    2  74.8  68.8%       1.08\n",
       "   3              QiFang 'Karsa' Su  Karsa  52-54   -2  79.5  76.6%       1.05\n",
       "   4           WeiJia 'INNOPY' Guo  INNOPY  41-55  -14  58.8  79.2%       0.90],\n",
       "  'url': 'https://www.hltv.org/matches/2314604/tyloo-vs-flash-wesg-2017-china-finals',\n",
       "  'vetos': [u'1. TyLoo removed Nuke',\n",
       "   u'2. Flash removed Mirage',\n",
       "   u'3. TyLoo picked Overpass',\n",
       "   u'4. Flash picked Inferno',\n",
       "   u'5. TyLoo removed Train',\n",
       "   u'6. Flash removed Cobblestone',\n",
       "   u'7. Cache was left over']}]"
      ]
     },
     "execution_count": 20,
     "metadata": {},
     "output_type": "execute_result"
    }
   ],
   "source": [
    "matches"
   ]
  },
  {
   "cell_type": "code",
   "execution_count": null,
   "metadata": {
    "collapsed": true
   },
   "outputs": [],
   "source": []
  }
 ],
 "metadata": {
  "anaconda-cloud": {},
  "kernelspec": {
   "display_name": "Python [conda root]",
   "language": "python",
   "name": "conda-root-py"
  },
  "language_info": {
   "codemirror_mode": {
    "name": "ipython",
    "version": 2
   },
   "file_extension": ".py",
   "mimetype": "text/x-python",
   "name": "python",
   "nbconvert_exporter": "python",
   "pygments_lexer": "ipython2",
   "version": "2.7.12"
  }
 },
 "nbformat": 4,
 "nbformat_minor": 1
}
