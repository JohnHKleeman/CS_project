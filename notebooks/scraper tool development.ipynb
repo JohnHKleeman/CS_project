{
 "cells": [
  {
   "cell_type": "code",
   "execution_count": 1,
   "metadata": {
    "collapsed": true
   },
   "outputs": [],
   "source": [
    "import urllib2, sys\n",
    "from bs4 import BeautifulSoup\n",
    "import pandas as pd\n",
    "from io import StringIO\n",
    "from IPython.core.display import HTML\n",
    "import requests\n",
    "import time\n",
    "import datetime\n",
    "import urlparse\n",
    "import os"
   ]
  },
  {
   "cell_type": "code",
   "execution_count": 2,
   "metadata": {
    "collapsed": true
   },
   "outputs": [],
   "source": [
    "class modifiedSoup(BeautifulSoup):\n",
    "    def __init__(self, *args, **kwargs):\n",
    "        self._url = None\n",
    "        BeautifulSoup.__init__(self, *args, **kwargs)"
   ]
  },
  {
   "cell_type": "code",
   "execution_count": null,
   "metadata": {
    "collapsed": true
   },
   "outputs": [],
   "source": [
    "def scrape(page_to_scrape,urls):\n",
    "    matches = []\n",
    "    for idx, url in enumerate(urls):\n",
    "        matches.append(page_to_scrape(url))\n",
    "        time.sleep(5)\n",
    "        print'match {0} done'.format(idx)\n",
    "    return matches"
   ]
  },
  {
   "cell_type": "code",
   "execution_count": null,
   "metadata": {
    "collapsed": true
   },
   "outputs": [],
   "source": [
    "def scrape_match_data(team_name, startDate, endDate):\n",
    "    teamID = get_teamID(team_name)\n",
    "    params = {\n",
    "        'teamID':teamID,\n",
    "        'startDate':startDate,\n",
    "        'endDate':endDate\n",
    "    }"
   ]
  },
  {
   "cell_type": "code",
   "execution_count": null,
   "metadata": {
    "collapsed": true
   },
   "outputs": [],
   "source": [
    "def get_teamID(team_name):\n",
    "    team_info = pd.read_csv('../../scrapped_data/team_info.csv', index_col=0)\n",
    "    teamID = team_info.loc[team_info.team_name == team_name, 'team_id'].tolist()[0]\n",
    "    return teamID"
   ]
  },
  {
   "cell_type": "code",
   "execution_count": 3,
   "metadata": {
    "collapsed": true
   },
   "outputs": [],
   "source": [
    "def get_soup(url):\n",
    "    hdr = {'User-Agent': 'Mozilla/5.0'}\n",
    "    req = urllib2.Request(url,headers=hdr)\n",
    "    page = urllib2.urlopen(req)\n",
    "    soup = modifiedSoup(page, \"lxml\")\n",
    "    soup._url = url\n",
    "    print soup._url\n",
    "    time.sleep(5)\n",
    "    return soup"
   ]
  },
  {
   "cell_type": "code",
   "execution_count": null,
   "metadata": {
    "collapsed": true
   },
   "outputs": [],
   "source": [
    "def get_matches_result_page_soup(params):\n",
    "    match_page = \"https://www.hltv.org/results?offset={offset}&content=demo&team={teamID}&startDate={\" \\\n",
    "                 \"startDate}&endDate={endDate}\".format(**params)\n",
    "    soup = get_soup(match_page)\n",
    "    matches_soup = soup.find_all(\"div\", class_='results-all')\n",
    "    return matches_soup"
   ]
  },
  {
   "cell_type": "code",
   "execution_count": null,
   "metadata": {
    "collapsed": true
   },
   "outputs": [],
   "source": [
    "def make_matches_url_loop(matches):\n",
    "    urls = []\n",
    "    results = matches[0].find_all(\"a\", class_=\"a-reset\")\n",
    "    urls += ['https://www.hltv.org' + result['href'] for result in results]\n",
    "    return urls"
   ]
  },
  {
   "cell_type": "code",
   "execution_count": null,
   "metadata": {
    "collapsed": true
   },
   "outputs": [],
   "source": [
    "def make_matches_bof_loop(matches):\n",
    "    bof = []\n",
    "    results = matches[0].find_all(\"td\", class_='result-score')\n",
    "    bof += [result.text for result in results]\n",
    "    return bof"
   ]
  },
  {
   "cell_type": "code",
   "execution_count": null,
   "metadata": {
    "collapsed": true
   },
   "outputs": [],
   "source": [
    "\n",
    "\n",
    "def sum_digits_in_string(digit):\n",
    "     return sum(int(x) for x in digit if x.isdigit())\n",
    "        "
   ]
  },
  {
   "cell_type": "code",
   "execution_count": null,
   "metadata": {
    "collapsed": true
   },
   "outputs": [],
   "source": [
    "def get_matches_result_page_urls_bof(params):\n",
    "    done = False\n",
    "    params['offset'] = 0\n",
    "\n",
    "    while not done:\n",
    "        matches = get_matches_result_page_soup(params)\n",
    "        if len(matches) == 0:\n",
    "            break\n",
    "\n",
    "        urls = make_matches_url_loop(matches)\n",
    "        bof = make_matches_bof_loop(matches)\n",
    "\n",
    "        if len(urls) % 100 != 0:\n",
    "            done = True\n",
    "        else:\n",
    "            params['offset'] += 100\n",
    "    del params['offset']\n",
    "    return {\n",
    "        'urls' : urls,\n",
    "        'bof' : bof\n",
    "    }"
   ]
  },
  {
   "cell_type": "code",
   "execution_count": null,
   "metadata": {
    "collapsed": true
   },
   "outputs": [],
   "source": [
    "def get_urls_from_columns(url):\n",
    "    soup = get_soup(url)\n",
    "    links = []   \n",
    "    bof_site = soup.find_all(\"div\", class_ =\"columns\")[0]\n",
    "    for link in bof_site.find_all('a'):\n",
    "        links.append(\"https://www.hltv.org\" + str(link.get(\"href\")))\n",
    "    return links\n",
    "        "
   ]
  },
  {
   "cell_type": "code",
   "execution_count": null,
   "metadata": {
    "collapsed": true
   },
   "outputs": [],
   "source": [
    "def bof_testing(bof, url, type_of_parse):  # CANNOT BE USED WITH BASIC STATS PAGE PRIMARY_STATS_PAGE\n",
    "   \n",
    "    total_sum = sum_digits_in_string(bof)\n",
    "    if total_sum > 15:\n",
    "        return type_of_parse(url)\n",
    "    all_matches = {}\n",
    "    sites = get_urls_from_columns(url)\n",
    "    if total_sum == 1:\n",
    "        return 'forfeit'\n",
    "    if total_sum >= 2:\n",
    "        all_matches.update({'match_1': type_of_parse(sites[1]), 'match_2': type_of_parse(sites[2])})\n",
    "        if total_sum >= 3:\n",
    "            all_matches.update({'match_3': type_of_parse(sites[3])})\n",
    "            if total_sum >= 4:\n",
    "                all_matches.update({'match_4': type_of_parse(sites[4])})\n",
    "                if total_sum == 5:\n",
    "                    all_matches.update({'match_5': type_of_parse(sites[5])})\n",
    "                else:\n",
    "                        all_matches.update({'match_unknown': 'Unknown'})\n",
    "    return all_matches\n",
    "   "
   ]
  },
  {
   "cell_type": "code",
   "execution_count": 28,
   "metadata": {},
   "outputs": [],
   "source": [
    "def get_overview_round_scores(tround_a, tround_b, team_info):\n",
    "    team_info['team_a'].append([tround_a.get('title')])  # rounds that team a won\n",
    "    team_info['team_b'].append([tround_b.get('title')])\n",
    "    return team_info    # rounds that team b won"
   ]
  },
  {
   "cell_type": "code",
   "execution_count": 22,
   "metadata": {},
   "outputs": [],
   "source": [
    "def get_overview_round_for_loop(round_history, get_overview_round_type):\n",
    "    team_info = {'team_a' :[], 'team_b' : []}\n",
    "    for tround_a, tround_b in zip(round_history[0].find_all(\"img\"),round_history[1].find_all(\"img\")):\n",
    "        team_info = get_overview_round_type(tround_a, tround_b, team_info)\n",
    "    return team_info\n",
    "   "
   ]
  },
  {
   "cell_type": "code",
   "execution_count": 23,
   "metadata": {
    "collapsed": true
   },
   "outputs": [],
   "source": [
    "def get_overview_round_endings(tround_a, tround_b, team_info):\n",
    "    team_info['team_a'].append([os.path.splitext(get_base_name_from_url(tround_a))[0]])\n",
    "    team_info['team_b'].append([os.path.splitext(get_base_name_from_url(tround_b))[0]])\n",
    "    return team_info  # how team a won the round"
   ]
  },
  {
   "cell_type": "code",
   "execution_count": 30,
   "metadata": {
    "collapsed": true
   },
   "outputs": [],
   "source": [
    "def get_base_name_from_url(tround):\n",
    "    url = urlparse.urlparse(tround.get('src'))\n",
    "    base = os.path.basename(url.path)\n",
    "    return base"
   ]
  },
  {
   "cell_type": "code",
   "execution_count": 25,
   "metadata": {
    "collapsed": true
   },
   "outputs": [],
   "source": [
    "def get_overview_round_match_time(soup):\n",
    "    match_time = soup.find_all(\"div\", {\"class\": \"small-text\"})\n",
    "    for item in match_time:\n",
    "        match_time = item.text\n",
    "    match_time = datetime.datetime.strptime(match_time, '%Y-%m-%d  %H:%MMap')  # match date and time\n",
    "    return match_time"
   ]
  },
  {
   "cell_type": "code",
   "execution_count": 39,
   "metadata": {},
   "outputs": [],
   "source": [
    "def get_overview_data(url): #SLICED\n",
    "    soup = get_soup(url)\n",
    "    match_time = get_overview_round_match_time(soup)\n",
    "    round_history = soup.find_all(\"div\", class_=\"round-history-team-row\")\n",
    "    team_scores = get_overview_round_for_loop(round_history, get_overview_round_scores)\n",
    "    team_endings = get_overview_round_for_loop(round_history, get_overview_round_endings)\n",
    "      \n",
    "    return {\n",
    "            'match_time': match_time,\n",
    "            'team_scores' : team_scores,\n",
    "            'team_endings': team_endings\n",
    "           }\n",
    "   \n"
   ]
  }
 ],
 "metadata": {
  "anaconda-cloud": {},
  "kernelspec": {
   "display_name": "Python 2",
   "language": "python",
   "name": "python2"
  },
  "language_info": {
   "codemirror_mode": {
    "name": "ipython",
    "version": 2
   },
   "file_extension": ".py",
   "mimetype": "text/x-python",
   "name": "python",
   "nbconvert_exporter": "python",
   "pygments_lexer": "ipython2",
   "version": "2.7.13"
  }
 },
 "nbformat": 4,
 "nbformat_minor": 1
}
