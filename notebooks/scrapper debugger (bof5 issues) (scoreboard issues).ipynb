{
 "cells": [
  {
   "cell_type": "code",
   "execution_count": 3,
   "metadata": {
    "collapsed": true
   },
   "outputs": [],
   "source": [
    "import cspython.scraper\n",
    "import pandas as pd\n",
    "import numpy as np\n",
    "import uuid\n",
    "import sys\n",
    "import pdb\n",
    "sys.setrecursionlimit(15000)"
   ]
  },
  {
   "cell_type": "code",
   "execution_count": 4,
   "metadata": {
    "collapsed": false
   },
   "outputs": [
    {
     "name": "stdout",
     "output_type": "stream",
     "text": [
      "> <string>(1)<module>()\n",
      "(Pdb) continue\n",
      "https://www.hltv.org/results?offset=0&content=demo&team=6673&startDate=2017-05-08&endDate=2017-05-10\n",
      "https://www.hltv.org/matches/2310564/nrg-vs-cloud9-ecs-season-3-north-america\n",
      "https://www.hltv.org/events/2729/ecs-season-3-north-america#MapPool\n",
      "https://www.hltv.org/matches/2310564/nrg-vs-cloud9-ecs-season-3-north-america\n",
      "> c:\\users\\mckak\\cs_stuff\\cs_python\\cspython\\scraper.py(275)split_tables_scoreboard()\n",
      "-> if len(tables) == 7:\n",
      "(Pdb) len(tables)\n",
      "7\n",
      "(Pdb) continue\n",
      "> c:\\users\\mckak\\cs_stuff\\cs_python\\cspython\\scraper.py(285)split_tables_scoreboard()\n",
      "-> return [team_a_scoreboards, team_b_scoreboards] #these tables matchup positionally with the map names coming from match_info,\n",
      "(Pdb) continue\n",
      "https://www.hltv.org/stats/matches/mapstatsid/46059/nrg-vs-cloud9\n",
      "https://www.hltv.org/stats/matches/performance/mapstatsid/46059/nrg-vs-cloud9\n",
      "match 0 done\n",
      "https://www.hltv.org/matches/2310563/cloud9-vs-nrg-ecs-season-3-north-america\n",
      "https://www.hltv.org/events/2729/ecs-season-3-north-america#MapPool\n",
      "https://www.hltv.org/matches/2310563/cloud9-vs-nrg-ecs-season-3-north-america\n",
      "> c:\\users\\mckak\\cs_stuff\\cs_python\\cspython\\scraper.py(275)split_tables_scoreboard()\n",
      "-> if len(tables) == 7:\n",
      "(Pdb) len(tables)\n",
      "6\n",
      "(Pdb) tables[0]\n",
      "                                Cloud9    K-D  +/-   ADR   KAST  Rating2.0\n",
      "0        Jake 'Stewie2K' Yip  Stewie2K  25-24    1  86.2  75.0%       1.25\n",
      "1    Timothy 'autimatic' Ta  autimatic  15-22   -7  73.4  75.0%       0.97\n",
      "2    Jordan 'n0thing' Gilbert  n0thing  16-21   -5  57.8  71.4%       0.91\n",
      "3  Tyler 'Skadoodle' Latham  Skadoodle  13-18   -5  66.6  71.4%       0.89\n",
      "4       Mike 'shroud' Grzesiek  shroud  18-19   -1  61.5  53.6%       0.87\n",
      "(Pdb) tables[1]\n",
      "                                NRG    K-D  +/-   ADR   KAST  Rating2.0\n",
      "0  Vincent 'Brehze' Cayonte  Brehze  28-19    9  97.7  82.1%       1.54\n",
      "1       Jacob 'FugLy' Medina  FugLy  28-17   11  96.4  71.4%       1.35\n",
      "2           Peter 'ptr' Gurney  ptr  18-15    3  63.2  82.1%       1.12\n",
      "3    Derrick 'LILMAN' Boyne  LILMAN  17-15    2  60.7  71.4%       1.05\n",
      "4        Damian 'daps' Steele  daps  13-21   -8  85.6  82.1%       0.95\n",
      "(Pdb) tables[2]\n",
      "  Unnamed: 0 Unnamed: 1 Unnamed: 2 Unnamed: 3 Unnamed: 4\n",
      "0     shroud  autimatic    n0thing  Skadoodle   Stewie2K\n",
      "(Pdb) continue\n",
      "> c:\\users\\mckak\\cs_stuff\\cs_python\\cspython\\scraper.py(285)split_tables_scoreboard()\n",
      "-> return [team_a_scoreboards, team_b_scoreboards] #these tables matchup positionally with the map names coming from match_info,\n",
      "(Pdb) continue\n",
      "https://www.hltv.org/stats/matches/mapstatsid/46056/nrg-vs-cloud9\n",
      "https://www.hltv.org/stats/matches/performance/mapstatsid/46056/nrg-vs-cloud9\n",
      "match 1 done\n"
     ]
    }
   ],
   "source": [
    "team_name = 'NRG'\n",
    "startDate = '2017-05-08'\n",
    "endDate = '2017-05-10'\n",
    "pdb.run('series = cspython.scraper.scrape_series_data(team_name, startDate, endDate, verbose=True)')\n"
   ]
  },
  {
   "cell_type": "code",
   "execution_count": null,
   "metadata": {
    "collapsed": true
   },
   "outputs": [],
   "source": [
    "series = cspython.scraper.scrape_series_data(team_name, startDate, endDate, verbose=True)"
   ]
  }
 ],
 "metadata": {
  "anaconda-cloud": {},
  "kernelspec": {
   "display_name": "Python [conda root]",
   "language": "python",
   "name": "conda-root-py"
  },
  "language_info": {
   "codemirror_mode": {
    "name": "ipython",
    "version": 2
   },
   "file_extension": ".py",
   "mimetype": "text/x-python",
   "name": "python",
   "nbconvert_exporter": "python",
   "pygments_lexer": "ipython2",
   "version": "2.7.12"
  }
 },
 "nbformat": 4,
 "nbformat_minor": 1
}
