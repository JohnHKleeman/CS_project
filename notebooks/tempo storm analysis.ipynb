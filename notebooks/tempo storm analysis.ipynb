{
 "cells": [
  {
   "cell_type": "code",
   "execution_count": 1,
   "metadata": {
    "collapsed": false
   },
   "outputs": [],
   "source": [
    "import cPickle as pkl\n",
    "from cspython.scraper import modifiedSoup\n",
    "from cspython.data_processing import process_scrapped, change_team_name_dataset\n",
    "import cPickle as pkl\n",
    "import sys\n",
    "sys.setrecursionlimit(15000)\n",
    "import pandas as pd\n",
    "import cspython.analysis as a"
   ]
  },
  {
   "cell_type": "code",
   "execution_count": 2,
   "metadata": {
    "collapsed": false
   },
   "outputs": [],
   "source": [
    "with open('../cspython/Tempo Storm_2016-10-01_to_2017-10-13.pkl', 'rb') as f:\n",
    "    d = pkl.load(f)\n",
    "    \n",
    "with open('../cspython/ex-paiN_2016-10-01_to_2017-10-13.pkl', 'rb') as f:\n",
    "    d1 = pkl.load(f)\n",
    "    \n",
    "with open('../cspython/paiN_2016-10-01_to_2017-10-13.pkl', 'rb') as f:\n",
    "    d2 = pkl.load(f)"
   ]
  },
  {
   "cell_type": "code",
   "execution_count": 3,
   "metadata": {
    "collapsed": true
   },
   "outputs": [],
   "source": [
    "cur_roster = ['dzt', 'land1n', 'tatazin', 'shz', 's1', 'bLecker']"
   ]
  },
  {
   "cell_type": "code",
   "execution_count": 4,
   "metadata": {
    "collapsed": false
   },
   "outputs": [],
   "source": [
    "name = 'Tempo Storm'\n",
    "d1 = change_team_name_dataset(name, 'paiN', d1)\n",
    "d2 = change_team_name_dataset(name, 'ex-paiN', d2)"
   ]
  },
  {
   "cell_type": "code",
   "execution_count": 104,
   "metadata": {
    "collapsed": true
   },
   "outputs": [],
   "source": [
    "with open('Tempo_combined.pkl', 'wb') as f:\n",
    "    pkl.dump(d+d1+d2, f)"
   ]
  },
  {
   "cell_type": "code",
   "execution_count": 6,
   "metadata": {
    "collapsed": false
   },
   "outputs": [],
   "source": [
    "def analyze_data(d, team, cur_roster):\n",
    "    ov, big_data = process_scrapped(d)\n",
    "    return a.map_roster_analysis(big_data,team, cur_roster)"
   ]
  },
  {
   "cell_type": "code",
   "execution_count": 91,
   "metadata": {
    "collapsed": false
   },
   "outputs": [],
   "source": [
    "map_ratios = analyze_data(d+d1+d2, 'Tempo Storm', cur_roster)\n",
    "baseline = pd.read_csv('spreadsheets/NRG.csv', index_col = 0)"
   ]
  },
  {
   "cell_type": "code",
   "execution_count": 101,
   "metadata": {
    "collapsed": true
   },
   "outputs": [],
   "source": [
    "def get_diff(baseline, cur_frame, team_name):\n",
    "    diff = baseline - cur_frame\n",
    "    diff = pd.concat([diff.iloc[:,:-2], cur_frame.iloc[:,-2:]], axis=1)\n",
    "\n",
    "    multi_idx_tuples = zip([team_name]*len(diff),diff.index.tolist())\n",
    "    diff.index = pd.MultiIndex.from_tuples(multi_idx_tuples)\n",
    "    diff.loc[:,'sum_advantage'] = diff.loc[:, 't_win_ratio'] + diff.loc[:,'ct_win_ratio']\n",
    "    diff.loc[:,'weighted_sum_advantage'] = diff.loc[:, 'roster_weighted_t_win_ratio'] + diff.loc[:,'roster_weighted_ct_win_ratio']\n",
    "    diff = diff.loc[:, ['t_win_ratio',\n",
    "                         'ct_win_ratio',\n",
    "                         'sum_advantage',\n",
    "                         'roster_weighted_t_win_ratio',\n",
    "                         'roster_weighted_ct_win_ratio',\n",
    "                         'weighted_sum_advantage',\n",
    "                         't_rounds_played',\n",
    "                         'ct_rounds_played',\n",
    "                         ]]\n",
    "    return diff.round(3)"
   ]
  },
  {
   "cell_type": "code",
   "execution_count": 102,
   "metadata": {
    "collapsed": false
   },
   "outputs": [],
   "source": [
    "diff = get_diff(baseline, map_ratios, 'Tempo Storm')"
   ]
  },
  {
   "cell_type": "code",
   "execution_count": 103,
   "metadata": {
    "collapsed": false
   },
   "outputs": [],
   "source": [
    "diff.to_excel('Tempo_Storm_map_advantage.xlsx')"
   ]
  },
  {
   "cell_type": "code",
   "execution_count": null,
   "metadata": {
    "collapsed": true
   },
   "outputs": [],
   "source": []
  }
 ],
 "metadata": {
  "kernelspec": {
   "display_name": "Python [conda root]",
   "language": "python",
   "name": "conda-root-py"
  },
  "language_info": {
   "codemirror_mode": {
    "name": "ipython",
    "version": 2
   },
   "file_extension": ".py",
   "mimetype": "text/x-python",
   "name": "python",
   "nbconvert_exporter": "python",
   "pygments_lexer": "ipython2",
   "version": "2.7.12"
  }
 },
 "nbformat": 4,
 "nbformat_minor": 1
}
